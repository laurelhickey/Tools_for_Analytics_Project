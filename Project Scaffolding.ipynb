{
 "cells": [
  {
   "cell_type": "markdown",
   "id": "32f8ca24",
   "metadata": {},
   "source": [
    "# Understanding Hired Rides in NYC\n",
    "\n",
    "_[Project prompt](https://docs.google.com/document/d/1VERPjEZcC1XSs4-02aM-DbkNr_yaJVbFjLJxaYQswqA/edit#)_\n",
    "\n",
    "_This scaffolding notebook may be used to help setup your final project. It's **totally optional** whether you make use of this or not._\n",
    "\n",
    "_If you do use this notebook, everything provided is optional as well - you may remove or add prose and code as you wish._\n",
    "\n",
    "_Anything in italics (prose) or comments (in code) is meant to provide you with guidance. **Remove the italic lines and provided comments** before submitting the project, if you choose to use this scaffolding. We don't need the guidance when grading._\n",
    "\n",
    "_**All code below should be consider \"pseudo-code\" - not functional by itself, and only a suggestion at the approach.**_"
   ]
  },
  {
   "cell_type": "markdown",
   "id": "25627e8d",
   "metadata": {},
   "source": [
    "## Requirements\n",
    "\n",
    "_A checklist of requirements to keep you on track. Remove this whole cell before submitting the project._\n",
    "\n",
    "* Code clarity: make sure the code conforms to:\n",
    "    * [ ] [PEP 8](https://peps.python.org/pep-0008/) - You might find [this resource](https://realpython.com/python-pep8/) helpful as well as [this](https://github.com/dnanhkhoa/nb_black) or [this](https://jupyterlab-code-formatter.readthedocs.io/en/latest/) tool\n",
    "    * [ ] [PEP 257](https://peps.python.org/pep-0257/)\n",
    "    * [ ] Break each task down into logical functions\n",
    "* The following files are submitted for the project (see the project's GDoc for more details):\n",
    "    * [ ] `README.md`\n",
    "    * [ ] `requirements.txt`\n",
    "    * [ ] `.gitignore`\n",
    "    * [ ] `schema.sql`\n",
    "    * [ ] 6 query files (using the `.sql` extension), appropriately named for the purpose of the query\n",
    "    * [x] Jupyter Notebook containing the project (this file!)\n",
    "* [x] You can edit this cell and add a `x` inside the `[ ]` like this task to denote a completed task"
   ]
  },
  {
   "cell_type": "markdown",
   "id": "2f75fd94",
   "metadata": {},
   "source": [
    "## Project Setup"
   ]
  },
  {
   "cell_type": "code",
   "execution_count": 4,
   "id": "66dcde05",
   "metadata": {},
   "outputs": [],
   "source": [
    "# all import statements needed for the project, for example:\n",
    "# !pip install matplotlib\n",
    "# !pip install requests\n",
    "# !pip install bs4\n",
    "# !pip install sqlalchemy\n",
    "# !pip install pandas\n",
    "# !pip install geojsonio --upgrade\n",
    "# !pip install geopandas\n",
    "import math\n",
    "from math import *\n",
    "import sqlite3\n",
    "import sqlalchemy\n",
    "from sqlalchemy.orm import sessionmaker\n",
    "import bs4\n",
    "import matplotlib.pyplot as plt\n",
    "import pandas as pd\n",
    "import json\n",
    "import requests\n",
    "import sqlalchemy as db\n",
    "import re\n",
    "import datetime\n",
    "import geojsonio\n",
    "import numpy as np\n",
    "import geopandas as gpd"
   ]
  },
  {
   "cell_type": "code",
   "execution_count": 3,
   "id": "8b622a58",
   "metadata": {},
   "outputs": [],
   "source": [
    "# any general notebook setup, like log formatting"
   ]
  },
  {
   "cell_type": "code",
   "execution_count": 2,
   "id": "3f1242c4",
   "metadata": {},
   "outputs": [],
   "source": [
    "# any constants you might need, for example:\n",
    "\n",
    "TAXI_URL = \"https://www1.nyc.gov/site/tlc/about/tlc-trip-record-data.page\"\n",
    "# add other constants to refer to any local data, e.g. uber & weather\n",
    "UBER_CSV = \"uber_rides_sample.csv\"\n",
    "# weather csv data file\n",
    "# 2009_weather to 2015_weather (just pick the first 6 months)\n",
    "csv__= '/Users/morax/Documents/哥大/IEORE4501/IEOR4501 HW/IEOR4501 Project/'\n",
    "csv09_file = csv__ + '2009_weather.csv'\n",
    "csv10_file = csv__ + '2010_weather.csv'\n",
    "csv11_file = csv__ + '2011_weather.csv'\n",
    "csv12_file = csv__ + '2012_weather.csv'\n",
    "csv13_file = csv__ + '2013_weather.csv'\n",
    "csv14_file = csv__ + '2014_weather.csv'\n",
    "csv15_file = csv__ + '2015_weather.csv'\n",
    "\n",
    "NEW_YORK_BOX_COORDS = ((40.560445, -74.242330), (40.908524, -73.717047))\n",
    "\n",
    "DATABASE_URL = \"sqlite:///project.db\"\n",
    "DATABASE_SCHEMA_FILE = \"schema.sql\"\n",
    "QUERY_DIRECTORY = \"queries\""
   ]
  },
  {
   "cell_type": "markdown",
   "id": "26ad10ea",
   "metadata": {},
   "source": [
    "## Part 1: Data Preprocessing"
   ]
  },
  {
   "cell_type": "markdown",
   "id": "ecf38168",
   "metadata": {},
   "source": [
    "_A checklist of requirements to keep you on track. Remove this whole cell before submitting the project. The order of these tasks aren't necessarily the order in which they need to be done. It's okay to do them in an order that makes sense to you._\n",
    "\n",
    "* [x] Define a function that calculates the distance between two coordinates in kilometers that **only uses the `math` module** from the standard library.\n",
    "* [ ] Taxi data:\n",
    "    * [x] Use the `re` module, and the packages `requests`, BeautifulSoup (`bs4`), and (optionally) `pandas` to programmatically download the required CSV files & load into memory.\n",
    "    * You may need to do this one file at a time - download, clean, sample. You can cache the sampling by saving it as a CSV file (and thereby freeing up memory on your computer) before moving onto the next file. \n",
    "* [x] Weather & Uber data:\n",
    "    * [x] Download the data manually in the link provided in the project doc.\n",
    "* [ ] All data:\n",
    "    * [x] Load the data using `pandas`\n",
    "    * [x] Clean the data, including:\n",
    "        * Remove unnecessary columns\n",
    "        * Remove invalid data points (take a moment to consider what's invalid)\n",
    "        * Normalize column names\n",
    "        * (Taxi & Uber data) Remove trips that start and/or end outside the designated [coordinate box](http://bboxfinder.com/#40.560445,-74.242330,40.908524,-73.717047)\n",
    "    * [x] (Taxi data) Sample the data so that you have roughly the same amount of data points over the given date range for both Taxi data and Uber data.\n",
    "* [x] Weather data:\n",
    "    * [x] Split into two `pandas` DataFrames: one for required hourly data, and one for the required daily daya.\n",
    "    * [x] You may find that the weather data you need later on does not exist at the frequency needed (daily vs hourly). You may calculate/generate samples from one to populate the other. Just document what you’re doing so we can follow along. "
   ]
  },
  {
   "cell_type": "markdown",
   "id": "32074561",
   "metadata": {},
   "source": [
    "### Calculating distance\n",
    "In this section in order to calculate the distance between two points in the uber data, we must use the longitude and latitude of the pickup and drop off locations.  Therefore, by using math module in order to calculate the distance between these two coordinates is given in the function calculate_distance().  It is important to note that, there are more accurate ways to calculate the distance based upon longitude and latitude that do not use just the math module.  In addtion, in the taxi data sets, the distance is already calculated, however, it is given in miles, so the miles_to_km() function converts the miles to kilometers so that a direct comparison between taxis and ubers can be made.  It should also be noted that the taxi distance is a distance driving on city streets whereas the uber distance is just a birdseye view distance, therefore, the distances in the taxi data set are likely to be slightly longer.  The function, add_distance_column() can be used in order to add the calculated distance to the uber data set.  This function uses the pickup and drop off longitudes and latitudes in order to build the additional column row by row."
   ]
  },
  {
   "cell_type": "code",
   "execution_count": 5,
   "id": "4cbbe6cc",
   "metadata": {},
   "outputs": [],
   "source": [
    "def calculate_distance(from_coord, to_coord):\n",
    "    # Longitude is x, Latitude is y, \n",
    "    # Longitude x\n",
    "    long = (to_coord[0]-from_coord[0])*40000*math.cos((to_coord[1]+from_coord[1])*math.pi/360)/360\n",
    "    # Latitude y\n",
    "    lat = (to_coord[1]-from_coord[1])*40000/360\n",
    "    # so the distance is just the side z followed by x^2+y^2=z^2\n",
    "    distance = sqrt(long*long+lat*lat)\n",
    "    return distance\n",
    "\n",
    "from math import sin, cos, sqrt, atan2, radians\n",
    "def calculate_distance2(from_coord, to_coord):\n",
    "    # approximate radius of earth in km\n",
    "    R = 6373.0\n",
    "\n",
    "    # Longitude is x, Latitude is y, \n",
    "    # math.radians() converts a degree value into radians. \n",
    "    lon1 = radians(from_coord[0])\n",
    "    lat1 = radians(from_coord[1])\n",
    "    lon2 = radians(to_coord[0])\n",
    "    lat2 = radians(to_coord[1])\n",
    "\n",
    "    dlat = lat2 - lat1\n",
    "    dlon = lon2 - lon1\n",
    "\n",
    "    a = sin(dlat / 2)**2 + cos(lat1) * cos(lat2) * sin(dlon / 2)**2\n",
    "    c = 2 * atan2(sqrt(a), sqrt(1 - a))\n",
    "\n",
    "    distance = R * c\n",
    "\n",
    "    return distance\n",
    "\n",
    "# well sometime calculate_distance is better than calculate_distance2"
   ]
  },
  {
   "cell_type": "code",
   "execution_count": 6,
   "id": "fc07e5cd",
   "metadata": {},
   "outputs": [],
   "source": [
    "def miles_to_km(distance_miles):\n",
    "    distance_km = distance_miles /0.62137119\n",
    "    return distance_km"
   ]
  },
  {
   "cell_type": "code",
   "execution_count": 7,
   "id": "6d6abf52",
   "metadata": {},
   "outputs": [],
   "source": [
    "# Need to fix the variable names called in lambda function\n",
    "def add_distance_column(dataframe): \n",
    "    dataframe['Distance'] = dataframe.apply(lambda x: calculate_distance((x['pickup_longitude'], x[\"pickup_latitude\"]), (x['dropoff_longitude'], x['dropoff_latitude'])),axis=1)\n"
   ]
  },
  {
   "cell_type": "markdown",
   "id": "93daa717",
   "metadata": {},
   "source": [
    "### Processing Taxi Data\n",
    "\n",
    "In this section, the taxi data set is being processed, the first step in processing the taxi data is first finding the links, then once those links are found they must be read in, and processed by combining each dataset for each month and year into one larger dataset and changing the distance column from miles to kilometers.\n",
    "\n",
    "-**get_taxi_html() and find_taxi_parquet_urls():** These functions are implementing web scraping in order to find the links for each data set of yellow taxi cabs. The first function, get_taxi_html(), is returning the html content of the web page that has the Taxi data. The second function, find_taxi_parquet_links is from the web page pulling out all of the links, then iterating through those links to see which are datasets for yellow taxi cabs from January 2009 to June 2015.\n",
    "\n",
    "-**get_and_clean_month_taxi_data(url)** This function reads in the data for each month of each year.  In addition, this funciton also takes a sample of the dataset to match the size of the Uber's dataset.  This means that as the Uber dataset has 1.8 million data points if it is assumed that those data points are evenly distributed across the 78 months, each of the taxi datasets should have approximatly 23076.9 rows in it, therefore, each parquet file is randomly sampled to pick out 23080 rows.\n",
    "\n",
    "-**get_and_clean_taxi_data()** This function concatinates all of the data for each month of each year into one large data set. "
   ]
  },
  {
   "cell_type": "code",
   "execution_count": 8,
   "id": "cbd0d198",
   "metadata": {},
   "outputs": [],
   "source": [
    "def get_taxi_html():\n",
    "    response = requests.get(TAXI_URL)\n",
    "    html = response.content\n",
    "    # check if the request was succeeded\n",
    "    if not response.status_code == 200:\n",
    "        return None\n",
    "    return html\n",
    "\n",
    "\n",
    "def find_taxi_parquet_urls():\n",
    "    soup = bs4.BeautifulSoup(get_taxi_html(), 'html.parser')\n",
    "    yellow_pattern = r\"yellow_tripdata\"\n",
    "    # from Jan. 2009 to June 2015\n",
    "    year_pattern = r\"200\\d{1}\" # from Jan. 2009 to Dec. 2009\n",
    "    year_pattern2 = r\"201[01234]\" # from Jan. 2010 to Dec.2014\n",
    "    pattern2015 = r\"2015-0[123456]\" # from Jan. 2015 to June 2015\n",
    "    link_list = [a['href'] for a in soup.find_all('a')[30:-25]]\n",
    "    new_links = list()\n",
    "    for item in link_list:\n",
    "        # iterate through each year 2009 - 2015\n",
    "        if (re.search(yellow_pattern, item) != None): \n",
    "            if (re.search(year_pattern, item) != None):\n",
    "                new_links.append(item)\n",
    "            if (re.search(year_pattern2, item) != None):\n",
    "                new_links.append(item)\n",
    "            if (re.search(pattern2015, item) != None):\n",
    "                new_links.append(item)\n",
    "    return new_links\n"
   ]
  },
  {
   "cell_type": "code",
   "execution_count": 14,
   "id": "2f40130a",
   "metadata": {},
   "outputs": [],
   "source": [
    "def get_and_clean_month_taxi_data(url):\n",
    "    dataframe = pd.read_parquet(url,engine='pyarrow')\n",
    "    # Taking a sample of the taxi data:\n",
    "    return dataframe.sample(n = 23080, random_state=39)\n"
   ]
  },
  {
   "cell_type": "code",
   "execution_count": 15,
   "id": "be57e277",
   "metadata": {},
   "outputs": [
    {
     "data": {
      "text/html": [
       "<div>\n",
       "<style scoped>\n",
       "    .dataframe tbody tr th:only-of-type {\n",
       "        vertical-align: middle;\n",
       "    }\n",
       "\n",
       "    .dataframe tbody tr th {\n",
       "        vertical-align: top;\n",
       "    }\n",
       "\n",
       "    .dataframe thead th {\n",
       "        text-align: right;\n",
       "    }\n",
       "</style>\n",
       "<table border=\"1\" class=\"dataframe\">\n",
       "  <thead>\n",
       "    <tr style=\"text-align: right;\">\n",
       "      <th></th>\n",
       "      <th>vendor_id</th>\n",
       "      <th>pickup_datetime</th>\n",
       "      <th>dropoff_datetime</th>\n",
       "      <th>passenger_count</th>\n",
       "      <th>trip_distance</th>\n",
       "      <th>pickup_longitude</th>\n",
       "      <th>pickup_latitude</th>\n",
       "      <th>rate_code</th>\n",
       "      <th>store_and_fwd_flag</th>\n",
       "      <th>dropoff_longitude</th>\n",
       "      <th>dropoff_latitude</th>\n",
       "      <th>payment_type</th>\n",
       "      <th>fare_amount</th>\n",
       "      <th>surcharge</th>\n",
       "      <th>mta_tax</th>\n",
       "      <th>tip_amount</th>\n",
       "      <th>tolls_amount</th>\n",
       "      <th>total_amount</th>\n",
       "    </tr>\n",
       "  </thead>\n",
       "  <tbody>\n",
       "    <tr>\n",
       "      <th>12829990</th>\n",
       "      <td>CMT</td>\n",
       "      <td>2010-01-10 23:17:43</td>\n",
       "      <td>2010-01-10 23:29:12</td>\n",
       "      <td>1</td>\n",
       "      <td>4.90</td>\n",
       "      <td>-73.990488</td>\n",
       "      <td>40.728892</td>\n",
       "      <td>1</td>\n",
       "      <td>0</td>\n",
       "      <td>-73.954847</td>\n",
       "      <td>40.734354</td>\n",
       "      <td>Cas</td>\n",
       "      <td>13.7</td>\n",
       "      <td>0.5</td>\n",
       "      <td>0.5</td>\n",
       "      <td>0.00</td>\n",
       "      <td>0.00</td>\n",
       "      <td>14.70</td>\n",
       "    </tr>\n",
       "    <tr>\n",
       "      <th>2721591</th>\n",
       "      <td>CMT</td>\n",
       "      <td>2010-01-16 13:38:51</td>\n",
       "      <td>2010-01-16 14:01:37</td>\n",
       "      <td>2</td>\n",
       "      <td>5.10</td>\n",
       "      <td>-73.991760</td>\n",
       "      <td>40.738275</td>\n",
       "      <td>1</td>\n",
       "      <td>0</td>\n",
       "      <td>-73.959286</td>\n",
       "      <td>40.694510</td>\n",
       "      <td>Cre</td>\n",
       "      <td>16.9</td>\n",
       "      <td>0.0</td>\n",
       "      <td>0.5</td>\n",
       "      <td>4.35</td>\n",
       "      <td>0.00</td>\n",
       "      <td>21.75</td>\n",
       "    </tr>\n",
       "    <tr>\n",
       "      <th>7905103</th>\n",
       "      <td>VTS</td>\n",
       "      <td>2010-01-14 05:47:00</td>\n",
       "      <td>2010-01-14 05:48:00</td>\n",
       "      <td>1</td>\n",
       "      <td>0.00</td>\n",
       "      <td>-73.872432</td>\n",
       "      <td>40.774392</td>\n",
       "      <td>1</td>\n",
       "      <td>None</td>\n",
       "      <td>-73.872427</td>\n",
       "      <td>40.774370</td>\n",
       "      <td>Cre</td>\n",
       "      <td>35.0</td>\n",
       "      <td>0.0</td>\n",
       "      <td>0.5</td>\n",
       "      <td>0.00</td>\n",
       "      <td>0.00</td>\n",
       "      <td>35.50</td>\n",
       "    </tr>\n",
       "    <tr>\n",
       "      <th>7402547</th>\n",
       "      <td>CMT</td>\n",
       "      <td>2010-01-22 19:52:43</td>\n",
       "      <td>2010-01-22 20:12:01</td>\n",
       "      <td>3</td>\n",
       "      <td>3.40</td>\n",
       "      <td>-73.968952</td>\n",
       "      <td>40.801148</td>\n",
       "      <td>1</td>\n",
       "      <td>0</td>\n",
       "      <td>-73.985232</td>\n",
       "      <td>40.759953</td>\n",
       "      <td>Cre</td>\n",
       "      <td>12.9</td>\n",
       "      <td>1.0</td>\n",
       "      <td>0.5</td>\n",
       "      <td>2.16</td>\n",
       "      <td>0.00</td>\n",
       "      <td>16.56</td>\n",
       "    </tr>\n",
       "    <tr>\n",
       "      <th>2285197</th>\n",
       "      <td>VTS</td>\n",
       "      <td>2010-01-29 19:28:00</td>\n",
       "      <td>2010-01-29 20:01:00</td>\n",
       "      <td>1</td>\n",
       "      <td>18.64</td>\n",
       "      <td>-73.806828</td>\n",
       "      <td>40.653357</td>\n",
       "      <td>1</td>\n",
       "      <td>None</td>\n",
       "      <td>-73.967010</td>\n",
       "      <td>40.784395</td>\n",
       "      <td>Cre</td>\n",
       "      <td>45.0</td>\n",
       "      <td>0.0</td>\n",
       "      <td>0.5</td>\n",
       "      <td>5.00</td>\n",
       "      <td>4.57</td>\n",
       "      <td>55.07</td>\n",
       "    </tr>\n",
       "    <tr>\n",
       "      <th>3149604</th>\n",
       "      <td>CMT</td>\n",
       "      <td>2010-01-31 15:17:00</td>\n",
       "      <td>2010-01-31 15:30:52</td>\n",
       "      <td>1</td>\n",
       "      <td>8.10</td>\n",
       "      <td>-73.863600</td>\n",
       "      <td>40.769909</td>\n",
       "      <td>1</td>\n",
       "      <td>0</td>\n",
       "      <td>-73.944598</td>\n",
       "      <td>40.779506</td>\n",
       "      <td>Cre</td>\n",
       "      <td>18.9</td>\n",
       "      <td>0.0</td>\n",
       "      <td>0.5</td>\n",
       "      <td>5.00</td>\n",
       "      <td>4.57</td>\n",
       "      <td>28.97</td>\n",
       "    </tr>\n",
       "    <tr>\n",
       "      <th>5013319</th>\n",
       "      <td>VTS</td>\n",
       "      <td>2010-01-10 15:10:00</td>\n",
       "      <td>2010-01-10 15:23:00</td>\n",
       "      <td>1</td>\n",
       "      <td>2.98</td>\n",
       "      <td>-74.006727</td>\n",
       "      <td>40.733662</td>\n",
       "      <td>1</td>\n",
       "      <td>None</td>\n",
       "      <td>-73.971965</td>\n",
       "      <td>40.755068</td>\n",
       "      <td>CAS</td>\n",
       "      <td>10.5</td>\n",
       "      <td>0.0</td>\n",
       "      <td>0.5</td>\n",
       "      <td>0.00</td>\n",
       "      <td>0.00</td>\n",
       "      <td>11.00</td>\n",
       "    </tr>\n",
       "    <tr>\n",
       "      <th>8448560</th>\n",
       "      <td>CMT</td>\n",
       "      <td>2010-01-21 17:22:36</td>\n",
       "      <td>2010-01-21 17:26:17</td>\n",
       "      <td>1</td>\n",
       "      <td>1.00</td>\n",
       "      <td>-73.965315</td>\n",
       "      <td>40.766007</td>\n",
       "      <td>1</td>\n",
       "      <td>0</td>\n",
       "      <td>-73.954248</td>\n",
       "      <td>40.775567</td>\n",
       "      <td>Cas</td>\n",
       "      <td>4.5</td>\n",
       "      <td>1.0</td>\n",
       "      <td>0.5</td>\n",
       "      <td>0.00</td>\n",
       "      <td>0.00</td>\n",
       "      <td>6.00</td>\n",
       "    </tr>\n",
       "    <tr>\n",
       "      <th>14832439</th>\n",
       "      <td>CMT</td>\n",
       "      <td>2010-01-20 19:30:22</td>\n",
       "      <td>2010-01-20 19:54:59</td>\n",
       "      <td>1</td>\n",
       "      <td>6.60</td>\n",
       "      <td>-74.007475</td>\n",
       "      <td>40.726556</td>\n",
       "      <td>1</td>\n",
       "      <td>0</td>\n",
       "      <td>-73.946437</td>\n",
       "      <td>40.772589</td>\n",
       "      <td>Cre</td>\n",
       "      <td>18.9</td>\n",
       "      <td>1.0</td>\n",
       "      <td>0.5</td>\n",
       "      <td>4.08</td>\n",
       "      <td>0.00</td>\n",
       "      <td>24.48</td>\n",
       "    </tr>\n",
       "    <tr>\n",
       "      <th>11358246</th>\n",
       "      <td>VTS</td>\n",
       "      <td>2010-01-12 18:19:00</td>\n",
       "      <td>2010-01-12 18:50:00</td>\n",
       "      <td>1</td>\n",
       "      <td>8.89</td>\n",
       "      <td>-73.959095</td>\n",
       "      <td>40.780137</td>\n",
       "      <td>1</td>\n",
       "      <td>None</td>\n",
       "      <td>-73.990018</td>\n",
       "      <td>40.696097</td>\n",
       "      <td>Cre</td>\n",
       "      <td>23.7</td>\n",
       "      <td>1.0</td>\n",
       "      <td>0.5</td>\n",
       "      <td>3.00</td>\n",
       "      <td>0.00</td>\n",
       "      <td>28.20</td>\n",
       "    </tr>\n",
       "  </tbody>\n",
       "</table>\n",
       "</div>"
      ],
      "text/plain": [
       "         vendor_id      pickup_datetime     dropoff_datetime  passenger_count  \\\n",
       "12829990       CMT  2010-01-10 23:17:43  2010-01-10 23:29:12                1   \n",
       "2721591        CMT  2010-01-16 13:38:51  2010-01-16 14:01:37                2   \n",
       "7905103        VTS  2010-01-14 05:47:00  2010-01-14 05:48:00                1   \n",
       "7402547        CMT  2010-01-22 19:52:43  2010-01-22 20:12:01                3   \n",
       "2285197        VTS  2010-01-29 19:28:00  2010-01-29 20:01:00                1   \n",
       "3149604        CMT  2010-01-31 15:17:00  2010-01-31 15:30:52                1   \n",
       "5013319        VTS  2010-01-10 15:10:00  2010-01-10 15:23:00                1   \n",
       "8448560        CMT  2010-01-21 17:22:36  2010-01-21 17:26:17                1   \n",
       "14832439       CMT  2010-01-20 19:30:22  2010-01-20 19:54:59                1   \n",
       "11358246       VTS  2010-01-12 18:19:00  2010-01-12 18:50:00                1   \n",
       "\n",
       "          trip_distance  pickup_longitude  pickup_latitude rate_code  \\\n",
       "12829990           4.90        -73.990488        40.728892         1   \n",
       "2721591            5.10        -73.991760        40.738275         1   \n",
       "7905103            0.00        -73.872432        40.774392         1   \n",
       "7402547            3.40        -73.968952        40.801148         1   \n",
       "2285197           18.64        -73.806828        40.653357         1   \n",
       "3149604            8.10        -73.863600        40.769909         1   \n",
       "5013319            2.98        -74.006727        40.733662         1   \n",
       "8448560            1.00        -73.965315        40.766007         1   \n",
       "14832439           6.60        -74.007475        40.726556         1   \n",
       "11358246           8.89        -73.959095        40.780137         1   \n",
       "\n",
       "         store_and_fwd_flag  dropoff_longitude  dropoff_latitude payment_type  \\\n",
       "12829990                  0         -73.954847         40.734354          Cas   \n",
       "2721591                   0         -73.959286         40.694510          Cre   \n",
       "7905103                None         -73.872427         40.774370          Cre   \n",
       "7402547                   0         -73.985232         40.759953          Cre   \n",
       "2285197                None         -73.967010         40.784395          Cre   \n",
       "3149604                   0         -73.944598         40.779506          Cre   \n",
       "5013319                None         -73.971965         40.755068          CAS   \n",
       "8448560                   0         -73.954248         40.775567          Cas   \n",
       "14832439                  0         -73.946437         40.772589          Cre   \n",
       "11358246               None         -73.990018         40.696097          Cre   \n",
       "\n",
       "          fare_amount  surcharge  mta_tax  tip_amount  tolls_amount  \\\n",
       "12829990         13.7        0.5      0.5        0.00          0.00   \n",
       "2721591          16.9        0.0      0.5        4.35          0.00   \n",
       "7905103          35.0        0.0      0.5        0.00          0.00   \n",
       "7402547          12.9        1.0      0.5        2.16          0.00   \n",
       "2285197          45.0        0.0      0.5        5.00          4.57   \n",
       "3149604          18.9        0.0      0.5        5.00          4.57   \n",
       "5013319          10.5        0.0      0.5        0.00          0.00   \n",
       "8448560           4.5        1.0      0.5        0.00          0.00   \n",
       "14832439         18.9        1.0      0.5        4.08          0.00   \n",
       "11358246         23.7        1.0      0.5        3.00          0.00   \n",
       "\n",
       "          total_amount  \n",
       "12829990         14.70  \n",
       "2721591          21.75  \n",
       "7905103          35.50  \n",
       "7402547          16.56  \n",
       "2285197          55.07  \n",
       "3149604          28.97  \n",
       "5013319          11.00  \n",
       "8448560           6.00  \n",
       "14832439         24.48  \n",
       "11358246         28.20  "
      ]
     },
     "execution_count": 15,
     "metadata": {},
     "output_type": "execute_result"
    }
   ],
   "source": [
    "# print(find_taxi_parquet_urls())\n",
    "test_parquet= get_and_clean_month_taxi_data('https://d37ci6vzurychx.cloudfront.net/trip-data/yellow_tripdata_2015-01.parquet')\n",
    "test_parquet= get_and_clean_month_taxi_data('https://d37ci6vzurychx.cloudfront.net/trip-data/yellow_tripdata_2010-01.parquet')\n",
    "\n",
    "test_parquet.head(10)"
   ]
  },
  {
   "cell_type": "code",
   "execution_count": 19,
   "id": "204b7558",
   "metadata": {},
   "outputs": [
    {
     "ename": "AttributeError",
     "evalue": "'str' object has no attribute 'hour'",
     "output_type": "error",
     "traceback": [
      "\u001b[0;31m---------------------------------------------------------------------------\u001b[0m",
      "\u001b[0;31mAttributeError\u001b[0m                            Traceback (most recent call last)",
      "\u001b[1;32m/Users/morax/Documents/GitHub/Tools_for_Analytics_Project/Project Scaffolding.ipynb Cell 17\u001b[0m in \u001b[0;36m<cell line: 2>\u001b[0;34m()\u001b[0m\n\u001b[1;32m      <a href='vscode-notebook-cell:/Users/morax/Documents/GitHub/Tools_for_Analytics_Project/Project%20Scaffolding.ipynb#Y441sZmlsZQ%3D%3D?line=0'>1</a>\u001b[0m \u001b[39m# test_parquet[\"tpep_dropoff_datetime\"].dtype()\u001b[39;00m\n\u001b[0;32m----> <a href='vscode-notebook-cell:/Users/morax/Documents/GitHub/Tools_for_Analytics_Project/Project%20Scaffolding.ipynb#Y441sZmlsZQ%3D%3D?line=1'>2</a>\u001b[0m test_parquet[\u001b[39m'\u001b[39m\u001b[39mpickup_hour\u001b[39m\u001b[39m'\u001b[39m] \u001b[39m=\u001b[39m test_parquet[\u001b[39m'\u001b[39;49m\u001b[39mpickup_datetime\u001b[39;49m\u001b[39m'\u001b[39;49m]\u001b[39m.\u001b[39;49mapply(\u001b[39mlambda\u001b[39;49;00m x:x\u001b[39m.\u001b[39;49mhour)\n\u001b[1;32m      <a href='vscode-notebook-cell:/Users/morax/Documents/GitHub/Tools_for_Analytics_Project/Project%20Scaffolding.ipynb#Y441sZmlsZQ%3D%3D?line=2'>3</a>\u001b[0m \u001b[39m#test_parquet.size\u001b[39;00m\n\u001b[1;32m      <a href='vscode-notebook-cell:/Users/morax/Documents/GitHub/Tools_for_Analytics_Project/Project%20Scaffolding.ipynb#Y441sZmlsZQ%3D%3D?line=3'>4</a>\u001b[0m \u001b[39m#len(find_taxi_parquet_urls())\u001b[39;00m\n\u001b[1;32m      <a href='vscode-notebook-cell:/Users/morax/Documents/GitHub/Tools_for_Analytics_Project/Project%20Scaffolding.ipynb#Y441sZmlsZQ%3D%3D?line=4'>5</a>\u001b[0m test_parquet\u001b[39m.\u001b[39mhead(\u001b[39m10\u001b[39m)\n",
      "File \u001b[0;32m~/opt/anaconda3/lib/python3.9/site-packages/pandas/core/series.py:4433\u001b[0m, in \u001b[0;36mSeries.apply\u001b[0;34m(self, func, convert_dtype, args, **kwargs)\u001b[0m\n\u001b[1;32m   4323\u001b[0m \u001b[39mdef\u001b[39;00m \u001b[39mapply\u001b[39m(\n\u001b[1;32m   4324\u001b[0m     \u001b[39mself\u001b[39m,\n\u001b[1;32m   4325\u001b[0m     func: AggFuncType,\n\u001b[0;32m   (...)\u001b[0m\n\u001b[1;32m   4328\u001b[0m     \u001b[39m*\u001b[39m\u001b[39m*\u001b[39mkwargs,\n\u001b[1;32m   4329\u001b[0m ) \u001b[39m-\u001b[39m\u001b[39m>\u001b[39m DataFrame \u001b[39m|\u001b[39m Series:\n\u001b[1;32m   4330\u001b[0m     \u001b[39m\"\"\"\u001b[39;00m\n\u001b[1;32m   4331\u001b[0m \u001b[39m    Invoke function on values of Series.\u001b[39;00m\n\u001b[1;32m   4332\u001b[0m \n\u001b[0;32m   (...)\u001b[0m\n\u001b[1;32m   4431\u001b[0m \u001b[39m    dtype: float64\u001b[39;00m\n\u001b[1;32m   4432\u001b[0m \u001b[39m    \"\"\"\u001b[39;00m\n\u001b[0;32m-> 4433\u001b[0m     \u001b[39mreturn\u001b[39;00m SeriesApply(\u001b[39mself\u001b[39;49m, func, convert_dtype, args, kwargs)\u001b[39m.\u001b[39;49mapply()\n",
      "File \u001b[0;32m~/opt/anaconda3/lib/python3.9/site-packages/pandas/core/apply.py:1082\u001b[0m, in \u001b[0;36mSeriesApply.apply\u001b[0;34m(self)\u001b[0m\n\u001b[1;32m   1078\u001b[0m \u001b[39mif\u001b[39;00m \u001b[39misinstance\u001b[39m(\u001b[39mself\u001b[39m\u001b[39m.\u001b[39mf, \u001b[39mstr\u001b[39m):\n\u001b[1;32m   1079\u001b[0m     \u001b[39m# if we are a string, try to dispatch\u001b[39;00m\n\u001b[1;32m   1080\u001b[0m     \u001b[39mreturn\u001b[39;00m \u001b[39mself\u001b[39m\u001b[39m.\u001b[39mapply_str()\n\u001b[0;32m-> 1082\u001b[0m \u001b[39mreturn\u001b[39;00m \u001b[39mself\u001b[39;49m\u001b[39m.\u001b[39;49mapply_standard()\n",
      "File \u001b[0;32m~/opt/anaconda3/lib/python3.9/site-packages/pandas/core/apply.py:1137\u001b[0m, in \u001b[0;36mSeriesApply.apply_standard\u001b[0;34m(self)\u001b[0m\n\u001b[1;32m   1131\u001b[0m         values \u001b[39m=\u001b[39m obj\u001b[39m.\u001b[39mastype(\u001b[39mobject\u001b[39m)\u001b[39m.\u001b[39m_values\n\u001b[1;32m   1132\u001b[0m         \u001b[39m# error: Argument 2 to \"map_infer\" has incompatible type\u001b[39;00m\n\u001b[1;32m   1133\u001b[0m         \u001b[39m# \"Union[Callable[..., Any], str, List[Union[Callable[..., Any], str]],\u001b[39;00m\n\u001b[1;32m   1134\u001b[0m         \u001b[39m# Dict[Hashable, Union[Union[Callable[..., Any], str],\u001b[39;00m\n\u001b[1;32m   1135\u001b[0m         \u001b[39m# List[Union[Callable[..., Any], str]]]]]\"; expected\u001b[39;00m\n\u001b[1;32m   1136\u001b[0m         \u001b[39m# \"Callable[[Any], Any]\"\u001b[39;00m\n\u001b[0;32m-> 1137\u001b[0m         mapped \u001b[39m=\u001b[39m lib\u001b[39m.\u001b[39;49mmap_infer(\n\u001b[1;32m   1138\u001b[0m             values,\n\u001b[1;32m   1139\u001b[0m             f,  \u001b[39m# type: ignore[arg-type]\u001b[39;49;00m\n\u001b[1;32m   1140\u001b[0m             convert\u001b[39m=\u001b[39;49m\u001b[39mself\u001b[39;49m\u001b[39m.\u001b[39;49mconvert_dtype,\n\u001b[1;32m   1141\u001b[0m         )\n\u001b[1;32m   1143\u001b[0m \u001b[39mif\u001b[39;00m \u001b[39mlen\u001b[39m(mapped) \u001b[39mand\u001b[39;00m \u001b[39misinstance\u001b[39m(mapped[\u001b[39m0\u001b[39m], ABCSeries):\n\u001b[1;32m   1144\u001b[0m     \u001b[39m# GH#43986 Need to do list(mapped) in order to get treated as nested\u001b[39;00m\n\u001b[1;32m   1145\u001b[0m     \u001b[39m#  See also GH#25959 regarding EA support\u001b[39;00m\n\u001b[1;32m   1146\u001b[0m     \u001b[39mreturn\u001b[39;00m obj\u001b[39m.\u001b[39m_constructor_expanddim(\u001b[39mlist\u001b[39m(mapped), index\u001b[39m=\u001b[39mobj\u001b[39m.\u001b[39mindex)\n",
      "File \u001b[0;32m~/opt/anaconda3/lib/python3.9/site-packages/pandas/_libs/lib.pyx:2870\u001b[0m, in \u001b[0;36mpandas._libs.lib.map_infer\u001b[0;34m()\u001b[0m\n",
      "\u001b[1;32m/Users/morax/Documents/GitHub/Tools_for_Analytics_Project/Project Scaffolding.ipynb Cell 17\u001b[0m in \u001b[0;36m<lambda>\u001b[0;34m(x)\u001b[0m\n\u001b[1;32m      <a href='vscode-notebook-cell:/Users/morax/Documents/GitHub/Tools_for_Analytics_Project/Project%20Scaffolding.ipynb#Y441sZmlsZQ%3D%3D?line=0'>1</a>\u001b[0m \u001b[39m# test_parquet[\"tpep_dropoff_datetime\"].dtype()\u001b[39;00m\n\u001b[0;32m----> <a href='vscode-notebook-cell:/Users/morax/Documents/GitHub/Tools_for_Analytics_Project/Project%20Scaffolding.ipynb#Y441sZmlsZQ%3D%3D?line=1'>2</a>\u001b[0m test_parquet[\u001b[39m'\u001b[39m\u001b[39mpickup_hour\u001b[39m\u001b[39m'\u001b[39m] \u001b[39m=\u001b[39m test_parquet[\u001b[39m'\u001b[39m\u001b[39mpickup_datetime\u001b[39m\u001b[39m'\u001b[39m]\u001b[39m.\u001b[39mapply(\u001b[39mlambda\u001b[39;00m x:x\u001b[39m.\u001b[39;49mhour)\n\u001b[1;32m      <a href='vscode-notebook-cell:/Users/morax/Documents/GitHub/Tools_for_Analytics_Project/Project%20Scaffolding.ipynb#Y441sZmlsZQ%3D%3D?line=2'>3</a>\u001b[0m \u001b[39m#test_parquet.size\u001b[39;00m\n\u001b[1;32m      <a href='vscode-notebook-cell:/Users/morax/Documents/GitHub/Tools_for_Analytics_Project/Project%20Scaffolding.ipynb#Y441sZmlsZQ%3D%3D?line=3'>4</a>\u001b[0m \u001b[39m#len(find_taxi_parquet_urls())\u001b[39;00m\n\u001b[1;32m      <a href='vscode-notebook-cell:/Users/morax/Documents/GitHub/Tools_for_Analytics_Project/Project%20Scaffolding.ipynb#Y441sZmlsZQ%3D%3D?line=4'>5</a>\u001b[0m test_parquet\u001b[39m.\u001b[39mhead(\u001b[39m10\u001b[39m)\n",
      "\u001b[0;31mAttributeError\u001b[0m: 'str' object has no attribute 'hour'"
     ]
    }
   ],
   "source": [
    "# test_parquet[\"tpep_dropoff_datetime\"].dtype()\n",
    "test_parquet['pickup_hour'] = test_parquet['tpep_pickup_datetime'].apply(lambda x:x.hour)\n",
    "#test_parquet.size\n",
    "#len(find_taxi_parquet_urls())\n",
    "test_parquet.head(10)"
   ]
  },
  {
   "cell_type": "code",
   "execution_count": 20,
   "id": "884672ad",
   "metadata": {},
   "outputs": [],
   "source": [
    "def miles_to_km(distance_miles):\n",
    "    distance_km = distance_miles /0.62137119\n",
    "    return distance_km\n",
    "\n",
    "test_parquet['trip_distance'] = test_parquet.apply(lambda x: miles_to_km(x[\"trip_distance\"]), axis = 1)\n",
    "\n",
    "# test_parquet.head(10)"
   ]
  },
  {
   "cell_type": "code",
   "execution_count": 21,
   "id": "35c9c0cd",
   "metadata": {},
   "outputs": [],
   "source": [
    "def zones_within_bbox():\n",
    "    #taxi_zones = pd.read_json('NYCTaxiZones.geojson')\n",
    "    import json\n",
    "    from shapely.geometry import Point\n",
    "    #taxi_zones = json.loads('taxizonedata.json')\n",
    "    #taxi_zones = taxi_zones.to_json(orient = 'columns')\n",
    "    \n",
    "    #taxi_zones= geopandas.read_file('NYCTaxiZones.geojson)\n",
    "    df = gpd.read_file('NYCTaxiZones.geojson')\n",
    "\n",
    "    #taxi_zones = gpd.GeoSeries(df)\n",
    "    taxi_zones = gpd.GeoDataFrame(df)\n",
    "    #df = df.ix[0]\n",
    "\n",
    "    taxi_zones = taxi_zones.to_crs(4326)\n",
    "\n",
    "    taxi_zones['lon'] = taxi_zones.centroid.x  \n",
    "    taxi_zones['lat'] = taxi_zones.centroid.y\n",
    "\n",
    "    northlimit  = 40.908524\n",
    "    southlimit = 40.560445\n",
    "    eastlimit = -73.717047\n",
    "    westlimit = -74.242330\n",
    "\n",
    "    \n",
    "    taxi_zones = taxi_zones[(taxi_zones[\"lon\"] <= eastlimit) & (taxi_zones[\"lon\"] >= westlimit)] \n",
    "    taxi_zones = taxi_zones[(taxi_zones[\"lat\"] <= northlimit) & (taxi_zones[\"lat\"]>= southlimit)]\n",
    "\n",
    "    zones_in_range =list(taxi_zones[\"location_id\"])\n",
    "    \n",
    "    return zones_in_range\n",
    "\n",
    "\n",
    "def get_and_clean_taxi_data():\n",
    "    all_taxi_dataframes = []\n",
    "    \n",
    "    all_csv_urls = find_taxi_parquet_urls()\n",
    "    \n",
    "    # For Testing Purposes only:\n",
    "    # all_csv_urls = all_csv_urls[60:]\n",
    "\n",
    "    for csv_url in all_csv_urls:\n",
    "        # maybe: first try to see if you've downloaded this exact\n",
    "        # file already and saved it before trying again\n",
    "        dataframe = get_and_clean_month_taxi_data(csv_url)\n",
    "\n",
    "        # Making sure that the zone is in the [coordinate box](http://bboxfinder.com/#40.560445,-74.242330,40.908524,-73.717047)\n",
    "        # print(csv_url)\n",
    "        if 'PULocationID' in dataframe.columns:\n",
    "            dataframe[dataframe['PULocationID'].isin(zones_within_bbox())]\n",
    "            dataframe[dataframe['DOLocationID'].isin(zones_within_bbox())]\n",
    "            # Changing the distance column of each data set from miles to kilometers\n",
    "            dataframe['trip_distance'] = dataframe.apply(lambda x: x[\"trip_distance\"]/0.62137119, axis = 1)\n",
    "            # Adding A Pickup Hour Column to the Data\n",
    "            dataframe['pickup_hour'] = dataframe['tpep_pickup_datetime'].apply(lambda x:x.hour)\n",
    "\n",
    "            # Normalizing Column Names\n",
    "            dataframe.rename(columns ={\"trip_distance\": \"distance\", \"tpep_pickup_datetime\": \"pickup_datetime\",\"tpep_dropoff_datetime\":\"dropoff_datetime\"}, inplace = True)\n",
    "        elif \"pickup_longitude\" in dataframe.columns:\n",
    "            northlimit  = 40.908524\n",
    "            southlimit = 40.560445\n",
    "            eastlimit = -73.717047\n",
    "            westlimit = -74.242330\n",
    "            add_distance_column(dataframe)\n",
    "            \n",
    "            dataframe = dataframe[(dataframe[\"pickup_longitude\"] <= eastlimit) & (dataframe[\"pickup_longitude\"] >= westlimit)] \n",
    "            dataframe = dataframe [(dataframe [\"pickup_latitude\"] <= northlimit) & (dataframe[\"pickup_latitude\"]>= southlimit)]\n",
    "\n",
    "            dataframe  = dataframe[(dataframe[\"dropoff_longitude\"] <= eastlimit) & (dataframe[\"dropoff_longitude\"] >= westlimit)] \n",
    "            dataframe = dataframe[(dataframe[\"dropoff_latitude\"] <= northlimit) & (dataframe[\"dropoff_latitude\"]>= southlimit)]\n",
    "\n",
    "            #Cleaning the date to make Datetime Object (already datetime object?)\n",
    "            dataframe[\"dropoff_datetime\"]  = dataframe[\"dropoff_datetime\"].apply(lambda x:datetime.datetime.strptime(x,'%Y-%m-%d %H:%M:%S'))\n",
    "            dataframe[\"pickup_datetime\"]  = dataframe[\"pickup_datetime\"].apply(lambda x:datetime.datetime.strptime(x,'%Y-%m-%d %H:%M:%S'))\n",
    "\n",
    "            dataframe['pickup_hour'] = dataframe['pickup_datetime'].apply(lambda x:x.hour)\n",
    "        \n",
    "\n",
    "        # maybe: if the file hasn't been saved, save it so you can\n",
    "        # avoid re-downloading it if you re-run the function\n",
    "        \n",
    "        all_taxi_dataframes.append(dataframe)\n",
    "        \n",
    "    # create one gigantic dataframe with data from every month needed\n",
    "    taxi_data = pd.concat(all_taxi_dataframes)\n",
    "    \n",
    "    return taxi_data"
   ]
  },
  {
   "cell_type": "markdown",
   "id": "ff321bec",
   "metadata": {},
   "source": []
  },
  {
   "cell_type": "markdown",
   "id": "094b4d6d",
   "metadata": {},
   "source": [
    "### Processing Uber Data\n",
    "\n",
    "In this portion of the project, two functions load_and_clean_uber_data() and get_uber_data() are used.  The function load_and_clean_uber_data() reads in the uber data from a csv file and returns a dataframe.  The function get_uber_data() uses the previous function to read in the data, then uses the function add_distance_column previously defined in order to add the distance in kilometers of each trip taken by an uber in the dataset and returns the uber data as a dataframe.  In addition, some additional processing was done ot the data to convert the pickup_datetime into a datetime object and create a column for the day of the week the pickup occured on."
   ]
  },
  {
   "cell_type": "code",
   "execution_count": 22,
   "id": "7c58e3a2",
   "metadata": {},
   "outputs": [],
   "source": [
    "def load_and_clean_uber_data(csv_file):\n",
    "    return pd.read_csv(csv_file)"
   ]
  },
  {
   "cell_type": "code",
   "execution_count": 23,
   "id": "f836f118",
   "metadata": {},
   "outputs": [],
   "source": [
    "def get_uber_data():\n",
    "    uber_dataframe = load_and_clean_uber_data(UBER_CSV)\n",
    "    add_distance_column(uber_dataframe)\n",
    "    # Making Pickup_datetime a datetime object\n",
    "    uber_dataframe[\"pickup_datetime\"]  = uber_dataframe[\"pickup_datetime\"].apply(lambda x:datetime.datetime.strptime(x,'%Y-%m-%d %H:%M:%S %Z'))\n",
    "    uber_dataframe[\"day_of_week\"]= uber_dataframe['pickup_datetime'].apply(lambda x: x.isoweekday())\n",
    "\n",
    "    # Removing any data outside of the [coordinate box](http://bboxfinder.com/#40.560445,-74.242330,40.908524,-73.717047)\n",
    "    #NEW_YORK_BOX_COORDS = ((40.560445, -74.242330), (40.908524, -73.717047))\n",
    "    northlimit  = 40.908524\n",
    "    southlimit = 40.560445\n",
    "    eastlimit = -73.717047\n",
    "    westlimit = -74.242330\n",
    "    \n",
    "    uber_dataframe = uber_dataframe[(uber_dataframe[\"pickup_longitude\"] <= eastlimit) & (uber_dataframe[\"pickup_longitude\"] >= westlimit)] \n",
    "    uber_dataframe = uber_dataframe [(uber_dataframe [\"pickup_latitude\"] <= northlimit) & (uber_dataframe[\"pickup_latitude\"]>= southlimit)]\n",
    "\n",
    "    uber_dataframe  = uber_dataframe[(uber_dataframe[\"dropoff_longitude\"] <= eastlimit) & (uber_dataframe[\"dropoff_longitude\"] >= westlimit)] \n",
    "    uber_dataframe = uber_dataframe[(uber_dataframe[\"dropoff_latitude\"] <= northlimit) & (uber_dataframe[\"dropoff_latitude\"]>= southlimit)]\n",
    "\n",
    "    return uber_dataframe"
   ]
  },
  {
   "cell_type": "markdown",
   "id": "45a15cbb",
   "metadata": {},
   "source": [
    "### Processing Weather Data\n",
    "\n",
    "_**TODO:** Write some prose that tells the reader what you're about to do here._"
   ]
  },
  {
   "cell_type": "code",
   "execution_count": 24,
   "id": "76e864ab",
   "metadata": {},
   "outputs": [],
   "source": [
    "def clean_month_weather_data_hourly(csv_file):\n",
    "    # Just need to read in the data as a measurment is taken each hour \n",
    "    all_data = pd.read_csv(csv_file)\n",
    "\n",
    "    # split data hourly\n",
    "    date = all_data['DATE']\n",
    "    import datetime\n",
    "    date = date.apply(lambda x:datetime.datetime.strptime(x,'%Y-%m-%dT%H:%M:%S'))\n",
    "    all_data['hours'] = date.apply(lambda x:x.hour)\n",
    "    all_data['newDATE'] = 0\n",
    "    for i in range(len(date)):\n",
    "        all_data['newDATE'][i] = all_data['DATE'][i][:10]\n",
    "    # now we have cleaned the data, now rename it\n",
    "    hourly_data = all_data\n",
    "\n",
    "    # you'll find which way to use in the later part\n",
    "    # combine them all together and split into 24 rows\n",
    "    # return clean_month_weather_data_hourly_all.drop_duplicates(subset=['hours'])\n",
    "\n",
    "    # split values into 24 rows for each day\n",
    "    return hourly_data.drop_duplicates(subset=['hours', 'newDATE'],keep='last')\n"
   ]
  },
  {
   "cell_type": "code",
   "execution_count": 25,
   "id": "0687581f",
   "metadata": {},
   "outputs": [],
   "source": [
    "def clean_month_weather_data_daily(csv_file):\n",
    "    #need to combine rows for each given day\n",
    "    all_data = pd.read_csv(csv_file)\n",
    "\n",
    "    # split data daily\n",
    "    date = all_data['DATE']\n",
    "    import datetime\n",
    "    date = date.apply(lambda x:datetime.datetime.strptime(x,'%Y-%m-%dT%H:%M:%S'))\n",
    "    all_data['days'] = date.apply(lambda x:x.day)\n",
    "    all_data['newDATE'] = 0\n",
    "    for i in range(len(date)):\n",
    "        all_data['newDATE'][i] = all_data['DATE'][i][:7]\n",
    "    # now we have cleaned the data, now rename it\n",
    "    daily_data = all_data\n",
    "\n",
    "    # you'll find which way to use in the later part\n",
    "    # combine them all together and split into 31 rows\n",
    "    # return clean_month_weather_data_hourly_all.drop_duplicates(subset=['hours'])\n",
    "\n",
    "    # split values into 31/30 rows for each month\n",
    "    return daily_data.drop_duplicates(subset=['days', 'newDATE'],keep='last')\n",
    "    "
   ]
  },
  {
   "cell_type": "code",
   "execution_count": 26,
   "id": "3ef8945d",
   "metadata": {},
   "outputs": [],
   "source": [
    "def load_and_clean_weather_data():\n",
    "    hourly_dataframes = []\n",
    "    daily_dataframes = []\n",
    "\n",
    "    # add this at the beginnig\n",
    "    # weather csv data file\n",
    "    # 2009_weather to 2015_weather (just pick the first 6 months)\n",
    "    csv__= '/Users/morax/Documents/哥大/IEORE4501/IEOR4501 HW/IEOR4501 Project/'\n",
    "    csv09_file = csv__ + '2009_weather.csv'\n",
    "    csv10_file = csv__ + '2010_weather.csv'\n",
    "    csv11_file = csv__ + '2011_weather.csv'\n",
    "    csv12_file = csv__ + '2012_weather.csv'\n",
    "    csv13_file = csv__ + '2013_weather.csv'\n",
    "    csv14_file = csv__ + '2014_weather.csv'\n",
    "    csv15_file = csv__ + '2015_weather.csv'\n",
    "    weather_csv09_14_files = [csv09_file, csv10_file, csv11_file, csv12_file, csv13_file, csv14_file]\n",
    "    \n",
    "    for csv_file in weather_csv09_14_files:\n",
    "        hourly_dataframe = clean_month_weather_data_hourly(csv_file)\n",
    "        daily_dataframe = clean_month_weather_data_daily(csv_file)\n",
    "        hourly_dataframes.append(hourly_dataframe)\n",
    "        daily_dataframes.append(daily_dataframe)\n",
    "    hourly_15_dataframe = clean_month_weather_data_hourly(csv15_file).iloc[:4344]\n",
    "    hourly_dataframes.append(hourly_15_dataframe)\n",
    "    daily_15_dataframe = clean_month_weather_data_daily(csv15_file).iloc[:181]\n",
    "    daily_dataframes.append(daily_15_dataframe)\n",
    "\n",
    "    # create two dataframes with hourly & daily data from every month\n",
    "    hourly_data = pd.concat(hourly_dataframes).reset_index(drop=True)\n",
    "    daily_data = pd.concat(daily_dataframes).reset_index(drop=True)\n",
    "    \n",
    "    return hourly_data, daily_data"
   ]
  },
  {
   "cell_type": "markdown",
   "id": "f900f7aa",
   "metadata": {},
   "source": [
    "### Process All Data\n",
    "\n",
    "Once all of the functions in order to process the data have been written each of those functions can be executed.  Executing each of these functions, provides four clean data sets, taxi_data, uber_data, hourly_weather_data, and daily_weather_data()."
   ]
  },
  {
   "cell_type": "code",
   "execution_count": 27,
   "id": "f7cd53a6",
   "metadata": {},
   "outputs": [
    {
     "name": "stderr",
     "output_type": "stream",
     "text": [
      "/var/folders/0l/chsxlz0n6ld25hkms7fljx0c0000gn/T/ipykernel_32341/1587133196.py:17: UserWarning: Geometry is in a geographic CRS. Results from 'centroid' are likely incorrect. Use 'GeoSeries.to_crs()' to re-project geometries to a projected CRS before this operation.\n",
      "\n",
      "  taxi_zones['lon'] = taxi_zones.centroid.x\n",
      "/var/folders/0l/chsxlz0n6ld25hkms7fljx0c0000gn/T/ipykernel_32341/1587133196.py:18: UserWarning: Geometry is in a geographic CRS. Results from 'centroid' are likely incorrect. Use 'GeoSeries.to_crs()' to re-project geometries to a projected CRS before this operation.\n",
      "\n",
      "  taxi_zones['lat'] = taxi_zones.centroid.y\n",
      "/var/folders/0l/chsxlz0n6ld25hkms7fljx0c0000gn/T/ipykernel_32341/1587133196.py:17: UserWarning: Geometry is in a geographic CRS. Results from 'centroid' are likely incorrect. Use 'GeoSeries.to_crs()' to re-project geometries to a projected CRS before this operation.\n",
      "\n",
      "  taxi_zones['lon'] = taxi_zones.centroid.x\n",
      "/var/folders/0l/chsxlz0n6ld25hkms7fljx0c0000gn/T/ipykernel_32341/1587133196.py:18: UserWarning: Geometry is in a geographic CRS. Results from 'centroid' are likely incorrect. Use 'GeoSeries.to_crs()' to re-project geometries to a projected CRS before this operation.\n",
      "\n",
      "  taxi_zones['lat'] = taxi_zones.centroid.y\n",
      "/var/folders/0l/chsxlz0n6ld25hkms7fljx0c0000gn/T/ipykernel_32341/1587133196.py:17: UserWarning: Geometry is in a geographic CRS. Results from 'centroid' are likely incorrect. Use 'GeoSeries.to_crs()' to re-project geometries to a projected CRS before this operation.\n",
      "\n",
      "  taxi_zones['lon'] = taxi_zones.centroid.x\n",
      "/var/folders/0l/chsxlz0n6ld25hkms7fljx0c0000gn/T/ipykernel_32341/1587133196.py:18: UserWarning: Geometry is in a geographic CRS. Results from 'centroid' are likely incorrect. Use 'GeoSeries.to_crs()' to re-project geometries to a projected CRS before this operation.\n",
      "\n",
      "  taxi_zones['lat'] = taxi_zones.centroid.y\n",
      "/var/folders/0l/chsxlz0n6ld25hkms7fljx0c0000gn/T/ipykernel_32341/1587133196.py:17: UserWarning: Geometry is in a geographic CRS. Results from 'centroid' are likely incorrect. Use 'GeoSeries.to_crs()' to re-project geometries to a projected CRS before this operation.\n",
      "\n",
      "  taxi_zones['lon'] = taxi_zones.centroid.x\n",
      "/var/folders/0l/chsxlz0n6ld25hkms7fljx0c0000gn/T/ipykernel_32341/1587133196.py:18: UserWarning: Geometry is in a geographic CRS. Results from 'centroid' are likely incorrect. Use 'GeoSeries.to_crs()' to re-project geometries to a projected CRS before this operation.\n",
      "\n",
      "  taxi_zones['lat'] = taxi_zones.centroid.y\n",
      "/var/folders/0l/chsxlz0n6ld25hkms7fljx0c0000gn/T/ipykernel_32341/1587133196.py:17: UserWarning: Geometry is in a geographic CRS. Results from 'centroid' are likely incorrect. Use 'GeoSeries.to_crs()' to re-project geometries to a projected CRS before this operation.\n",
      "\n",
      "  taxi_zones['lon'] = taxi_zones.centroid.x\n",
      "/var/folders/0l/chsxlz0n6ld25hkms7fljx0c0000gn/T/ipykernel_32341/1587133196.py:18: UserWarning: Geometry is in a geographic CRS. Results from 'centroid' are likely incorrect. Use 'GeoSeries.to_crs()' to re-project geometries to a projected CRS before this operation.\n",
      "\n",
      "  taxi_zones['lat'] = taxi_zones.centroid.y\n",
      "/var/folders/0l/chsxlz0n6ld25hkms7fljx0c0000gn/T/ipykernel_32341/1587133196.py:17: UserWarning: Geometry is in a geographic CRS. Results from 'centroid' are likely incorrect. Use 'GeoSeries.to_crs()' to re-project geometries to a projected CRS before this operation.\n",
      "\n",
      "  taxi_zones['lon'] = taxi_zones.centroid.x\n",
      "/var/folders/0l/chsxlz0n6ld25hkms7fljx0c0000gn/T/ipykernel_32341/1587133196.py:18: UserWarning: Geometry is in a geographic CRS. Results from 'centroid' are likely incorrect. Use 'GeoSeries.to_crs()' to re-project geometries to a projected CRS before this operation.\n",
      "\n",
      "  taxi_zones['lat'] = taxi_zones.centroid.y\n",
      "/var/folders/0l/chsxlz0n6ld25hkms7fljx0c0000gn/T/ipykernel_32341/1587133196.py:17: UserWarning: Geometry is in a geographic CRS. Results from 'centroid' are likely incorrect. Use 'GeoSeries.to_crs()' to re-project geometries to a projected CRS before this operation.\n",
      "\n",
      "  taxi_zones['lon'] = taxi_zones.centroid.x\n",
      "/var/folders/0l/chsxlz0n6ld25hkms7fljx0c0000gn/T/ipykernel_32341/1587133196.py:18: UserWarning: Geometry is in a geographic CRS. Results from 'centroid' are likely incorrect. Use 'GeoSeries.to_crs()' to re-project geometries to a projected CRS before this operation.\n",
      "\n",
      "  taxi_zones['lat'] = taxi_zones.centroid.y\n",
      "/var/folders/0l/chsxlz0n6ld25hkms7fljx0c0000gn/T/ipykernel_32341/1587133196.py:17: UserWarning: Geometry is in a geographic CRS. Results from 'centroid' are likely incorrect. Use 'GeoSeries.to_crs()' to re-project geometries to a projected CRS before this operation.\n",
      "\n",
      "  taxi_zones['lon'] = taxi_zones.centroid.x\n",
      "/var/folders/0l/chsxlz0n6ld25hkms7fljx0c0000gn/T/ipykernel_32341/1587133196.py:18: UserWarning: Geometry is in a geographic CRS. Results from 'centroid' are likely incorrect. Use 'GeoSeries.to_crs()' to re-project geometries to a projected CRS before this operation.\n",
      "\n",
      "  taxi_zones['lat'] = taxi_zones.centroid.y\n",
      "/var/folders/0l/chsxlz0n6ld25hkms7fljx0c0000gn/T/ipykernel_32341/1587133196.py:17: UserWarning: Geometry is in a geographic CRS. Results from 'centroid' are likely incorrect. Use 'GeoSeries.to_crs()' to re-project geometries to a projected CRS before this operation.\n",
      "\n",
      "  taxi_zones['lon'] = taxi_zones.centroid.x\n",
      "/var/folders/0l/chsxlz0n6ld25hkms7fljx0c0000gn/T/ipykernel_32341/1587133196.py:18: UserWarning: Geometry is in a geographic CRS. Results from 'centroid' are likely incorrect. Use 'GeoSeries.to_crs()' to re-project geometries to a projected CRS before this operation.\n",
      "\n",
      "  taxi_zones['lat'] = taxi_zones.centroid.y\n",
      "/var/folders/0l/chsxlz0n6ld25hkms7fljx0c0000gn/T/ipykernel_32341/1587133196.py:17: UserWarning: Geometry is in a geographic CRS. Results from 'centroid' are likely incorrect. Use 'GeoSeries.to_crs()' to re-project geometries to a projected CRS before this operation.\n",
      "\n",
      "  taxi_zones['lon'] = taxi_zones.centroid.x\n",
      "/var/folders/0l/chsxlz0n6ld25hkms7fljx0c0000gn/T/ipykernel_32341/1587133196.py:18: UserWarning: Geometry is in a geographic CRS. Results from 'centroid' are likely incorrect. Use 'GeoSeries.to_crs()' to re-project geometries to a projected CRS before this operation.\n",
      "\n",
      "  taxi_zones['lat'] = taxi_zones.centroid.y\n",
      "/var/folders/0l/chsxlz0n6ld25hkms7fljx0c0000gn/T/ipykernel_32341/1587133196.py:17: UserWarning: Geometry is in a geographic CRS. Results from 'centroid' are likely incorrect. Use 'GeoSeries.to_crs()' to re-project geometries to a projected CRS before this operation.\n",
      "\n",
      "  taxi_zones['lon'] = taxi_zones.centroid.x\n",
      "/var/folders/0l/chsxlz0n6ld25hkms7fljx0c0000gn/T/ipykernel_32341/1587133196.py:18: UserWarning: Geometry is in a geographic CRS. Results from 'centroid' are likely incorrect. Use 'GeoSeries.to_crs()' to re-project geometries to a projected CRS before this operation.\n",
      "\n",
      "  taxi_zones['lat'] = taxi_zones.centroid.y\n",
      "/var/folders/0l/chsxlz0n6ld25hkms7fljx0c0000gn/T/ipykernel_32341/1587133196.py:17: UserWarning: Geometry is in a geographic CRS. Results from 'centroid' are likely incorrect. Use 'GeoSeries.to_crs()' to re-project geometries to a projected CRS before this operation.\n",
      "\n",
      "  taxi_zones['lon'] = taxi_zones.centroid.x\n",
      "/var/folders/0l/chsxlz0n6ld25hkms7fljx0c0000gn/T/ipykernel_32341/1587133196.py:18: UserWarning: Geometry is in a geographic CRS. Results from 'centroid' are likely incorrect. Use 'GeoSeries.to_crs()' to re-project geometries to a projected CRS before this operation.\n",
      "\n",
      "  taxi_zones['lat'] = taxi_zones.centroid.y\n",
      "/var/folders/0l/chsxlz0n6ld25hkms7fljx0c0000gn/T/ipykernel_32341/1587133196.py:17: UserWarning: Geometry is in a geographic CRS. Results from 'centroid' are likely incorrect. Use 'GeoSeries.to_crs()' to re-project geometries to a projected CRS before this operation.\n",
      "\n",
      "  taxi_zones['lon'] = taxi_zones.centroid.x\n",
      "/var/folders/0l/chsxlz0n6ld25hkms7fljx0c0000gn/T/ipykernel_32341/1587133196.py:18: UserWarning: Geometry is in a geographic CRS. Results from 'centroid' are likely incorrect. Use 'GeoSeries.to_crs()' to re-project geometries to a projected CRS before this operation.\n",
      "\n",
      "  taxi_zones['lat'] = taxi_zones.centroid.y\n",
      "/var/folders/0l/chsxlz0n6ld25hkms7fljx0c0000gn/T/ipykernel_32341/1587133196.py:17: UserWarning: Geometry is in a geographic CRS. Results from 'centroid' are likely incorrect. Use 'GeoSeries.to_crs()' to re-project geometries to a projected CRS before this operation.\n",
      "\n",
      "  taxi_zones['lon'] = taxi_zones.centroid.x\n",
      "/var/folders/0l/chsxlz0n6ld25hkms7fljx0c0000gn/T/ipykernel_32341/1587133196.py:18: UserWarning: Geometry is in a geographic CRS. Results from 'centroid' are likely incorrect. Use 'GeoSeries.to_crs()' to re-project geometries to a projected CRS before this operation.\n",
      "\n",
      "  taxi_zones['lat'] = taxi_zones.centroid.y\n",
      "/var/folders/0l/chsxlz0n6ld25hkms7fljx0c0000gn/T/ipykernel_32341/1587133196.py:17: UserWarning: Geometry is in a geographic CRS. Results from 'centroid' are likely incorrect. Use 'GeoSeries.to_crs()' to re-project geometries to a projected CRS before this operation.\n",
      "\n",
      "  taxi_zones['lon'] = taxi_zones.centroid.x\n",
      "/var/folders/0l/chsxlz0n6ld25hkms7fljx0c0000gn/T/ipykernel_32341/1587133196.py:18: UserWarning: Geometry is in a geographic CRS. Results from 'centroid' are likely incorrect. Use 'GeoSeries.to_crs()' to re-project geometries to a projected CRS before this operation.\n",
      "\n",
      "  taxi_zones['lat'] = taxi_zones.centroid.y\n",
      "/var/folders/0l/chsxlz0n6ld25hkms7fljx0c0000gn/T/ipykernel_32341/1587133196.py:17: UserWarning: Geometry is in a geographic CRS. Results from 'centroid' are likely incorrect. Use 'GeoSeries.to_crs()' to re-project geometries to a projected CRS before this operation.\n",
      "\n",
      "  taxi_zones['lon'] = taxi_zones.centroid.x\n",
      "/var/folders/0l/chsxlz0n6ld25hkms7fljx0c0000gn/T/ipykernel_32341/1587133196.py:18: UserWarning: Geometry is in a geographic CRS. Results from 'centroid' are likely incorrect. Use 'GeoSeries.to_crs()' to re-project geometries to a projected CRS before this operation.\n",
      "\n",
      "  taxi_zones['lat'] = taxi_zones.centroid.y\n",
      "/var/folders/0l/chsxlz0n6ld25hkms7fljx0c0000gn/T/ipykernel_32341/1587133196.py:17: UserWarning: Geometry is in a geographic CRS. Results from 'centroid' are likely incorrect. Use 'GeoSeries.to_crs()' to re-project geometries to a projected CRS before this operation.\n",
      "\n",
      "  taxi_zones['lon'] = taxi_zones.centroid.x\n",
      "/var/folders/0l/chsxlz0n6ld25hkms7fljx0c0000gn/T/ipykernel_32341/1587133196.py:18: UserWarning: Geometry is in a geographic CRS. Results from 'centroid' are likely incorrect. Use 'GeoSeries.to_crs()' to re-project geometries to a projected CRS before this operation.\n",
      "\n",
      "  taxi_zones['lat'] = taxi_zones.centroid.y\n",
      "/var/folders/0l/chsxlz0n6ld25hkms7fljx0c0000gn/T/ipykernel_32341/1587133196.py:17: UserWarning: Geometry is in a geographic CRS. Results from 'centroid' are likely incorrect. Use 'GeoSeries.to_crs()' to re-project geometries to a projected CRS before this operation.\n",
      "\n",
      "  taxi_zones['lon'] = taxi_zones.centroid.x\n",
      "/var/folders/0l/chsxlz0n6ld25hkms7fljx0c0000gn/T/ipykernel_32341/1587133196.py:18: UserWarning: Geometry is in a geographic CRS. Results from 'centroid' are likely incorrect. Use 'GeoSeries.to_crs()' to re-project geometries to a projected CRS before this operation.\n",
      "\n",
      "  taxi_zones['lat'] = taxi_zones.centroid.y\n",
      "/var/folders/0l/chsxlz0n6ld25hkms7fljx0c0000gn/T/ipykernel_32341/1587133196.py:17: UserWarning: Geometry is in a geographic CRS. Results from 'centroid' are likely incorrect. Use 'GeoSeries.to_crs()' to re-project geometries to a projected CRS before this operation.\n",
      "\n",
      "  taxi_zones['lon'] = taxi_zones.centroid.x\n",
      "/var/folders/0l/chsxlz0n6ld25hkms7fljx0c0000gn/T/ipykernel_32341/1587133196.py:18: UserWarning: Geometry is in a geographic CRS. Results from 'centroid' are likely incorrect. Use 'GeoSeries.to_crs()' to re-project geometries to a projected CRS before this operation.\n",
      "\n",
      "  taxi_zones['lat'] = taxi_zones.centroid.y\n",
      "/var/folders/0l/chsxlz0n6ld25hkms7fljx0c0000gn/T/ipykernel_32341/1587133196.py:17: UserWarning: Geometry is in a geographic CRS. Results from 'centroid' are likely incorrect. Use 'GeoSeries.to_crs()' to re-project geometries to a projected CRS before this operation.\n",
      "\n",
      "  taxi_zones['lon'] = taxi_zones.centroid.x\n",
      "/var/folders/0l/chsxlz0n6ld25hkms7fljx0c0000gn/T/ipykernel_32341/1587133196.py:18: UserWarning: Geometry is in a geographic CRS. Results from 'centroid' are likely incorrect. Use 'GeoSeries.to_crs()' to re-project geometries to a projected CRS before this operation.\n",
      "\n",
      "  taxi_zones['lat'] = taxi_zones.centroid.y\n",
      "/var/folders/0l/chsxlz0n6ld25hkms7fljx0c0000gn/T/ipykernel_32341/1587133196.py:17: UserWarning: Geometry is in a geographic CRS. Results from 'centroid' are likely incorrect. Use 'GeoSeries.to_crs()' to re-project geometries to a projected CRS before this operation.\n",
      "\n",
      "  taxi_zones['lon'] = taxi_zones.centroid.x\n",
      "/var/folders/0l/chsxlz0n6ld25hkms7fljx0c0000gn/T/ipykernel_32341/1587133196.py:18: UserWarning: Geometry is in a geographic CRS. Results from 'centroid' are likely incorrect. Use 'GeoSeries.to_crs()' to re-project geometries to a projected CRS before this operation.\n",
      "\n",
      "  taxi_zones['lat'] = taxi_zones.centroid.y\n",
      "/var/folders/0l/chsxlz0n6ld25hkms7fljx0c0000gn/T/ipykernel_32341/1587133196.py:17: UserWarning: Geometry is in a geographic CRS. Results from 'centroid' are likely incorrect. Use 'GeoSeries.to_crs()' to re-project geometries to a projected CRS before this operation.\n",
      "\n",
      "  taxi_zones['lon'] = taxi_zones.centroid.x\n",
      "/var/folders/0l/chsxlz0n6ld25hkms7fljx0c0000gn/T/ipykernel_32341/1587133196.py:18: UserWarning: Geometry is in a geographic CRS. Results from 'centroid' are likely incorrect. Use 'GeoSeries.to_crs()' to re-project geometries to a projected CRS before this operation.\n",
      "\n",
      "  taxi_zones['lat'] = taxi_zones.centroid.y\n",
      "/var/folders/0l/chsxlz0n6ld25hkms7fljx0c0000gn/T/ipykernel_32341/1587133196.py:17: UserWarning: Geometry is in a geographic CRS. Results from 'centroid' are likely incorrect. Use 'GeoSeries.to_crs()' to re-project geometries to a projected CRS before this operation.\n",
      "\n",
      "  taxi_zones['lon'] = taxi_zones.centroid.x\n",
      "/var/folders/0l/chsxlz0n6ld25hkms7fljx0c0000gn/T/ipykernel_32341/1587133196.py:18: UserWarning: Geometry is in a geographic CRS. Results from 'centroid' are likely incorrect. Use 'GeoSeries.to_crs()' to re-project geometries to a projected CRS before this operation.\n",
      "\n",
      "  taxi_zones['lat'] = taxi_zones.centroid.y\n",
      "/var/folders/0l/chsxlz0n6ld25hkms7fljx0c0000gn/T/ipykernel_32341/1587133196.py:17: UserWarning: Geometry is in a geographic CRS. Results from 'centroid' are likely incorrect. Use 'GeoSeries.to_crs()' to re-project geometries to a projected CRS before this operation.\n",
      "\n",
      "  taxi_zones['lon'] = taxi_zones.centroid.x\n",
      "/var/folders/0l/chsxlz0n6ld25hkms7fljx0c0000gn/T/ipykernel_32341/1587133196.py:18: UserWarning: Geometry is in a geographic CRS. Results from 'centroid' are likely incorrect. Use 'GeoSeries.to_crs()' to re-project geometries to a projected CRS before this operation.\n",
      "\n",
      "  taxi_zones['lat'] = taxi_zones.centroid.y\n",
      "/var/folders/0l/chsxlz0n6ld25hkms7fljx0c0000gn/T/ipykernel_32341/1587133196.py:17: UserWarning: Geometry is in a geographic CRS. Results from 'centroid' are likely incorrect. Use 'GeoSeries.to_crs()' to re-project geometries to a projected CRS before this operation.\n",
      "\n",
      "  taxi_zones['lon'] = taxi_zones.centroid.x\n",
      "/var/folders/0l/chsxlz0n6ld25hkms7fljx0c0000gn/T/ipykernel_32341/1587133196.py:18: UserWarning: Geometry is in a geographic CRS. Results from 'centroid' are likely incorrect. Use 'GeoSeries.to_crs()' to re-project geometries to a projected CRS before this operation.\n",
      "\n",
      "  taxi_zones['lat'] = taxi_zones.centroid.y\n",
      "/var/folders/0l/chsxlz0n6ld25hkms7fljx0c0000gn/T/ipykernel_32341/1587133196.py:17: UserWarning: Geometry is in a geographic CRS. Results from 'centroid' are likely incorrect. Use 'GeoSeries.to_crs()' to re-project geometries to a projected CRS before this operation.\n",
      "\n",
      "  taxi_zones['lon'] = taxi_zones.centroid.x\n",
      "/var/folders/0l/chsxlz0n6ld25hkms7fljx0c0000gn/T/ipykernel_32341/1587133196.py:18: UserWarning: Geometry is in a geographic CRS. Results from 'centroid' are likely incorrect. Use 'GeoSeries.to_crs()' to re-project geometries to a projected CRS before this operation.\n",
      "\n",
      "  taxi_zones['lat'] = taxi_zones.centroid.y\n",
      "/var/folders/0l/chsxlz0n6ld25hkms7fljx0c0000gn/T/ipykernel_32341/1587133196.py:17: UserWarning: Geometry is in a geographic CRS. Results from 'centroid' are likely incorrect. Use 'GeoSeries.to_crs()' to re-project geometries to a projected CRS before this operation.\n",
      "\n",
      "  taxi_zones['lon'] = taxi_zones.centroid.x\n",
      "/var/folders/0l/chsxlz0n6ld25hkms7fljx0c0000gn/T/ipykernel_32341/1587133196.py:18: UserWarning: Geometry is in a geographic CRS. Results from 'centroid' are likely incorrect. Use 'GeoSeries.to_crs()' to re-project geometries to a projected CRS before this operation.\n",
      "\n",
      "  taxi_zones['lat'] = taxi_zones.centroid.y\n",
      "/var/folders/0l/chsxlz0n6ld25hkms7fljx0c0000gn/T/ipykernel_32341/1587133196.py:17: UserWarning: Geometry is in a geographic CRS. Results from 'centroid' are likely incorrect. Use 'GeoSeries.to_crs()' to re-project geometries to a projected CRS before this operation.\n",
      "\n",
      "  taxi_zones['lon'] = taxi_zones.centroid.x\n",
      "/var/folders/0l/chsxlz0n6ld25hkms7fljx0c0000gn/T/ipykernel_32341/1587133196.py:18: UserWarning: Geometry is in a geographic CRS. Results from 'centroid' are likely incorrect. Use 'GeoSeries.to_crs()' to re-project geometries to a projected CRS before this operation.\n",
      "\n",
      "  taxi_zones['lat'] = taxi_zones.centroid.y\n",
      "/var/folders/0l/chsxlz0n6ld25hkms7fljx0c0000gn/T/ipykernel_32341/1587133196.py:17: UserWarning: Geometry is in a geographic CRS. Results from 'centroid' are likely incorrect. Use 'GeoSeries.to_crs()' to re-project geometries to a projected CRS before this operation.\n",
      "\n",
      "  taxi_zones['lon'] = taxi_zones.centroid.x\n",
      "/var/folders/0l/chsxlz0n6ld25hkms7fljx0c0000gn/T/ipykernel_32341/1587133196.py:18: UserWarning: Geometry is in a geographic CRS. Results from 'centroid' are likely incorrect. Use 'GeoSeries.to_crs()' to re-project geometries to a projected CRS before this operation.\n",
      "\n",
      "  taxi_zones['lat'] = taxi_zones.centroid.y\n",
      "/var/folders/0l/chsxlz0n6ld25hkms7fljx0c0000gn/T/ipykernel_32341/1587133196.py:17: UserWarning: Geometry is in a geographic CRS. Results from 'centroid' are likely incorrect. Use 'GeoSeries.to_crs()' to re-project geometries to a projected CRS before this operation.\n",
      "\n",
      "  taxi_zones['lon'] = taxi_zones.centroid.x\n",
      "/var/folders/0l/chsxlz0n6ld25hkms7fljx0c0000gn/T/ipykernel_32341/1587133196.py:18: UserWarning: Geometry is in a geographic CRS. Results from 'centroid' are likely incorrect. Use 'GeoSeries.to_crs()' to re-project geometries to a projected CRS before this operation.\n",
      "\n",
      "  taxi_zones['lat'] = taxi_zones.centroid.y\n",
      "/var/folders/0l/chsxlz0n6ld25hkms7fljx0c0000gn/T/ipykernel_32341/1587133196.py:17: UserWarning: Geometry is in a geographic CRS. Results from 'centroid' are likely incorrect. Use 'GeoSeries.to_crs()' to re-project geometries to a projected CRS before this operation.\n",
      "\n",
      "  taxi_zones['lon'] = taxi_zones.centroid.x\n",
      "/var/folders/0l/chsxlz0n6ld25hkms7fljx0c0000gn/T/ipykernel_32341/1587133196.py:18: UserWarning: Geometry is in a geographic CRS. Results from 'centroid' are likely incorrect. Use 'GeoSeries.to_crs()' to re-project geometries to a projected CRS before this operation.\n",
      "\n",
      "  taxi_zones['lat'] = taxi_zones.centroid.y\n",
      "/var/folders/0l/chsxlz0n6ld25hkms7fljx0c0000gn/T/ipykernel_32341/1587133196.py:17: UserWarning: Geometry is in a geographic CRS. Results from 'centroid' are likely incorrect. Use 'GeoSeries.to_crs()' to re-project geometries to a projected CRS before this operation.\n",
      "\n",
      "  taxi_zones['lon'] = taxi_zones.centroid.x\n",
      "/var/folders/0l/chsxlz0n6ld25hkms7fljx0c0000gn/T/ipykernel_32341/1587133196.py:18: UserWarning: Geometry is in a geographic CRS. Results from 'centroid' are likely incorrect. Use 'GeoSeries.to_crs()' to re-project geometries to a projected CRS before this operation.\n",
      "\n",
      "  taxi_zones['lat'] = taxi_zones.centroid.y\n",
      "/var/folders/0l/chsxlz0n6ld25hkms7fljx0c0000gn/T/ipykernel_32341/1587133196.py:17: UserWarning: Geometry is in a geographic CRS. Results from 'centroid' are likely incorrect. Use 'GeoSeries.to_crs()' to re-project geometries to a projected CRS before this operation.\n",
      "\n",
      "  taxi_zones['lon'] = taxi_zones.centroid.x\n",
      "/var/folders/0l/chsxlz0n6ld25hkms7fljx0c0000gn/T/ipykernel_32341/1587133196.py:18: UserWarning: Geometry is in a geographic CRS. Results from 'centroid' are likely incorrect. Use 'GeoSeries.to_crs()' to re-project geometries to a projected CRS before this operation.\n",
      "\n",
      "  taxi_zones['lat'] = taxi_zones.centroid.y\n",
      "/var/folders/0l/chsxlz0n6ld25hkms7fljx0c0000gn/T/ipykernel_32341/1587133196.py:17: UserWarning: Geometry is in a geographic CRS. Results from 'centroid' are likely incorrect. Use 'GeoSeries.to_crs()' to re-project geometries to a projected CRS before this operation.\n",
      "\n",
      "  taxi_zones['lon'] = taxi_zones.centroid.x\n",
      "/var/folders/0l/chsxlz0n6ld25hkms7fljx0c0000gn/T/ipykernel_32341/1587133196.py:18: UserWarning: Geometry is in a geographic CRS. Results from 'centroid' are likely incorrect. Use 'GeoSeries.to_crs()' to re-project geometries to a projected CRS before this operation.\n",
      "\n",
      "  taxi_zones['lat'] = taxi_zones.centroid.y\n",
      "/var/folders/0l/chsxlz0n6ld25hkms7fljx0c0000gn/T/ipykernel_32341/1587133196.py:17: UserWarning: Geometry is in a geographic CRS. Results from 'centroid' are likely incorrect. Use 'GeoSeries.to_crs()' to re-project geometries to a projected CRS before this operation.\n",
      "\n",
      "  taxi_zones['lon'] = taxi_zones.centroid.x\n",
      "/var/folders/0l/chsxlz0n6ld25hkms7fljx0c0000gn/T/ipykernel_32341/1587133196.py:18: UserWarning: Geometry is in a geographic CRS. Results from 'centroid' are likely incorrect. Use 'GeoSeries.to_crs()' to re-project geometries to a projected CRS before this operation.\n",
      "\n",
      "  taxi_zones['lat'] = taxi_zones.centroid.y\n",
      "/var/folders/0l/chsxlz0n6ld25hkms7fljx0c0000gn/T/ipykernel_32341/1587133196.py:17: UserWarning: Geometry is in a geographic CRS. Results from 'centroid' are likely incorrect. Use 'GeoSeries.to_crs()' to re-project geometries to a projected CRS before this operation.\n",
      "\n",
      "  taxi_zones['lon'] = taxi_zones.centroid.x\n",
      "/var/folders/0l/chsxlz0n6ld25hkms7fljx0c0000gn/T/ipykernel_32341/1587133196.py:18: UserWarning: Geometry is in a geographic CRS. Results from 'centroid' are likely incorrect. Use 'GeoSeries.to_crs()' to re-project geometries to a projected CRS before this operation.\n",
      "\n",
      "  taxi_zones['lat'] = taxi_zones.centroid.y\n",
      "/var/folders/0l/chsxlz0n6ld25hkms7fljx0c0000gn/T/ipykernel_32341/1587133196.py:17: UserWarning: Geometry is in a geographic CRS. Results from 'centroid' are likely incorrect. Use 'GeoSeries.to_crs()' to re-project geometries to a projected CRS before this operation.\n",
      "\n",
      "  taxi_zones['lon'] = taxi_zones.centroid.x\n",
      "/var/folders/0l/chsxlz0n6ld25hkms7fljx0c0000gn/T/ipykernel_32341/1587133196.py:18: UserWarning: Geometry is in a geographic CRS. Results from 'centroid' are likely incorrect. Use 'GeoSeries.to_crs()' to re-project geometries to a projected CRS before this operation.\n",
      "\n",
      "  taxi_zones['lat'] = taxi_zones.centroid.y\n",
      "/var/folders/0l/chsxlz0n6ld25hkms7fljx0c0000gn/T/ipykernel_32341/1587133196.py:17: UserWarning: Geometry is in a geographic CRS. Results from 'centroid' are likely incorrect. Use 'GeoSeries.to_crs()' to re-project geometries to a projected CRS before this operation.\n",
      "\n",
      "  taxi_zones['lon'] = taxi_zones.centroid.x\n",
      "/var/folders/0l/chsxlz0n6ld25hkms7fljx0c0000gn/T/ipykernel_32341/1587133196.py:18: UserWarning: Geometry is in a geographic CRS. Results from 'centroid' are likely incorrect. Use 'GeoSeries.to_crs()' to re-project geometries to a projected CRS before this operation.\n",
      "\n",
      "  taxi_zones['lat'] = taxi_zones.centroid.y\n",
      "/var/folders/0l/chsxlz0n6ld25hkms7fljx0c0000gn/T/ipykernel_32341/1587133196.py:17: UserWarning: Geometry is in a geographic CRS. Results from 'centroid' are likely incorrect. Use 'GeoSeries.to_crs()' to re-project geometries to a projected CRS before this operation.\n",
      "\n",
      "  taxi_zones['lon'] = taxi_zones.centroid.x\n",
      "/var/folders/0l/chsxlz0n6ld25hkms7fljx0c0000gn/T/ipykernel_32341/1587133196.py:18: UserWarning: Geometry is in a geographic CRS. Results from 'centroid' are likely incorrect. Use 'GeoSeries.to_crs()' to re-project geometries to a projected CRS before this operation.\n",
      "\n",
      "  taxi_zones['lat'] = taxi_zones.centroid.y\n",
      "/var/folders/0l/chsxlz0n6ld25hkms7fljx0c0000gn/T/ipykernel_32341/1587133196.py:17: UserWarning: Geometry is in a geographic CRS. Results from 'centroid' are likely incorrect. Use 'GeoSeries.to_crs()' to re-project geometries to a projected CRS before this operation.\n",
      "\n",
      "  taxi_zones['lon'] = taxi_zones.centroid.x\n",
      "/var/folders/0l/chsxlz0n6ld25hkms7fljx0c0000gn/T/ipykernel_32341/1587133196.py:18: UserWarning: Geometry is in a geographic CRS. Results from 'centroid' are likely incorrect. Use 'GeoSeries.to_crs()' to re-project geometries to a projected CRS before this operation.\n",
      "\n",
      "  taxi_zones['lat'] = taxi_zones.centroid.y\n",
      "/var/folders/0l/chsxlz0n6ld25hkms7fljx0c0000gn/T/ipykernel_32341/1587133196.py:17: UserWarning: Geometry is in a geographic CRS. Results from 'centroid' are likely incorrect. Use 'GeoSeries.to_crs()' to re-project geometries to a projected CRS before this operation.\n",
      "\n",
      "  taxi_zones['lon'] = taxi_zones.centroid.x\n",
      "/var/folders/0l/chsxlz0n6ld25hkms7fljx0c0000gn/T/ipykernel_32341/1587133196.py:18: UserWarning: Geometry is in a geographic CRS. Results from 'centroid' are likely incorrect. Use 'GeoSeries.to_crs()' to re-project geometries to a projected CRS before this operation.\n",
      "\n",
      "  taxi_zones['lat'] = taxi_zones.centroid.y\n",
      "/var/folders/0l/chsxlz0n6ld25hkms7fljx0c0000gn/T/ipykernel_32341/1587133196.py:17: UserWarning: Geometry is in a geographic CRS. Results from 'centroid' are likely incorrect. Use 'GeoSeries.to_crs()' to re-project geometries to a projected CRS before this operation.\n",
      "\n",
      "  taxi_zones['lon'] = taxi_zones.centroid.x\n",
      "/var/folders/0l/chsxlz0n6ld25hkms7fljx0c0000gn/T/ipykernel_32341/1587133196.py:18: UserWarning: Geometry is in a geographic CRS. Results from 'centroid' are likely incorrect. Use 'GeoSeries.to_crs()' to re-project geometries to a projected CRS before this operation.\n",
      "\n",
      "  taxi_zones['lat'] = taxi_zones.centroid.y\n",
      "/var/folders/0l/chsxlz0n6ld25hkms7fljx0c0000gn/T/ipykernel_32341/1587133196.py:17: UserWarning: Geometry is in a geographic CRS. Results from 'centroid' are likely incorrect. Use 'GeoSeries.to_crs()' to re-project geometries to a projected CRS before this operation.\n",
      "\n",
      "  taxi_zones['lon'] = taxi_zones.centroid.x\n",
      "/var/folders/0l/chsxlz0n6ld25hkms7fljx0c0000gn/T/ipykernel_32341/1587133196.py:18: UserWarning: Geometry is in a geographic CRS. Results from 'centroid' are likely incorrect. Use 'GeoSeries.to_crs()' to re-project geometries to a projected CRS before this operation.\n",
      "\n",
      "  taxi_zones['lat'] = taxi_zones.centroid.y\n",
      "/var/folders/0l/chsxlz0n6ld25hkms7fljx0c0000gn/T/ipykernel_32341/1587133196.py:17: UserWarning: Geometry is in a geographic CRS. Results from 'centroid' are likely incorrect. Use 'GeoSeries.to_crs()' to re-project geometries to a projected CRS before this operation.\n",
      "\n",
      "  taxi_zones['lon'] = taxi_zones.centroid.x\n",
      "/var/folders/0l/chsxlz0n6ld25hkms7fljx0c0000gn/T/ipykernel_32341/1587133196.py:18: UserWarning: Geometry is in a geographic CRS. Results from 'centroid' are likely incorrect. Use 'GeoSeries.to_crs()' to re-project geometries to a projected CRS before this operation.\n",
      "\n",
      "  taxi_zones['lat'] = taxi_zones.centroid.y\n",
      "/var/folders/0l/chsxlz0n6ld25hkms7fljx0c0000gn/T/ipykernel_32341/1587133196.py:17: UserWarning: Geometry is in a geographic CRS. Results from 'centroid' are likely incorrect. Use 'GeoSeries.to_crs()' to re-project geometries to a projected CRS before this operation.\n",
      "\n",
      "  taxi_zones['lon'] = taxi_zones.centroid.x\n",
      "/var/folders/0l/chsxlz0n6ld25hkms7fljx0c0000gn/T/ipykernel_32341/1587133196.py:18: UserWarning: Geometry is in a geographic CRS. Results from 'centroid' are likely incorrect. Use 'GeoSeries.to_crs()' to re-project geometries to a projected CRS before this operation.\n",
      "\n",
      "  taxi_zones['lat'] = taxi_zones.centroid.y\n",
      "/var/folders/0l/chsxlz0n6ld25hkms7fljx0c0000gn/T/ipykernel_32341/1587133196.py:17: UserWarning: Geometry is in a geographic CRS. Results from 'centroid' are likely incorrect. Use 'GeoSeries.to_crs()' to re-project geometries to a projected CRS before this operation.\n",
      "\n",
      "  taxi_zones['lon'] = taxi_zones.centroid.x\n",
      "/var/folders/0l/chsxlz0n6ld25hkms7fljx0c0000gn/T/ipykernel_32341/1587133196.py:18: UserWarning: Geometry is in a geographic CRS. Results from 'centroid' are likely incorrect. Use 'GeoSeries.to_crs()' to re-project geometries to a projected CRS before this operation.\n",
      "\n",
      "  taxi_zones['lat'] = taxi_zones.centroid.y\n",
      "/var/folders/0l/chsxlz0n6ld25hkms7fljx0c0000gn/T/ipykernel_32341/1587133196.py:17: UserWarning: Geometry is in a geographic CRS. Results from 'centroid' are likely incorrect. Use 'GeoSeries.to_crs()' to re-project geometries to a projected CRS before this operation.\n",
      "\n",
      "  taxi_zones['lon'] = taxi_zones.centroid.x\n",
      "/var/folders/0l/chsxlz0n6ld25hkms7fljx0c0000gn/T/ipykernel_32341/1587133196.py:18: UserWarning: Geometry is in a geographic CRS. Results from 'centroid' are likely incorrect. Use 'GeoSeries.to_crs()' to re-project geometries to a projected CRS before this operation.\n",
      "\n",
      "  taxi_zones['lat'] = taxi_zones.centroid.y\n",
      "/var/folders/0l/chsxlz0n6ld25hkms7fljx0c0000gn/T/ipykernel_32341/1587133196.py:17: UserWarning: Geometry is in a geographic CRS. Results from 'centroid' are likely incorrect. Use 'GeoSeries.to_crs()' to re-project geometries to a projected CRS before this operation.\n",
      "\n",
      "  taxi_zones['lon'] = taxi_zones.centroid.x\n",
      "/var/folders/0l/chsxlz0n6ld25hkms7fljx0c0000gn/T/ipykernel_32341/1587133196.py:18: UserWarning: Geometry is in a geographic CRS. Results from 'centroid' are likely incorrect. Use 'GeoSeries.to_crs()' to re-project geometries to a projected CRS before this operation.\n",
      "\n",
      "  taxi_zones['lat'] = taxi_zones.centroid.y\n",
      "/var/folders/0l/chsxlz0n6ld25hkms7fljx0c0000gn/T/ipykernel_32341/1587133196.py:17: UserWarning: Geometry is in a geographic CRS. Results from 'centroid' are likely incorrect. Use 'GeoSeries.to_crs()' to re-project geometries to a projected CRS before this operation.\n",
      "\n",
      "  taxi_zones['lon'] = taxi_zones.centroid.x\n",
      "/var/folders/0l/chsxlz0n6ld25hkms7fljx0c0000gn/T/ipykernel_32341/1587133196.py:18: UserWarning: Geometry is in a geographic CRS. Results from 'centroid' are likely incorrect. Use 'GeoSeries.to_crs()' to re-project geometries to a projected CRS before this operation.\n",
      "\n",
      "  taxi_zones['lat'] = taxi_zones.centroid.y\n",
      "/var/folders/0l/chsxlz0n6ld25hkms7fljx0c0000gn/T/ipykernel_32341/1587133196.py:17: UserWarning: Geometry is in a geographic CRS. Results from 'centroid' are likely incorrect. Use 'GeoSeries.to_crs()' to re-project geometries to a projected CRS before this operation.\n",
      "\n",
      "  taxi_zones['lon'] = taxi_zones.centroid.x\n",
      "/var/folders/0l/chsxlz0n6ld25hkms7fljx0c0000gn/T/ipykernel_32341/1587133196.py:18: UserWarning: Geometry is in a geographic CRS. Results from 'centroid' are likely incorrect. Use 'GeoSeries.to_crs()' to re-project geometries to a projected CRS before this operation.\n",
      "\n",
      "  taxi_zones['lat'] = taxi_zones.centroid.y\n",
      "/var/folders/0l/chsxlz0n6ld25hkms7fljx0c0000gn/T/ipykernel_32341/1587133196.py:17: UserWarning: Geometry is in a geographic CRS. Results from 'centroid' are likely incorrect. Use 'GeoSeries.to_crs()' to re-project geometries to a projected CRS before this operation.\n",
      "\n",
      "  taxi_zones['lon'] = taxi_zones.centroid.x\n",
      "/var/folders/0l/chsxlz0n6ld25hkms7fljx0c0000gn/T/ipykernel_32341/1587133196.py:18: UserWarning: Geometry is in a geographic CRS. Results from 'centroid' are likely incorrect. Use 'GeoSeries.to_crs()' to re-project geometries to a projected CRS before this operation.\n",
      "\n",
      "  taxi_zones['lat'] = taxi_zones.centroid.y\n",
      "/var/folders/0l/chsxlz0n6ld25hkms7fljx0c0000gn/T/ipykernel_32341/1587133196.py:17: UserWarning: Geometry is in a geographic CRS. Results from 'centroid' are likely incorrect. Use 'GeoSeries.to_crs()' to re-project geometries to a projected CRS before this operation.\n",
      "\n",
      "  taxi_zones['lon'] = taxi_zones.centroid.x\n",
      "/var/folders/0l/chsxlz0n6ld25hkms7fljx0c0000gn/T/ipykernel_32341/1587133196.py:18: UserWarning: Geometry is in a geographic CRS. Results from 'centroid' are likely incorrect. Use 'GeoSeries.to_crs()' to re-project geometries to a projected CRS before this operation.\n",
      "\n",
      "  taxi_zones['lat'] = taxi_zones.centroid.y\n",
      "/var/folders/0l/chsxlz0n6ld25hkms7fljx0c0000gn/T/ipykernel_32341/1587133196.py:17: UserWarning: Geometry is in a geographic CRS. Results from 'centroid' are likely incorrect. Use 'GeoSeries.to_crs()' to re-project geometries to a projected CRS before this operation.\n",
      "\n",
      "  taxi_zones['lon'] = taxi_zones.centroid.x\n",
      "/var/folders/0l/chsxlz0n6ld25hkms7fljx0c0000gn/T/ipykernel_32341/1587133196.py:18: UserWarning: Geometry is in a geographic CRS. Results from 'centroid' are likely incorrect. Use 'GeoSeries.to_crs()' to re-project geometries to a projected CRS before this operation.\n",
      "\n",
      "  taxi_zones['lat'] = taxi_zones.centroid.y\n",
      "/var/folders/0l/chsxlz0n6ld25hkms7fljx0c0000gn/T/ipykernel_32341/1587133196.py:17: UserWarning: Geometry is in a geographic CRS. Results from 'centroid' are likely incorrect. Use 'GeoSeries.to_crs()' to re-project geometries to a projected CRS before this operation.\n",
      "\n",
      "  taxi_zones['lon'] = taxi_zones.centroid.x\n",
      "/var/folders/0l/chsxlz0n6ld25hkms7fljx0c0000gn/T/ipykernel_32341/1587133196.py:18: UserWarning: Geometry is in a geographic CRS. Results from 'centroid' are likely incorrect. Use 'GeoSeries.to_crs()' to re-project geometries to a projected CRS before this operation.\n",
      "\n",
      "  taxi_zones['lat'] = taxi_zones.centroid.y\n",
      "/var/folders/0l/chsxlz0n6ld25hkms7fljx0c0000gn/T/ipykernel_32341/1587133196.py:17: UserWarning: Geometry is in a geographic CRS. Results from 'centroid' are likely incorrect. Use 'GeoSeries.to_crs()' to re-project geometries to a projected CRS before this operation.\n",
      "\n",
      "  taxi_zones['lon'] = taxi_zones.centroid.x\n",
      "/var/folders/0l/chsxlz0n6ld25hkms7fljx0c0000gn/T/ipykernel_32341/1587133196.py:18: UserWarning: Geometry is in a geographic CRS. Results from 'centroid' are likely incorrect. Use 'GeoSeries.to_crs()' to re-project geometries to a projected CRS before this operation.\n",
      "\n",
      "  taxi_zones['lat'] = taxi_zones.centroid.y\n",
      "/var/folders/0l/chsxlz0n6ld25hkms7fljx0c0000gn/T/ipykernel_32341/1587133196.py:17: UserWarning: Geometry is in a geographic CRS. Results from 'centroid' are likely incorrect. Use 'GeoSeries.to_crs()' to re-project geometries to a projected CRS before this operation.\n",
      "\n",
      "  taxi_zones['lon'] = taxi_zones.centroid.x\n",
      "/var/folders/0l/chsxlz0n6ld25hkms7fljx0c0000gn/T/ipykernel_32341/1587133196.py:18: UserWarning: Geometry is in a geographic CRS. Results from 'centroid' are likely incorrect. Use 'GeoSeries.to_crs()' to re-project geometries to a projected CRS before this operation.\n",
      "\n",
      "  taxi_zones['lat'] = taxi_zones.centroid.y\n",
      "/var/folders/0l/chsxlz0n6ld25hkms7fljx0c0000gn/T/ipykernel_32341/1587133196.py:17: UserWarning: Geometry is in a geographic CRS. Results from 'centroid' are likely incorrect. Use 'GeoSeries.to_crs()' to re-project geometries to a projected CRS before this operation.\n",
      "\n",
      "  taxi_zones['lon'] = taxi_zones.centroid.x\n",
      "/var/folders/0l/chsxlz0n6ld25hkms7fljx0c0000gn/T/ipykernel_32341/1587133196.py:18: UserWarning: Geometry is in a geographic CRS. Results from 'centroid' are likely incorrect. Use 'GeoSeries.to_crs()' to re-project geometries to a projected CRS before this operation.\n",
      "\n",
      "  taxi_zones['lat'] = taxi_zones.centroid.y\n",
      "/var/folders/0l/chsxlz0n6ld25hkms7fljx0c0000gn/T/ipykernel_32341/1587133196.py:17: UserWarning: Geometry is in a geographic CRS. Results from 'centroid' are likely incorrect. Use 'GeoSeries.to_crs()' to re-project geometries to a projected CRS before this operation.\n",
      "\n",
      "  taxi_zones['lon'] = taxi_zones.centroid.x\n",
      "/var/folders/0l/chsxlz0n6ld25hkms7fljx0c0000gn/T/ipykernel_32341/1587133196.py:18: UserWarning: Geometry is in a geographic CRS. Results from 'centroid' are likely incorrect. Use 'GeoSeries.to_crs()' to re-project geometries to a projected CRS before this operation.\n",
      "\n",
      "  taxi_zones['lat'] = taxi_zones.centroid.y\n",
      "/var/folders/0l/chsxlz0n6ld25hkms7fljx0c0000gn/T/ipykernel_32341/1587133196.py:17: UserWarning: Geometry is in a geographic CRS. Results from 'centroid' are likely incorrect. Use 'GeoSeries.to_crs()' to re-project geometries to a projected CRS before this operation.\n",
      "\n",
      "  taxi_zones['lon'] = taxi_zones.centroid.x\n",
      "/var/folders/0l/chsxlz0n6ld25hkms7fljx0c0000gn/T/ipykernel_32341/1587133196.py:18: UserWarning: Geometry is in a geographic CRS. Results from 'centroid' are likely incorrect. Use 'GeoSeries.to_crs()' to re-project geometries to a projected CRS before this operation.\n",
      "\n",
      "  taxi_zones['lat'] = taxi_zones.centroid.y\n",
      "/var/folders/0l/chsxlz0n6ld25hkms7fljx0c0000gn/T/ipykernel_32341/1587133196.py:17: UserWarning: Geometry is in a geographic CRS. Results from 'centroid' are likely incorrect. Use 'GeoSeries.to_crs()' to re-project geometries to a projected CRS before this operation.\n",
      "\n",
      "  taxi_zones['lon'] = taxi_zones.centroid.x\n",
      "/var/folders/0l/chsxlz0n6ld25hkms7fljx0c0000gn/T/ipykernel_32341/1587133196.py:18: UserWarning: Geometry is in a geographic CRS. Results from 'centroid' are likely incorrect. Use 'GeoSeries.to_crs()' to re-project geometries to a projected CRS before this operation.\n",
      "\n",
      "  taxi_zones['lat'] = taxi_zones.centroid.y\n",
      "/var/folders/0l/chsxlz0n6ld25hkms7fljx0c0000gn/T/ipykernel_32341/1587133196.py:17: UserWarning: Geometry is in a geographic CRS. Results from 'centroid' are likely incorrect. Use 'GeoSeries.to_crs()' to re-project geometries to a projected CRS before this operation.\n",
      "\n",
      "  taxi_zones['lon'] = taxi_zones.centroid.x\n",
      "/var/folders/0l/chsxlz0n6ld25hkms7fljx0c0000gn/T/ipykernel_32341/1587133196.py:18: UserWarning: Geometry is in a geographic CRS. Results from 'centroid' are likely incorrect. Use 'GeoSeries.to_crs()' to re-project geometries to a projected CRS before this operation.\n",
      "\n",
      "  taxi_zones['lat'] = taxi_zones.centroid.y\n",
      "/var/folders/0l/chsxlz0n6ld25hkms7fljx0c0000gn/T/ipykernel_32341/1587133196.py:17: UserWarning: Geometry is in a geographic CRS. Results from 'centroid' are likely incorrect. Use 'GeoSeries.to_crs()' to re-project geometries to a projected CRS before this operation.\n",
      "\n",
      "  taxi_zones['lon'] = taxi_zones.centroid.x\n",
      "/var/folders/0l/chsxlz0n6ld25hkms7fljx0c0000gn/T/ipykernel_32341/1587133196.py:18: UserWarning: Geometry is in a geographic CRS. Results from 'centroid' are likely incorrect. Use 'GeoSeries.to_crs()' to re-project geometries to a projected CRS before this operation.\n",
      "\n",
      "  taxi_zones['lat'] = taxi_zones.centroid.y\n",
      "/var/folders/0l/chsxlz0n6ld25hkms7fljx0c0000gn/T/ipykernel_32341/1587133196.py:17: UserWarning: Geometry is in a geographic CRS. Results from 'centroid' are likely incorrect. Use 'GeoSeries.to_crs()' to re-project geometries to a projected CRS before this operation.\n",
      "\n",
      "  taxi_zones['lon'] = taxi_zones.centroid.x\n",
      "/var/folders/0l/chsxlz0n6ld25hkms7fljx0c0000gn/T/ipykernel_32341/1587133196.py:18: UserWarning: Geometry is in a geographic CRS. Results from 'centroid' are likely incorrect. Use 'GeoSeries.to_crs()' to re-project geometries to a projected CRS before this operation.\n",
      "\n",
      "  taxi_zones['lat'] = taxi_zones.centroid.y\n",
      "/var/folders/0l/chsxlz0n6ld25hkms7fljx0c0000gn/T/ipykernel_32341/1587133196.py:17: UserWarning: Geometry is in a geographic CRS. Results from 'centroid' are likely incorrect. Use 'GeoSeries.to_crs()' to re-project geometries to a projected CRS before this operation.\n",
      "\n",
      "  taxi_zones['lon'] = taxi_zones.centroid.x\n",
      "/var/folders/0l/chsxlz0n6ld25hkms7fljx0c0000gn/T/ipykernel_32341/1587133196.py:18: UserWarning: Geometry is in a geographic CRS. Results from 'centroid' are likely incorrect. Use 'GeoSeries.to_crs()' to re-project geometries to a projected CRS before this operation.\n",
      "\n",
      "  taxi_zones['lat'] = taxi_zones.centroid.y\n",
      "/var/folders/0l/chsxlz0n6ld25hkms7fljx0c0000gn/T/ipykernel_32341/1587133196.py:17: UserWarning: Geometry is in a geographic CRS. Results from 'centroid' are likely incorrect. Use 'GeoSeries.to_crs()' to re-project geometries to a projected CRS before this operation.\n",
      "\n",
      "  taxi_zones['lon'] = taxi_zones.centroid.x\n",
      "/var/folders/0l/chsxlz0n6ld25hkms7fljx0c0000gn/T/ipykernel_32341/1587133196.py:18: UserWarning: Geometry is in a geographic CRS. Results from 'centroid' are likely incorrect. Use 'GeoSeries.to_crs()' to re-project geometries to a projected CRS before this operation.\n",
      "\n",
      "  taxi_zones['lat'] = taxi_zones.centroid.y\n",
      "/var/folders/0l/chsxlz0n6ld25hkms7fljx0c0000gn/T/ipykernel_32341/1587133196.py:17: UserWarning: Geometry is in a geographic CRS. Results from 'centroid' are likely incorrect. Use 'GeoSeries.to_crs()' to re-project geometries to a projected CRS before this operation.\n",
      "\n",
      "  taxi_zones['lon'] = taxi_zones.centroid.x\n",
      "/var/folders/0l/chsxlz0n6ld25hkms7fljx0c0000gn/T/ipykernel_32341/1587133196.py:18: UserWarning: Geometry is in a geographic CRS. Results from 'centroid' are likely incorrect. Use 'GeoSeries.to_crs()' to re-project geometries to a projected CRS before this operation.\n",
      "\n",
      "  taxi_zones['lat'] = taxi_zones.centroid.y\n",
      "/var/folders/0l/chsxlz0n6ld25hkms7fljx0c0000gn/T/ipykernel_32341/1587133196.py:17: UserWarning: Geometry is in a geographic CRS. Results from 'centroid' are likely incorrect. Use 'GeoSeries.to_crs()' to re-project geometries to a projected CRS before this operation.\n",
      "\n",
      "  taxi_zones['lon'] = taxi_zones.centroid.x\n",
      "/var/folders/0l/chsxlz0n6ld25hkms7fljx0c0000gn/T/ipykernel_32341/1587133196.py:18: UserWarning: Geometry is in a geographic CRS. Results from 'centroid' are likely incorrect. Use 'GeoSeries.to_crs()' to re-project geometries to a projected CRS before this operation.\n",
      "\n",
      "  taxi_zones['lat'] = taxi_zones.centroid.y\n",
      "/var/folders/0l/chsxlz0n6ld25hkms7fljx0c0000gn/T/ipykernel_32341/1587133196.py:17: UserWarning: Geometry is in a geographic CRS. Results from 'centroid' are likely incorrect. Use 'GeoSeries.to_crs()' to re-project geometries to a projected CRS before this operation.\n",
      "\n",
      "  taxi_zones['lon'] = taxi_zones.centroid.x\n",
      "/var/folders/0l/chsxlz0n6ld25hkms7fljx0c0000gn/T/ipykernel_32341/1587133196.py:18: UserWarning: Geometry is in a geographic CRS. Results from 'centroid' are likely incorrect. Use 'GeoSeries.to_crs()' to re-project geometries to a projected CRS before this operation.\n",
      "\n",
      "  taxi_zones['lat'] = taxi_zones.centroid.y\n",
      "/var/folders/0l/chsxlz0n6ld25hkms7fljx0c0000gn/T/ipykernel_32341/1587133196.py:17: UserWarning: Geometry is in a geographic CRS. Results from 'centroid' are likely incorrect. Use 'GeoSeries.to_crs()' to re-project geometries to a projected CRS before this operation.\n",
      "\n",
      "  taxi_zones['lon'] = taxi_zones.centroid.x\n",
      "/var/folders/0l/chsxlz0n6ld25hkms7fljx0c0000gn/T/ipykernel_32341/1587133196.py:18: UserWarning: Geometry is in a geographic CRS. Results from 'centroid' are likely incorrect. Use 'GeoSeries.to_crs()' to re-project geometries to a projected CRS before this operation.\n",
      "\n",
      "  taxi_zones['lat'] = taxi_zones.centroid.y\n",
      "/var/folders/0l/chsxlz0n6ld25hkms7fljx0c0000gn/T/ipykernel_32341/1587133196.py:17: UserWarning: Geometry is in a geographic CRS. Results from 'centroid' are likely incorrect. Use 'GeoSeries.to_crs()' to re-project geometries to a projected CRS before this operation.\n",
      "\n",
      "  taxi_zones['lon'] = taxi_zones.centroid.x\n",
      "/var/folders/0l/chsxlz0n6ld25hkms7fljx0c0000gn/T/ipykernel_32341/1587133196.py:18: UserWarning: Geometry is in a geographic CRS. Results from 'centroid' are likely incorrect. Use 'GeoSeries.to_crs()' to re-project geometries to a projected CRS before this operation.\n",
      "\n",
      "  taxi_zones['lat'] = taxi_zones.centroid.y\n",
      "/var/folders/0l/chsxlz0n6ld25hkms7fljx0c0000gn/T/ipykernel_32341/1587133196.py:17: UserWarning: Geometry is in a geographic CRS. Results from 'centroid' are likely incorrect. Use 'GeoSeries.to_crs()' to re-project geometries to a projected CRS before this operation.\n",
      "\n",
      "  taxi_zones['lon'] = taxi_zones.centroid.x\n",
      "/var/folders/0l/chsxlz0n6ld25hkms7fljx0c0000gn/T/ipykernel_32341/1587133196.py:18: UserWarning: Geometry is in a geographic CRS. Results from 'centroid' are likely incorrect. Use 'GeoSeries.to_crs()' to re-project geometries to a projected CRS before this operation.\n",
      "\n",
      "  taxi_zones['lat'] = taxi_zones.centroid.y\n",
      "/var/folders/0l/chsxlz0n6ld25hkms7fljx0c0000gn/T/ipykernel_32341/1587133196.py:17: UserWarning: Geometry is in a geographic CRS. Results from 'centroid' are likely incorrect. Use 'GeoSeries.to_crs()' to re-project geometries to a projected CRS before this operation.\n",
      "\n",
      "  taxi_zones['lon'] = taxi_zones.centroid.x\n",
      "/var/folders/0l/chsxlz0n6ld25hkms7fljx0c0000gn/T/ipykernel_32341/1587133196.py:18: UserWarning: Geometry is in a geographic CRS. Results from 'centroid' are likely incorrect. Use 'GeoSeries.to_crs()' to re-project geometries to a projected CRS before this operation.\n",
      "\n",
      "  taxi_zones['lat'] = taxi_zones.centroid.y\n",
      "/var/folders/0l/chsxlz0n6ld25hkms7fljx0c0000gn/T/ipykernel_32341/1587133196.py:17: UserWarning: Geometry is in a geographic CRS. Results from 'centroid' are likely incorrect. Use 'GeoSeries.to_crs()' to re-project geometries to a projected CRS before this operation.\n",
      "\n",
      "  taxi_zones['lon'] = taxi_zones.centroid.x\n",
      "/var/folders/0l/chsxlz0n6ld25hkms7fljx0c0000gn/T/ipykernel_32341/1587133196.py:18: UserWarning: Geometry is in a geographic CRS. Results from 'centroid' are likely incorrect. Use 'GeoSeries.to_crs()' to re-project geometries to a projected CRS before this operation.\n",
      "\n",
      "  taxi_zones['lat'] = taxi_zones.centroid.y\n",
      "/var/folders/0l/chsxlz0n6ld25hkms7fljx0c0000gn/T/ipykernel_32341/1587133196.py:17: UserWarning: Geometry is in a geographic CRS. Results from 'centroid' are likely incorrect. Use 'GeoSeries.to_crs()' to re-project geometries to a projected CRS before this operation.\n",
      "\n",
      "  taxi_zones['lon'] = taxi_zones.centroid.x\n",
      "/var/folders/0l/chsxlz0n6ld25hkms7fljx0c0000gn/T/ipykernel_32341/1587133196.py:18: UserWarning: Geometry is in a geographic CRS. Results from 'centroid' are likely incorrect. Use 'GeoSeries.to_crs()' to re-project geometries to a projected CRS before this operation.\n",
      "\n",
      "  taxi_zones['lat'] = taxi_zones.centroid.y\n",
      "/var/folders/0l/chsxlz0n6ld25hkms7fljx0c0000gn/T/ipykernel_32341/1587133196.py:17: UserWarning: Geometry is in a geographic CRS. Results from 'centroid' are likely incorrect. Use 'GeoSeries.to_crs()' to re-project geometries to a projected CRS before this operation.\n",
      "\n",
      "  taxi_zones['lon'] = taxi_zones.centroid.x\n",
      "/var/folders/0l/chsxlz0n6ld25hkms7fljx0c0000gn/T/ipykernel_32341/1587133196.py:18: UserWarning: Geometry is in a geographic CRS. Results from 'centroid' are likely incorrect. Use 'GeoSeries.to_crs()' to re-project geometries to a projected CRS before this operation.\n",
      "\n",
      "  taxi_zones['lat'] = taxi_zones.centroid.y\n",
      "/var/folders/0l/chsxlz0n6ld25hkms7fljx0c0000gn/T/ipykernel_32341/1587133196.py:17: UserWarning: Geometry is in a geographic CRS. Results from 'centroid' are likely incorrect. Use 'GeoSeries.to_crs()' to re-project geometries to a projected CRS before this operation.\n",
      "\n",
      "  taxi_zones['lon'] = taxi_zones.centroid.x\n",
      "/var/folders/0l/chsxlz0n6ld25hkms7fljx0c0000gn/T/ipykernel_32341/1587133196.py:18: UserWarning: Geometry is in a geographic CRS. Results from 'centroid' are likely incorrect. Use 'GeoSeries.to_crs()' to re-project geometries to a projected CRS before this operation.\n",
      "\n",
      "  taxi_zones['lat'] = taxi_zones.centroid.y\n",
      "/var/folders/0l/chsxlz0n6ld25hkms7fljx0c0000gn/T/ipykernel_32341/1587133196.py:17: UserWarning: Geometry is in a geographic CRS. Results from 'centroid' are likely incorrect. Use 'GeoSeries.to_crs()' to re-project geometries to a projected CRS before this operation.\n",
      "\n",
      "  taxi_zones['lon'] = taxi_zones.centroid.x\n",
      "/var/folders/0l/chsxlz0n6ld25hkms7fljx0c0000gn/T/ipykernel_32341/1587133196.py:18: UserWarning: Geometry is in a geographic CRS. Results from 'centroid' are likely incorrect. Use 'GeoSeries.to_crs()' to re-project geometries to a projected CRS before this operation.\n",
      "\n",
      "  taxi_zones['lat'] = taxi_zones.centroid.y\n",
      "/var/folders/0l/chsxlz0n6ld25hkms7fljx0c0000gn/T/ipykernel_32341/1587133196.py:17: UserWarning: Geometry is in a geographic CRS. Results from 'centroid' are likely incorrect. Use 'GeoSeries.to_crs()' to re-project geometries to a projected CRS before this operation.\n",
      "\n",
      "  taxi_zones['lon'] = taxi_zones.centroid.x\n",
      "/var/folders/0l/chsxlz0n6ld25hkms7fljx0c0000gn/T/ipykernel_32341/1587133196.py:18: UserWarning: Geometry is in a geographic CRS. Results from 'centroid' are likely incorrect. Use 'GeoSeries.to_crs()' to re-project geometries to a projected CRS before this operation.\n",
      "\n",
      "  taxi_zones['lat'] = taxi_zones.centroid.y\n",
      "/var/folders/0l/chsxlz0n6ld25hkms7fljx0c0000gn/T/ipykernel_32341/1587133196.py:17: UserWarning: Geometry is in a geographic CRS. Results from 'centroid' are likely incorrect. Use 'GeoSeries.to_crs()' to re-project geometries to a projected CRS before this operation.\n",
      "\n",
      "  taxi_zones['lon'] = taxi_zones.centroid.x\n",
      "/var/folders/0l/chsxlz0n6ld25hkms7fljx0c0000gn/T/ipykernel_32341/1587133196.py:18: UserWarning: Geometry is in a geographic CRS. Results from 'centroid' are likely incorrect. Use 'GeoSeries.to_crs()' to re-project geometries to a projected CRS before this operation.\n",
      "\n",
      "  taxi_zones['lat'] = taxi_zones.centroid.y\n",
      "/var/folders/0l/chsxlz0n6ld25hkms7fljx0c0000gn/T/ipykernel_32341/1587133196.py:17: UserWarning: Geometry is in a geographic CRS. Results from 'centroid' are likely incorrect. Use 'GeoSeries.to_crs()' to re-project geometries to a projected CRS before this operation.\n",
      "\n",
      "  taxi_zones['lon'] = taxi_zones.centroid.x\n",
      "/var/folders/0l/chsxlz0n6ld25hkms7fljx0c0000gn/T/ipykernel_32341/1587133196.py:18: UserWarning: Geometry is in a geographic CRS. Results from 'centroid' are likely incorrect. Use 'GeoSeries.to_crs()' to re-project geometries to a projected CRS before this operation.\n",
      "\n",
      "  taxi_zones['lat'] = taxi_zones.centroid.y\n",
      "/var/folders/0l/chsxlz0n6ld25hkms7fljx0c0000gn/T/ipykernel_32341/1587133196.py:17: UserWarning: Geometry is in a geographic CRS. Results from 'centroid' are likely incorrect. Use 'GeoSeries.to_crs()' to re-project geometries to a projected CRS before this operation.\n",
      "\n",
      "  taxi_zones['lon'] = taxi_zones.centroid.x\n",
      "/var/folders/0l/chsxlz0n6ld25hkms7fljx0c0000gn/T/ipykernel_32341/1587133196.py:18: UserWarning: Geometry is in a geographic CRS. Results from 'centroid' are likely incorrect. Use 'GeoSeries.to_crs()' to re-project geometries to a projected CRS before this operation.\n",
      "\n",
      "  taxi_zones['lat'] = taxi_zones.centroid.y\n",
      "/var/folders/0l/chsxlz0n6ld25hkms7fljx0c0000gn/T/ipykernel_32341/1587133196.py:17: UserWarning: Geometry is in a geographic CRS. Results from 'centroid' are likely incorrect. Use 'GeoSeries.to_crs()' to re-project geometries to a projected CRS before this operation.\n",
      "\n",
      "  taxi_zones['lon'] = taxi_zones.centroid.x\n",
      "/var/folders/0l/chsxlz0n6ld25hkms7fljx0c0000gn/T/ipykernel_32341/1587133196.py:18: UserWarning: Geometry is in a geographic CRS. Results from 'centroid' are likely incorrect. Use 'GeoSeries.to_crs()' to re-project geometries to a projected CRS before this operation.\n",
      "\n",
      "  taxi_zones['lat'] = taxi_zones.centroid.y\n",
      "/var/folders/0l/chsxlz0n6ld25hkms7fljx0c0000gn/T/ipykernel_32341/1587133196.py:17: UserWarning: Geometry is in a geographic CRS. Results from 'centroid' are likely incorrect. Use 'GeoSeries.to_crs()' to re-project geometries to a projected CRS before this operation.\n",
      "\n",
      "  taxi_zones['lon'] = taxi_zones.centroid.x\n",
      "/var/folders/0l/chsxlz0n6ld25hkms7fljx0c0000gn/T/ipykernel_32341/1587133196.py:18: UserWarning: Geometry is in a geographic CRS. Results from 'centroid' are likely incorrect. Use 'GeoSeries.to_crs()' to re-project geometries to a projected CRS before this operation.\n",
      "\n",
      "  taxi_zones['lat'] = taxi_zones.centroid.y\n",
      "/var/folders/0l/chsxlz0n6ld25hkms7fljx0c0000gn/T/ipykernel_32341/1587133196.py:17: UserWarning: Geometry is in a geographic CRS. Results from 'centroid' are likely incorrect. Use 'GeoSeries.to_crs()' to re-project geometries to a projected CRS before this operation.\n",
      "\n",
      "  taxi_zones['lon'] = taxi_zones.centroid.x\n",
      "/var/folders/0l/chsxlz0n6ld25hkms7fljx0c0000gn/T/ipykernel_32341/1587133196.py:18: UserWarning: Geometry is in a geographic CRS. Results from 'centroid' are likely incorrect. Use 'GeoSeries.to_crs()' to re-project geometries to a projected CRS before this operation.\n",
      "\n",
      "  taxi_zones['lat'] = taxi_zones.centroid.y\n",
      "/var/folders/0l/chsxlz0n6ld25hkms7fljx0c0000gn/T/ipykernel_32341/1587133196.py:17: UserWarning: Geometry is in a geographic CRS. Results from 'centroid' are likely incorrect. Use 'GeoSeries.to_crs()' to re-project geometries to a projected CRS before this operation.\n",
      "\n",
      "  taxi_zones['lon'] = taxi_zones.centroid.x\n",
      "/var/folders/0l/chsxlz0n6ld25hkms7fljx0c0000gn/T/ipykernel_32341/1587133196.py:18: UserWarning: Geometry is in a geographic CRS. Results from 'centroid' are likely incorrect. Use 'GeoSeries.to_crs()' to re-project geometries to a projected CRS before this operation.\n",
      "\n",
      "  taxi_zones['lat'] = taxi_zones.centroid.y\n",
      "/var/folders/0l/chsxlz0n6ld25hkms7fljx0c0000gn/T/ipykernel_32341/1587133196.py:17: UserWarning: Geometry is in a geographic CRS. Results from 'centroid' are likely incorrect. Use 'GeoSeries.to_crs()' to re-project geometries to a projected CRS before this operation.\n",
      "\n",
      "  taxi_zones['lon'] = taxi_zones.centroid.x\n",
      "/var/folders/0l/chsxlz0n6ld25hkms7fljx0c0000gn/T/ipykernel_32341/1587133196.py:18: UserWarning: Geometry is in a geographic CRS. Results from 'centroid' are likely incorrect. Use 'GeoSeries.to_crs()' to re-project geometries to a projected CRS before this operation.\n",
      "\n",
      "  taxi_zones['lat'] = taxi_zones.centroid.y\n",
      "/var/folders/0l/chsxlz0n6ld25hkms7fljx0c0000gn/T/ipykernel_32341/1587133196.py:17: UserWarning: Geometry is in a geographic CRS. Results from 'centroid' are likely incorrect. Use 'GeoSeries.to_crs()' to re-project geometries to a projected CRS before this operation.\n",
      "\n",
      "  taxi_zones['lon'] = taxi_zones.centroid.x\n",
      "/var/folders/0l/chsxlz0n6ld25hkms7fljx0c0000gn/T/ipykernel_32341/1587133196.py:18: UserWarning: Geometry is in a geographic CRS. Results from 'centroid' are likely incorrect. Use 'GeoSeries.to_crs()' to re-project geometries to a projected CRS before this operation.\n",
      "\n",
      "  taxi_zones['lat'] = taxi_zones.centroid.y\n",
      "/var/folders/0l/chsxlz0n6ld25hkms7fljx0c0000gn/T/ipykernel_32341/1587133196.py:17: UserWarning: Geometry is in a geographic CRS. Results from 'centroid' are likely incorrect. Use 'GeoSeries.to_crs()' to re-project geometries to a projected CRS before this operation.\n",
      "\n",
      "  taxi_zones['lon'] = taxi_zones.centroid.x\n",
      "/var/folders/0l/chsxlz0n6ld25hkms7fljx0c0000gn/T/ipykernel_32341/1587133196.py:18: UserWarning: Geometry is in a geographic CRS. Results from 'centroid' are likely incorrect. Use 'GeoSeries.to_crs()' to re-project geometries to a projected CRS before this operation.\n",
      "\n",
      "  taxi_zones['lat'] = taxi_zones.centroid.y\n",
      "/var/folders/0l/chsxlz0n6ld25hkms7fljx0c0000gn/T/ipykernel_32341/1587133196.py:17: UserWarning: Geometry is in a geographic CRS. Results from 'centroid' are likely incorrect. Use 'GeoSeries.to_crs()' to re-project geometries to a projected CRS before this operation.\n",
      "\n",
      "  taxi_zones['lon'] = taxi_zones.centroid.x\n",
      "/var/folders/0l/chsxlz0n6ld25hkms7fljx0c0000gn/T/ipykernel_32341/1587133196.py:18: UserWarning: Geometry is in a geographic CRS. Results from 'centroid' are likely incorrect. Use 'GeoSeries.to_crs()' to re-project geometries to a projected CRS before this operation.\n",
      "\n",
      "  taxi_zones['lat'] = taxi_zones.centroid.y\n",
      "/var/folders/0l/chsxlz0n6ld25hkms7fljx0c0000gn/T/ipykernel_32341/1587133196.py:17: UserWarning: Geometry is in a geographic CRS. Results from 'centroid' are likely incorrect. Use 'GeoSeries.to_crs()' to re-project geometries to a projected CRS before this operation.\n",
      "\n",
      "  taxi_zones['lon'] = taxi_zones.centroid.x\n",
      "/var/folders/0l/chsxlz0n6ld25hkms7fljx0c0000gn/T/ipykernel_32341/1587133196.py:18: UserWarning: Geometry is in a geographic CRS. Results from 'centroid' are likely incorrect. Use 'GeoSeries.to_crs()' to re-project geometries to a projected CRS before this operation.\n",
      "\n",
      "  taxi_zones['lat'] = taxi_zones.centroid.y\n",
      "/var/folders/0l/chsxlz0n6ld25hkms7fljx0c0000gn/T/ipykernel_32341/1587133196.py:17: UserWarning: Geometry is in a geographic CRS. Results from 'centroid' are likely incorrect. Use 'GeoSeries.to_crs()' to re-project geometries to a projected CRS before this operation.\n",
      "\n",
      "  taxi_zones['lon'] = taxi_zones.centroid.x\n",
      "/var/folders/0l/chsxlz0n6ld25hkms7fljx0c0000gn/T/ipykernel_32341/1587133196.py:18: UserWarning: Geometry is in a geographic CRS. Results from 'centroid' are likely incorrect. Use 'GeoSeries.to_crs()' to re-project geometries to a projected CRS before this operation.\n",
      "\n",
      "  taxi_zones['lat'] = taxi_zones.centroid.y\n",
      "/var/folders/0l/chsxlz0n6ld25hkms7fljx0c0000gn/T/ipykernel_32341/1587133196.py:17: UserWarning: Geometry is in a geographic CRS. Results from 'centroid' are likely incorrect. Use 'GeoSeries.to_crs()' to re-project geometries to a projected CRS before this operation.\n",
      "\n",
      "  taxi_zones['lon'] = taxi_zones.centroid.x\n",
      "/var/folders/0l/chsxlz0n6ld25hkms7fljx0c0000gn/T/ipykernel_32341/1587133196.py:18: UserWarning: Geometry is in a geographic CRS. Results from 'centroid' are likely incorrect. Use 'GeoSeries.to_crs()' to re-project geometries to a projected CRS before this operation.\n",
      "\n",
      "  taxi_zones['lat'] = taxi_zones.centroid.y\n",
      "/var/folders/0l/chsxlz0n6ld25hkms7fljx0c0000gn/T/ipykernel_32341/1587133196.py:17: UserWarning: Geometry is in a geographic CRS. Results from 'centroid' are likely incorrect. Use 'GeoSeries.to_crs()' to re-project geometries to a projected CRS before this operation.\n",
      "\n",
      "  taxi_zones['lon'] = taxi_zones.centroid.x\n",
      "/var/folders/0l/chsxlz0n6ld25hkms7fljx0c0000gn/T/ipykernel_32341/1587133196.py:18: UserWarning: Geometry is in a geographic CRS. Results from 'centroid' are likely incorrect. Use 'GeoSeries.to_crs()' to re-project geometries to a projected CRS before this operation.\n",
      "\n",
      "  taxi_zones['lat'] = taxi_zones.centroid.y\n",
      "/var/folders/0l/chsxlz0n6ld25hkms7fljx0c0000gn/T/ipykernel_32341/1587133196.py:17: UserWarning: Geometry is in a geographic CRS. Results from 'centroid' are likely incorrect. Use 'GeoSeries.to_crs()' to re-project geometries to a projected CRS before this operation.\n",
      "\n",
      "  taxi_zones['lon'] = taxi_zones.centroid.x\n",
      "/var/folders/0l/chsxlz0n6ld25hkms7fljx0c0000gn/T/ipykernel_32341/1587133196.py:18: UserWarning: Geometry is in a geographic CRS. Results from 'centroid' are likely incorrect. Use 'GeoSeries.to_crs()' to re-project geometries to a projected CRS before this operation.\n",
      "\n",
      "  taxi_zones['lat'] = taxi_zones.centroid.y\n",
      "/var/folders/0l/chsxlz0n6ld25hkms7fljx0c0000gn/T/ipykernel_32341/1587133196.py:17: UserWarning: Geometry is in a geographic CRS. Results from 'centroid' are likely incorrect. Use 'GeoSeries.to_crs()' to re-project geometries to a projected CRS before this operation.\n",
      "\n",
      "  taxi_zones['lon'] = taxi_zones.centroid.x\n",
      "/var/folders/0l/chsxlz0n6ld25hkms7fljx0c0000gn/T/ipykernel_32341/1587133196.py:18: UserWarning: Geometry is in a geographic CRS. Results from 'centroid' are likely incorrect. Use 'GeoSeries.to_crs()' to re-project geometries to a projected CRS before this operation.\n",
      "\n",
      "  taxi_zones['lat'] = taxi_zones.centroid.y\n",
      "/var/folders/0l/chsxlz0n6ld25hkms7fljx0c0000gn/T/ipykernel_32341/1587133196.py:17: UserWarning: Geometry is in a geographic CRS. Results from 'centroid' are likely incorrect. Use 'GeoSeries.to_crs()' to re-project geometries to a projected CRS before this operation.\n",
      "\n",
      "  taxi_zones['lon'] = taxi_zones.centroid.x\n",
      "/var/folders/0l/chsxlz0n6ld25hkms7fljx0c0000gn/T/ipykernel_32341/1587133196.py:18: UserWarning: Geometry is in a geographic CRS. Results from 'centroid' are likely incorrect. Use 'GeoSeries.to_crs()' to re-project geometries to a projected CRS before this operation.\n",
      "\n",
      "  taxi_zones['lat'] = taxi_zones.centroid.y\n",
      "/var/folders/0l/chsxlz0n6ld25hkms7fljx0c0000gn/T/ipykernel_32341/1587133196.py:17: UserWarning: Geometry is in a geographic CRS. Results from 'centroid' are likely incorrect. Use 'GeoSeries.to_crs()' to re-project geometries to a projected CRS before this operation.\n",
      "\n",
      "  taxi_zones['lon'] = taxi_zones.centroid.x\n",
      "/var/folders/0l/chsxlz0n6ld25hkms7fljx0c0000gn/T/ipykernel_32341/1587133196.py:18: UserWarning: Geometry is in a geographic CRS. Results from 'centroid' are likely incorrect. Use 'GeoSeries.to_crs()' to re-project geometries to a projected CRS before this operation.\n",
      "\n",
      "  taxi_zones['lat'] = taxi_zones.centroid.y\n",
      "/var/folders/0l/chsxlz0n6ld25hkms7fljx0c0000gn/T/ipykernel_32341/1587133196.py:17: UserWarning: Geometry is in a geographic CRS. Results from 'centroid' are likely incorrect. Use 'GeoSeries.to_crs()' to re-project geometries to a projected CRS before this operation.\n",
      "\n",
      "  taxi_zones['lon'] = taxi_zones.centroid.x\n",
      "/var/folders/0l/chsxlz0n6ld25hkms7fljx0c0000gn/T/ipykernel_32341/1587133196.py:18: UserWarning: Geometry is in a geographic CRS. Results from 'centroid' are likely incorrect. Use 'GeoSeries.to_crs()' to re-project geometries to a projected CRS before this operation.\n",
      "\n",
      "  taxi_zones['lat'] = taxi_zones.centroid.y\n",
      "/var/folders/0l/chsxlz0n6ld25hkms7fljx0c0000gn/T/ipykernel_32341/1587133196.py:17: UserWarning: Geometry is in a geographic CRS. Results from 'centroid' are likely incorrect. Use 'GeoSeries.to_crs()' to re-project geometries to a projected CRS before this operation.\n",
      "\n",
      "  taxi_zones['lon'] = taxi_zones.centroid.x\n",
      "/var/folders/0l/chsxlz0n6ld25hkms7fljx0c0000gn/T/ipykernel_32341/1587133196.py:18: UserWarning: Geometry is in a geographic CRS. Results from 'centroid' are likely incorrect. Use 'GeoSeries.to_crs()' to re-project geometries to a projected CRS before this operation.\n",
      "\n",
      "  taxi_zones['lat'] = taxi_zones.centroid.y\n",
      "/var/folders/0l/chsxlz0n6ld25hkms7fljx0c0000gn/T/ipykernel_32341/1587133196.py:17: UserWarning: Geometry is in a geographic CRS. Results from 'centroid' are likely incorrect. Use 'GeoSeries.to_crs()' to re-project geometries to a projected CRS before this operation.\n",
      "\n",
      "  taxi_zones['lon'] = taxi_zones.centroid.x\n",
      "/var/folders/0l/chsxlz0n6ld25hkms7fljx0c0000gn/T/ipykernel_32341/1587133196.py:18: UserWarning: Geometry is in a geographic CRS. Results from 'centroid' are likely incorrect. Use 'GeoSeries.to_crs()' to re-project geometries to a projected CRS before this operation.\n",
      "\n",
      "  taxi_zones['lat'] = taxi_zones.centroid.y\n",
      "/var/folders/0l/chsxlz0n6ld25hkms7fljx0c0000gn/T/ipykernel_32341/1587133196.py:17: UserWarning: Geometry is in a geographic CRS. Results from 'centroid' are likely incorrect. Use 'GeoSeries.to_crs()' to re-project geometries to a projected CRS before this operation.\n",
      "\n",
      "  taxi_zones['lon'] = taxi_zones.centroid.x\n",
      "/var/folders/0l/chsxlz0n6ld25hkms7fljx0c0000gn/T/ipykernel_32341/1587133196.py:18: UserWarning: Geometry is in a geographic CRS. Results from 'centroid' are likely incorrect. Use 'GeoSeries.to_crs()' to re-project geometries to a projected CRS before this operation.\n",
      "\n",
      "  taxi_zones['lat'] = taxi_zones.centroid.y\n",
      "/var/folders/0l/chsxlz0n6ld25hkms7fljx0c0000gn/T/ipykernel_32341/1587133196.py:17: UserWarning: Geometry is in a geographic CRS. Results from 'centroid' are likely incorrect. Use 'GeoSeries.to_crs()' to re-project geometries to a projected CRS before this operation.\n",
      "\n",
      "  taxi_zones['lon'] = taxi_zones.centroid.x\n",
      "/var/folders/0l/chsxlz0n6ld25hkms7fljx0c0000gn/T/ipykernel_32341/1587133196.py:18: UserWarning: Geometry is in a geographic CRS. Results from 'centroid' are likely incorrect. Use 'GeoSeries.to_crs()' to re-project geometries to a projected CRS before this operation.\n",
      "\n",
      "  taxi_zones['lat'] = taxi_zones.centroid.y\n",
      "/var/folders/0l/chsxlz0n6ld25hkms7fljx0c0000gn/T/ipykernel_32341/1587133196.py:17: UserWarning: Geometry is in a geographic CRS. Results from 'centroid' are likely incorrect. Use 'GeoSeries.to_crs()' to re-project geometries to a projected CRS before this operation.\n",
      "\n",
      "  taxi_zones['lon'] = taxi_zones.centroid.x\n",
      "/var/folders/0l/chsxlz0n6ld25hkms7fljx0c0000gn/T/ipykernel_32341/1587133196.py:18: UserWarning: Geometry is in a geographic CRS. Results from 'centroid' are likely incorrect. Use 'GeoSeries.to_crs()' to re-project geometries to a projected CRS before this operation.\n",
      "\n",
      "  taxi_zones['lat'] = taxi_zones.centroid.y\n",
      "/var/folders/0l/chsxlz0n6ld25hkms7fljx0c0000gn/T/ipykernel_32341/1587133196.py:17: UserWarning: Geometry is in a geographic CRS. Results from 'centroid' are likely incorrect. Use 'GeoSeries.to_crs()' to re-project geometries to a projected CRS before this operation.\n",
      "\n",
      "  taxi_zones['lon'] = taxi_zones.centroid.x\n",
      "/var/folders/0l/chsxlz0n6ld25hkms7fljx0c0000gn/T/ipykernel_32341/1587133196.py:18: UserWarning: Geometry is in a geographic CRS. Results from 'centroid' are likely incorrect. Use 'GeoSeries.to_crs()' to re-project geometries to a projected CRS before this operation.\n",
      "\n",
      "  taxi_zones['lat'] = taxi_zones.centroid.y\n",
      "/var/folders/0l/chsxlz0n6ld25hkms7fljx0c0000gn/T/ipykernel_32341/1587133196.py:17: UserWarning: Geometry is in a geographic CRS. Results from 'centroid' are likely incorrect. Use 'GeoSeries.to_crs()' to re-project geometries to a projected CRS before this operation.\n",
      "\n",
      "  taxi_zones['lon'] = taxi_zones.centroid.x\n",
      "/var/folders/0l/chsxlz0n6ld25hkms7fljx0c0000gn/T/ipykernel_32341/1587133196.py:18: UserWarning: Geometry is in a geographic CRS. Results from 'centroid' are likely incorrect. Use 'GeoSeries.to_crs()' to re-project geometries to a projected CRS before this operation.\n",
      "\n",
      "  taxi_zones['lat'] = taxi_zones.centroid.y\n",
      "/var/folders/0l/chsxlz0n6ld25hkms7fljx0c0000gn/T/ipykernel_32341/1587133196.py:17: UserWarning: Geometry is in a geographic CRS. Results from 'centroid' are likely incorrect. Use 'GeoSeries.to_crs()' to re-project geometries to a projected CRS before this operation.\n",
      "\n",
      "  taxi_zones['lon'] = taxi_zones.centroid.x\n",
      "/var/folders/0l/chsxlz0n6ld25hkms7fljx0c0000gn/T/ipykernel_32341/1587133196.py:18: UserWarning: Geometry is in a geographic CRS. Results from 'centroid' are likely incorrect. Use 'GeoSeries.to_crs()' to re-project geometries to a projected CRS before this operation.\n",
      "\n",
      "  taxi_zones['lat'] = taxi_zones.centroid.y\n",
      "/var/folders/0l/chsxlz0n6ld25hkms7fljx0c0000gn/T/ipykernel_32341/1587133196.py:17: UserWarning: Geometry is in a geographic CRS. Results from 'centroid' are likely incorrect. Use 'GeoSeries.to_crs()' to re-project geometries to a projected CRS before this operation.\n",
      "\n",
      "  taxi_zones['lon'] = taxi_zones.centroid.x\n",
      "/var/folders/0l/chsxlz0n6ld25hkms7fljx0c0000gn/T/ipykernel_32341/1587133196.py:18: UserWarning: Geometry is in a geographic CRS. Results from 'centroid' are likely incorrect. Use 'GeoSeries.to_crs()' to re-project geometries to a projected CRS before this operation.\n",
      "\n",
      "  taxi_zones['lat'] = taxi_zones.centroid.y\n",
      "/var/folders/0l/chsxlz0n6ld25hkms7fljx0c0000gn/T/ipykernel_32341/1587133196.py:17: UserWarning: Geometry is in a geographic CRS. Results from 'centroid' are likely incorrect. Use 'GeoSeries.to_crs()' to re-project geometries to a projected CRS before this operation.\n",
      "\n",
      "  taxi_zones['lon'] = taxi_zones.centroid.x\n",
      "/var/folders/0l/chsxlz0n6ld25hkms7fljx0c0000gn/T/ipykernel_32341/1587133196.py:18: UserWarning: Geometry is in a geographic CRS. Results from 'centroid' are likely incorrect. Use 'GeoSeries.to_crs()' to re-project geometries to a projected CRS before this operation.\n",
      "\n",
      "  taxi_zones['lat'] = taxi_zones.centroid.y\n",
      "/var/folders/0l/chsxlz0n6ld25hkms7fljx0c0000gn/T/ipykernel_32341/989517460.py:3: DtypeWarning: Columns (9,13) have mixed types. Specify dtype option on import or set low_memory=False.\n",
      "  all_data = pd.read_csv(csv_file)\n",
      "/var/folders/0l/chsxlz0n6ld25hkms7fljx0c0000gn/T/ipykernel_32341/989517460.py:12: SettingWithCopyWarning: \n",
      "A value is trying to be set on a copy of a slice from a DataFrame\n",
      "\n",
      "See the caveats in the documentation: https://pandas.pydata.org/pandas-docs/stable/user_guide/indexing.html#returning-a-view-versus-a-copy\n",
      "  all_data['newDATE'][i] = all_data['DATE'][i][:10]\n",
      "/var/folders/0l/chsxlz0n6ld25hkms7fljx0c0000gn/T/ipykernel_32341/3229008894.py:3: DtypeWarning: Columns (9,13) have mixed types. Specify dtype option on import or set low_memory=False.\n",
      "  all_data = pd.read_csv(csv_file)\n",
      "/var/folders/0l/chsxlz0n6ld25hkms7fljx0c0000gn/T/ipykernel_32341/3229008894.py:12: SettingWithCopyWarning: \n",
      "A value is trying to be set on a copy of a slice from a DataFrame\n",
      "\n",
      "See the caveats in the documentation: https://pandas.pydata.org/pandas-docs/stable/user_guide/indexing.html#returning-a-view-versus-a-copy\n",
      "  all_data['newDATE'][i] = all_data['DATE'][i][:7]\n",
      "/var/folders/0l/chsxlz0n6ld25hkms7fljx0c0000gn/T/ipykernel_32341/989517460.py:3: DtypeWarning: Columns (8,9,10,17) have mixed types. Specify dtype option on import or set low_memory=False.\n",
      "  all_data = pd.read_csv(csv_file)\n",
      "/var/folders/0l/chsxlz0n6ld25hkms7fljx0c0000gn/T/ipykernel_32341/989517460.py:12: SettingWithCopyWarning: \n",
      "A value is trying to be set on a copy of a slice from a DataFrame\n",
      "\n",
      "See the caveats in the documentation: https://pandas.pydata.org/pandas-docs/stable/user_guide/indexing.html#returning-a-view-versus-a-copy\n",
      "  all_data['newDATE'][i] = all_data['DATE'][i][:10]\n",
      "/var/folders/0l/chsxlz0n6ld25hkms7fljx0c0000gn/T/ipykernel_32341/3229008894.py:3: DtypeWarning: Columns (8,9,10,17) have mixed types. Specify dtype option on import or set low_memory=False.\n",
      "  all_data = pd.read_csv(csv_file)\n",
      "/var/folders/0l/chsxlz0n6ld25hkms7fljx0c0000gn/T/ipykernel_32341/3229008894.py:12: SettingWithCopyWarning: \n",
      "A value is trying to be set on a copy of a slice from a DataFrame\n",
      "\n",
      "See the caveats in the documentation: https://pandas.pydata.org/pandas-docs/stable/user_guide/indexing.html#returning-a-view-versus-a-copy\n",
      "  all_data['newDATE'][i] = all_data['DATE'][i][:7]\n",
      "/var/folders/0l/chsxlz0n6ld25hkms7fljx0c0000gn/T/ipykernel_32341/989517460.py:3: DtypeWarning: Columns (10) have mixed types. Specify dtype option on import or set low_memory=False.\n",
      "  all_data = pd.read_csv(csv_file)\n",
      "/var/folders/0l/chsxlz0n6ld25hkms7fljx0c0000gn/T/ipykernel_32341/989517460.py:12: SettingWithCopyWarning: \n",
      "A value is trying to be set on a copy of a slice from a DataFrame\n",
      "\n",
      "See the caveats in the documentation: https://pandas.pydata.org/pandas-docs/stable/user_guide/indexing.html#returning-a-view-versus-a-copy\n",
      "  all_data['newDATE'][i] = all_data['DATE'][i][:10]\n",
      "/var/folders/0l/chsxlz0n6ld25hkms7fljx0c0000gn/T/ipykernel_32341/3229008894.py:3: DtypeWarning: Columns (10) have mixed types. Specify dtype option on import or set low_memory=False.\n",
      "  all_data = pd.read_csv(csv_file)\n",
      "/var/folders/0l/chsxlz0n6ld25hkms7fljx0c0000gn/T/ipykernel_32341/3229008894.py:12: SettingWithCopyWarning: \n",
      "A value is trying to be set on a copy of a slice from a DataFrame\n",
      "\n",
      "See the caveats in the documentation: https://pandas.pydata.org/pandas-docs/stable/user_guide/indexing.html#returning-a-view-versus-a-copy\n",
      "  all_data['newDATE'][i] = all_data['DATE'][i][:7]\n",
      "/var/folders/0l/chsxlz0n6ld25hkms7fljx0c0000gn/T/ipykernel_32341/989517460.py:3: DtypeWarning: Columns (7,8,9,10,17,18,42,65) have mixed types. Specify dtype option on import or set low_memory=False.\n",
      "  all_data = pd.read_csv(csv_file)\n",
      "/var/folders/0l/chsxlz0n6ld25hkms7fljx0c0000gn/T/ipykernel_32341/989517460.py:12: SettingWithCopyWarning: \n",
      "A value is trying to be set on a copy of a slice from a DataFrame\n",
      "\n",
      "See the caveats in the documentation: https://pandas.pydata.org/pandas-docs/stable/user_guide/indexing.html#returning-a-view-versus-a-copy\n",
      "  all_data['newDATE'][i] = all_data['DATE'][i][:10]\n",
      "/var/folders/0l/chsxlz0n6ld25hkms7fljx0c0000gn/T/ipykernel_32341/3229008894.py:3: DtypeWarning: Columns (7,8,9,10,17,18,42,65) have mixed types. Specify dtype option on import or set low_memory=False.\n",
      "  all_data = pd.read_csv(csv_file)\n",
      "/var/folders/0l/chsxlz0n6ld25hkms7fljx0c0000gn/T/ipykernel_32341/3229008894.py:12: SettingWithCopyWarning: \n",
      "A value is trying to be set on a copy of a slice from a DataFrame\n",
      "\n",
      "See the caveats in the documentation: https://pandas.pydata.org/pandas-docs/stable/user_guide/indexing.html#returning-a-view-versus-a-copy\n",
      "  all_data['newDATE'][i] = all_data['DATE'][i][:7]\n",
      "/var/folders/0l/chsxlz0n6ld25hkms7fljx0c0000gn/T/ipykernel_32341/989517460.py:3: DtypeWarning: Columns (17,78) have mixed types. Specify dtype option on import or set low_memory=False.\n",
      "  all_data = pd.read_csv(csv_file)\n",
      "/var/folders/0l/chsxlz0n6ld25hkms7fljx0c0000gn/T/ipykernel_32341/989517460.py:12: SettingWithCopyWarning: \n",
      "A value is trying to be set on a copy of a slice from a DataFrame\n",
      "\n",
      "See the caveats in the documentation: https://pandas.pydata.org/pandas-docs/stable/user_guide/indexing.html#returning-a-view-versus-a-copy\n",
      "  all_data['newDATE'][i] = all_data['DATE'][i][:10]\n",
      "/var/folders/0l/chsxlz0n6ld25hkms7fljx0c0000gn/T/ipykernel_32341/3229008894.py:3: DtypeWarning: Columns (17,78) have mixed types. Specify dtype option on import or set low_memory=False.\n",
      "  all_data = pd.read_csv(csv_file)\n",
      "/var/folders/0l/chsxlz0n6ld25hkms7fljx0c0000gn/T/ipykernel_32341/3229008894.py:12: SettingWithCopyWarning: \n",
      "A value is trying to be set on a copy of a slice from a DataFrame\n",
      "\n",
      "See the caveats in the documentation: https://pandas.pydata.org/pandas-docs/stable/user_guide/indexing.html#returning-a-view-versus-a-copy\n",
      "  all_data['newDATE'][i] = all_data['DATE'][i][:7]\n",
      "/var/folders/0l/chsxlz0n6ld25hkms7fljx0c0000gn/T/ipykernel_32341/989517460.py:3: DtypeWarning: Columns (8,9,17,18,78) have mixed types. Specify dtype option on import or set low_memory=False.\n",
      "  all_data = pd.read_csv(csv_file)\n",
      "/var/folders/0l/chsxlz0n6ld25hkms7fljx0c0000gn/T/ipykernel_32341/989517460.py:12: SettingWithCopyWarning: \n",
      "A value is trying to be set on a copy of a slice from a DataFrame\n",
      "\n",
      "See the caveats in the documentation: https://pandas.pydata.org/pandas-docs/stable/user_guide/indexing.html#returning-a-view-versus-a-copy\n",
      "  all_data['newDATE'][i] = all_data['DATE'][i][:10]\n",
      "/var/folders/0l/chsxlz0n6ld25hkms7fljx0c0000gn/T/ipykernel_32341/3229008894.py:3: DtypeWarning: Columns (8,9,17,18,78) have mixed types. Specify dtype option on import or set low_memory=False.\n",
      "  all_data = pd.read_csv(csv_file)\n",
      "/var/folders/0l/chsxlz0n6ld25hkms7fljx0c0000gn/T/ipykernel_32341/3229008894.py:12: SettingWithCopyWarning: \n",
      "A value is trying to be set on a copy of a slice from a DataFrame\n",
      "\n",
      "See the caveats in the documentation: https://pandas.pydata.org/pandas-docs/stable/user_guide/indexing.html#returning-a-view-versus-a-copy\n",
      "  all_data['newDATE'][i] = all_data['DATE'][i][:7]\n",
      "/var/folders/0l/chsxlz0n6ld25hkms7fljx0c0000gn/T/ipykernel_32341/989517460.py:3: DtypeWarning: Columns (10,41,78) have mixed types. Specify dtype option on import or set low_memory=False.\n",
      "  all_data = pd.read_csv(csv_file)\n",
      "/var/folders/0l/chsxlz0n6ld25hkms7fljx0c0000gn/T/ipykernel_32341/989517460.py:12: SettingWithCopyWarning: \n",
      "A value is trying to be set on a copy of a slice from a DataFrame\n",
      "\n",
      "See the caveats in the documentation: https://pandas.pydata.org/pandas-docs/stable/user_guide/indexing.html#returning-a-view-versus-a-copy\n",
      "  all_data['newDATE'][i] = all_data['DATE'][i][:10]\n",
      "/var/folders/0l/chsxlz0n6ld25hkms7fljx0c0000gn/T/ipykernel_32341/3229008894.py:3: DtypeWarning: Columns (10,41,78) have mixed types. Specify dtype option on import or set low_memory=False.\n",
      "  all_data = pd.read_csv(csv_file)\n",
      "/var/folders/0l/chsxlz0n6ld25hkms7fljx0c0000gn/T/ipykernel_32341/3229008894.py:12: SettingWithCopyWarning: \n",
      "A value is trying to be set on a copy of a slice from a DataFrame\n",
      "\n",
      "See the caveats in the documentation: https://pandas.pydata.org/pandas-docs/stable/user_guide/indexing.html#returning-a-view-versus-a-copy\n",
      "  all_data['newDATE'][i] = all_data['DATE'][i][:7]\n"
     ]
    }
   ],
   "source": [
    "taxi_data = get_and_clean_taxi_data()\n",
    "uber_data = get_uber_data()\n",
    "hourly_weather_data, daily_weather_data = load_and_clean_weather_data()"
   ]
  },
  {
   "cell_type": "code",
   "execution_count": 41,
   "id": "37437cae",
   "metadata": {},
   "outputs": [],
   "source": [
    "# uber_data.head(10)"
   ]
  },
  {
   "cell_type": "code",
   "execution_count": 28,
   "id": "f58a8a87",
   "metadata": {},
   "outputs": [],
   "source": [
    "# taxi_data.head(10)"
   ]
  },
  {
   "cell_type": "code",
   "execution_count": 29,
   "id": "843c2ed3",
   "metadata": {},
   "outputs": [],
   "source": [
    "# hourly_weather_data.head(10)\n",
    "# # hourly_weather_data\n",
    "# daily_weather_data.head(10)"
   ]
  },
  {
   "cell_type": "markdown",
   "id": "dd101f11",
   "metadata": {},
   "source": [
    "## Part 2: Storing Cleaned Data\n",
    "\n",
    "_Write some prose that tells the reader what you're about to do here._"
   ]
  },
  {
   "cell_type": "code",
   "execution_count": 31,
   "id": "f3529cf6",
   "metadata": {},
   "outputs": [],
   "source": [
    "engine = db.create_engine(DATABASE_URL)\n",
    "# First, using SQLAlchemy, create a SQLite database with which you’ll load in your preprocessed datasets."
   ]
  },
  {
   "cell_type": "code",
   "execution_count": 32,
   "id": "d2bea0ff",
   "metadata": {},
   "outputs": [],
   "source": [
    "# if using SQL (as opposed to SQLAlchemy), define the commands \n",
    "# to create your 4 tables/dataframes\n",
    "HOURLY_WEATHER_SCHEMA = \"\"\"\n",
    "CREATE TABLE IF NOT EXISTS hourly_weather\n",
    "    (id INTEGER PRIMARY KEY AUTOINCREMENT,\n",
    "    DATE DATE,\n",
    "    LATITUDE FLOAT,\n",
    "    LONGITUDE FLOAT,\n",
    "    NAME TEXT,\n",
    "    hours INTEGER,\n",
    "    newDATE DATE)\n",
    "\"\"\"\n",
    "\n",
    "DAILY_WEATHER_SCHEMA = \"\"\"\n",
    "CREATE TABLE IF NOT EXISTS daily_weather\n",
    "    (id INTEGER PRIMARY KEY AUTOINCREMENT,\n",
    "    DATE DATE,\n",
    "    LATITUDE FLOAT,\n",
    "    LONGITUDE FLOAT,\n",
    "    NAME TEXT,\n",
    "    days INTEGER,\n",
    "    newDATE DATE)\n",
    "\"\"\"\n",
    "\n",
    "TAXI_TRIPS_SCHEMA = \"\"\"\n",
    "CREATE TABLE IF NOT EXISTS taxi_trips\n",
    "    (id INTEGER PRIMARY KEY AUTOINCREMENT,\t\n",
    "    pickup_datetime\tDATE,\n",
    "    dropoff_datetime DATE,\n",
    "    passenger_count\tINTEGER,\n",
    "    trip_distance FLOAT,\n",
    "    pickup_longitude FLOAT,\n",
    "    pickup_latitude FLOAT,\n",
    "    dropoff_longitude FLOAT,\n",
    "    dropoff_latitude FLOAT)\n",
    "\"\"\"\n",
    "\n",
    "UBER_TRIPS_SCHEMA = \"\"\"\n",
    "CREATE TABLE IF NOT EXISTS uber_trips\n",
    "    (id INTEGER PRIMARY KEY AUTOINCREMENT,\n",
    "    fare_amount\tFLOAT,\n",
    "    pickup_datetime DATE,\n",
    "    pickup_longitude FLOAT,\n",
    "    pickup_latitude FLOAT,\n",
    "    dropoff_longitude FLOAT,\n",
    "    dropoff_latitude FLOAT,\n",
    "    passenger_count INTEGER,\n",
    "    Distance FLOAT,\n",
    "    day_of_week INTEGER)\n",
    "\"\"\""
   ]
  },
  {
   "cell_type": "code",
   "execution_count": 33,
   "id": "5f41e54b",
   "metadata": {},
   "outputs": [],
   "source": [
    "# create that required schema.sql file\n",
    "with open(DATABASE_SCHEMA_FILE, \"w\") as f:\n",
    "    f.write(HOURLY_WEATHER_SCHEMA)\n",
    "    f.write(DAILY_WEATHER_SCHEMA)\n",
    "    f.write(TAXI_TRIPS_SCHEMA)\n",
    "    f.write(UBER_TRIPS_SCHEMA)"
   ]
  },
  {
   "cell_type": "code",
   "execution_count": 34,
   "id": "02eccdba",
   "metadata": {},
   "outputs": [],
   "source": [
    "# create the tables with the schema files\n",
    "with engine.connect() as connection:\n",
    "    engine.connect().execute(\n",
    "        HOURLY_WEATHER_SCHEMA\n",
    "    )\n",
    "    engine.connect().execute(\n",
    "        DAILY_WEATHER_SCHEMA\n",
    "    )\n",
    "    engine.connect().execute(\n",
    "        TAXI_TRIPS_SCHEMA\n",
    "    )\n",
    "    engine.connect().execute(\n",
    "        UBER_TRIPS_SCHEMA\n",
    "    )"
   ]
  },
  {
   "cell_type": "markdown",
   "id": "0f527aa4",
   "metadata": {},
   "source": [
    "pd.read_sql_query - read data from querying a SQL table\n",
    "pd.read_sql_table - read entire SQL table\n",
    "df.to_sql - add data from the dataframe to a SQL table\n",
    "pd.to_numeric - Convert argument to a numeric type\n",
    "pd.concat - Concatenate pandas objects along a particular axis with optional set logic along the other axes\n",
    "pd.merge - Merge DataFrame or named Series objects with a database-style join\n",
    "pd.merge_asof - Perform a merge by key distance. This is similar to a left-join except that we match on the nearest key rather than equal keys. Both DataFrames must be sorted by the key."
   ]
  },
  {
   "cell_type": "markdown",
   "id": "c122964f",
   "metadata": {},
   "source": [
    "### Add Data to Database\n",
    "\n",
    "_**TODO:** Write some prose that tells the reader what you're about to do here._"
   ]
  },
  {
   "cell_type": "code",
   "execution_count": 35,
   "id": "0e68a363",
   "metadata": {},
   "outputs": [],
   "source": [
    "def write_dataframes_to_table(table_to_df_dict):\n",
    "    for item_0, item_1 in table_to_df_dict.items():\n",
    "        # add data from the dataframe to a SQL table\n",
    "        item_1.to_sql(item_0, engine, index_label=\"id\", if_exists=\"append\", index=True)"
   ]
  },
  {
   "cell_type": "code",
   "execution_count": 42,
   "id": "6e6d3598",
   "metadata": {},
   "outputs": [
    {
     "ename": "TypeError",
     "evalue": "cannot do positional indexing on Int64Index with these indexers [[]] of type list",
     "output_type": "error",
     "traceback": [
      "\u001b[0;31m---------------------------------------------------------------------------\u001b[0m",
      "\u001b[0;31mTypeError\u001b[0m                                 Traceback (most recent call last)",
      "\u001b[1;32m/Users/morax/Documents/GitHub/Tools_for_Analytics_Project/Project Scaffolding.ipynb Cell 41\u001b[0m in \u001b[0;36m<cell line: 1>\u001b[0;34m()\u001b[0m\n\u001b[0;32m----> <a href='vscode-notebook-cell:/Users/morax/Documents/GitHub/Tools_for_Analytics_Project/Project%20Scaffolding.ipynb#Y432sZmlsZQ%3D%3D?line=0'>1</a>\u001b[0m taxi_data \u001b[39m=\u001b[39m taxi_data\u001b[39m.\u001b[39;49miloc[:[]]\n\u001b[1;32m      <a href='vscode-notebook-cell:/Users/morax/Documents/GitHub/Tools_for_Analytics_Project/Project%20Scaffolding.ipynb#Y432sZmlsZQ%3D%3D?line=1'>2</a>\u001b[0m uber_data \u001b[39m=\u001b[39m uber_data\u001b[39m.\u001b[39miloc[:[]]\n\u001b[1;32m      <a href='vscode-notebook-cell:/Users/morax/Documents/GitHub/Tools_for_Analytics_Project/Project%20Scaffolding.ipynb#Y432sZmlsZQ%3D%3D?line=2'>3</a>\u001b[0m hourly_data \u001b[39m=\u001b[39m hourly_weather_data\u001b[39m.\u001b[39miloc[:, [\u001b[39m1\u001b[39m,\u001b[39m2\u001b[39m,\u001b[39m3\u001b[39m,\u001b[39m5\u001b[39m,\u001b[39m-\u001b[39m\u001b[39m2\u001b[39m,\u001b[39m-\u001b[39m\u001b[39m1\u001b[39m]]\n",
      "File \u001b[0;32m~/opt/anaconda3/lib/python3.9/site-packages/pandas/core/indexing.py:967\u001b[0m, in \u001b[0;36m_LocationIndexer.__getitem__\u001b[0;34m(self, key)\u001b[0m\n\u001b[1;32m    964\u001b[0m axis \u001b[39m=\u001b[39m \u001b[39mself\u001b[39m\u001b[39m.\u001b[39maxis \u001b[39mor\u001b[39;00m \u001b[39m0\u001b[39m\n\u001b[1;32m    966\u001b[0m maybe_callable \u001b[39m=\u001b[39m com\u001b[39m.\u001b[39mapply_if_callable(key, \u001b[39mself\u001b[39m\u001b[39m.\u001b[39mobj)\n\u001b[0;32m--> 967\u001b[0m \u001b[39mreturn\u001b[39;00m \u001b[39mself\u001b[39;49m\u001b[39m.\u001b[39;49m_getitem_axis(maybe_callable, axis\u001b[39m=\u001b[39;49maxis)\n",
      "File \u001b[0;32m~/opt/anaconda3/lib/python3.9/site-packages/pandas/core/indexing.py:1497\u001b[0m, in \u001b[0;36m_iLocIndexer._getitem_axis\u001b[0;34m(self, key, axis)\u001b[0m\n\u001b[1;32m   1491\u001b[0m     \u001b[39mraise\u001b[39;00m \u001b[39mIndexError\u001b[39;00m(\n\u001b[1;32m   1492\u001b[0m         \u001b[39m\"\u001b[39m\u001b[39mDataFrame indexer is not allowed for .iloc\u001b[39m\u001b[39m\\n\u001b[39;00m\u001b[39m\"\u001b[39m\n\u001b[1;32m   1493\u001b[0m         \u001b[39m\"\u001b[39m\u001b[39mConsider using .loc for automatic alignment.\u001b[39m\u001b[39m\"\u001b[39m\n\u001b[1;32m   1494\u001b[0m     )\n\u001b[1;32m   1496\u001b[0m \u001b[39mif\u001b[39;00m \u001b[39misinstance\u001b[39m(key, \u001b[39mslice\u001b[39m):\n\u001b[0;32m-> 1497\u001b[0m     \u001b[39mreturn\u001b[39;00m \u001b[39mself\u001b[39;49m\u001b[39m.\u001b[39;49m_get_slice_axis(key, axis\u001b[39m=\u001b[39;49maxis)\n\u001b[1;32m   1499\u001b[0m \u001b[39mif\u001b[39;00m is_iterator(key):\n\u001b[1;32m   1500\u001b[0m     key \u001b[39m=\u001b[39m \u001b[39mlist\u001b[39m(key)\n",
      "File \u001b[0;32m~/opt/anaconda3/lib/python3.9/site-packages/pandas/core/indexing.py:1532\u001b[0m, in \u001b[0;36m_iLocIndexer._get_slice_axis\u001b[0;34m(self, slice_obj, axis)\u001b[0m\n\u001b[1;32m   1529\u001b[0m     \u001b[39mreturn\u001b[39;00m obj\u001b[39m.\u001b[39mcopy(deep\u001b[39m=\u001b[39m\u001b[39mFalse\u001b[39;00m)\n\u001b[1;32m   1531\u001b[0m labels \u001b[39m=\u001b[39m obj\u001b[39m.\u001b[39m_get_axis(axis)\n\u001b[0;32m-> 1532\u001b[0m labels\u001b[39m.\u001b[39;49m_validate_positional_slice(slice_obj)\n\u001b[1;32m   1533\u001b[0m \u001b[39mreturn\u001b[39;00m \u001b[39mself\u001b[39m\u001b[39m.\u001b[39mobj\u001b[39m.\u001b[39m_slice(slice_obj, axis\u001b[39m=\u001b[39maxis)\n",
      "File \u001b[0;32m~/opt/anaconda3/lib/python3.9/site-packages/pandas/core/indexes/base.py:4006\u001b[0m, in \u001b[0;36mIndex._validate_positional_slice\u001b[0;34m(self, key)\u001b[0m\n\u001b[1;32m   4001\u001b[0m \u001b[39m\"\"\"\u001b[39;00m\n\u001b[1;32m   4002\u001b[0m \u001b[39mFor positional indexing, a slice must have either int or None\u001b[39;00m\n\u001b[1;32m   4003\u001b[0m \u001b[39mfor each of start, stop, and step.\u001b[39;00m\n\u001b[1;32m   4004\u001b[0m \u001b[39m\"\"\"\u001b[39;00m\n\u001b[1;32m   4005\u001b[0m \u001b[39mself\u001b[39m\u001b[39m.\u001b[39m_validate_indexer(\u001b[39m\"\u001b[39m\u001b[39mpositional\u001b[39m\u001b[39m\"\u001b[39m, key\u001b[39m.\u001b[39mstart, \u001b[39m\"\u001b[39m\u001b[39miloc\u001b[39m\u001b[39m\"\u001b[39m)\n\u001b[0;32m-> 4006\u001b[0m \u001b[39mself\u001b[39;49m\u001b[39m.\u001b[39;49m_validate_indexer(\u001b[39m\"\u001b[39;49m\u001b[39mpositional\u001b[39;49m\u001b[39m\"\u001b[39;49m, key\u001b[39m.\u001b[39;49mstop, \u001b[39m\"\u001b[39;49m\u001b[39miloc\u001b[39;49m\u001b[39m\"\u001b[39;49m)\n\u001b[1;32m   4007\u001b[0m \u001b[39mself\u001b[39m\u001b[39m.\u001b[39m_validate_indexer(\u001b[39m\"\u001b[39m\u001b[39mpositional\u001b[39m\u001b[39m\"\u001b[39m, key\u001b[39m.\u001b[39mstep, \u001b[39m\"\u001b[39m\u001b[39miloc\u001b[39m\u001b[39m\"\u001b[39m)\n",
      "File \u001b[0;32m~/opt/anaconda3/lib/python3.9/site-packages/pandas/core/indexes/base.py:6308\u001b[0m, in \u001b[0;36mIndex._validate_indexer\u001b[0;34m(self, form, key, kind)\u001b[0m\n\u001b[1;32m   6305\u001b[0m \u001b[39massert\u001b[39;00m kind \u001b[39min\u001b[39;00m [\u001b[39m\"\u001b[39m\u001b[39mgetitem\u001b[39m\u001b[39m\"\u001b[39m, \u001b[39m\"\u001b[39m\u001b[39miloc\u001b[39m\u001b[39m\"\u001b[39m]\n\u001b[1;32m   6307\u001b[0m \u001b[39mif\u001b[39;00m key \u001b[39mis\u001b[39;00m \u001b[39mnot\u001b[39;00m \u001b[39mNone\u001b[39;00m \u001b[39mand\u001b[39;00m \u001b[39mnot\u001b[39;00m is_integer(key):\n\u001b[0;32m-> 6308\u001b[0m     \u001b[39mraise\u001b[39;00m \u001b[39mself\u001b[39m\u001b[39m.\u001b[39m_invalid_indexer(form, key)\n",
      "\u001b[0;31mTypeError\u001b[0m: cannot do positional indexing on Int64Index with these indexers [[]] of type list"
     ]
    }
   ],
   "source": [
    "taxi_data = taxi_data.iloc[:[]] # haven't insert list here\n",
    "uber_data = uber_data.iloc[:[]] # haven't insert list here\n",
    "hourly_data = hourly_weather_data.iloc[:, [1,2,3,5,-2,-1]]\n",
    "daily_data = daily_weather_data.iloc[:, [1,2,3,5,-2,-1]]"
   ]
  },
  {
   "cell_type": "code",
   "execution_count": 43,
   "id": "45d6c06c",
   "metadata": {},
   "outputs": [],
   "source": [
    "map_table_name_to_dataframe = {\n",
    "    \"taxi_trips\": taxi_data,\n",
    "    \"uber_trips\": uber_data,\n",
    "    \"hourly_weather\": hourly_data,\n",
    "    \"daily_weather\": daily_data,\n",
    "}"
   ]
  },
  {
   "cell_type": "code",
   "execution_count": 44,
   "id": "74004f96",
   "metadata": {},
   "outputs": [
    {
     "ename": "KeyboardInterrupt",
     "evalue": "",
     "output_type": "error",
     "traceback": [
      "\u001b[0;31m---------------------------------------------------------------------------\u001b[0m",
      "\u001b[0;31mKeyboardInterrupt\u001b[0m                         Traceback (most recent call last)",
      "\u001b[1;32m/Users/morax/Documents/GitHub/Tools_for_Analytics_Project/Project Scaffolding.ipynb Cell 43\u001b[0m in \u001b[0;36m<cell line: 1>\u001b[0;34m()\u001b[0m\n\u001b[0;32m----> <a href='vscode-notebook-cell:/Users/morax/Documents/GitHub/Tools_for_Analytics_Project/Project%20Scaffolding.ipynb#Y434sZmlsZQ%3D%3D?line=0'>1</a>\u001b[0m write_dataframes_to_table(map_table_name_to_dataframe)\n",
      "\u001b[1;32m/Users/morax/Documents/GitHub/Tools_for_Analytics_Project/Project Scaffolding.ipynb Cell 43\u001b[0m in \u001b[0;36mwrite_dataframes_to_table\u001b[0;34m(table_to_df_dict)\u001b[0m\n\u001b[1;32m      <a href='vscode-notebook-cell:/Users/morax/Documents/GitHub/Tools_for_Analytics_Project/Project%20Scaffolding.ipynb#Y434sZmlsZQ%3D%3D?line=0'>1</a>\u001b[0m \u001b[39mdef\u001b[39;00m \u001b[39mwrite_dataframes_to_table\u001b[39m(table_to_df_dict):\n\u001b[1;32m      <a href='vscode-notebook-cell:/Users/morax/Documents/GitHub/Tools_for_Analytics_Project/Project%20Scaffolding.ipynb#Y434sZmlsZQ%3D%3D?line=1'>2</a>\u001b[0m     \u001b[39mfor\u001b[39;00m item_0, item_1 \u001b[39min\u001b[39;00m table_to_df_dict\u001b[39m.\u001b[39mitems():\n\u001b[1;32m      <a href='vscode-notebook-cell:/Users/morax/Documents/GitHub/Tools_for_Analytics_Project/Project%20Scaffolding.ipynb#Y434sZmlsZQ%3D%3D?line=2'>3</a>\u001b[0m         \u001b[39m# add data from the dataframe to a SQL table\u001b[39;00m\n\u001b[0;32m----> <a href='vscode-notebook-cell:/Users/morax/Documents/GitHub/Tools_for_Analytics_Project/Project%20Scaffolding.ipynb#Y434sZmlsZQ%3D%3D?line=3'>4</a>\u001b[0m         item_1\u001b[39m.\u001b[39;49mto_sql(item_0, engine, index_label\u001b[39m=\u001b[39;49m\u001b[39m\"\u001b[39;49m\u001b[39mid\u001b[39;49m\u001b[39m\"\u001b[39;49m, if_exists\u001b[39m=\u001b[39;49m\u001b[39m\"\u001b[39;49m\u001b[39mappend\u001b[39;49m\u001b[39m\"\u001b[39;49m, index\u001b[39m=\u001b[39;49m\u001b[39mTrue\u001b[39;49;00m)\n",
      "File \u001b[0;32m~/opt/anaconda3/lib/python3.9/site-packages/pandas/core/generic.py:2951\u001b[0m, in \u001b[0;36mNDFrame.to_sql\u001b[0;34m(self, name, con, schema, if_exists, index, index_label, chunksize, dtype, method)\u001b[0m\n\u001b[1;32m   2794\u001b[0m \u001b[39m\"\"\"\u001b[39;00m\n\u001b[1;32m   2795\u001b[0m \u001b[39mWrite records stored in a DataFrame to a SQL database.\u001b[39;00m\n\u001b[1;32m   2796\u001b[0m \n\u001b[0;32m   (...)\u001b[0m\n\u001b[1;32m   2947\u001b[0m \u001b[39m[(1,), (None,), (2,)]\u001b[39;00m\n\u001b[1;32m   2948\u001b[0m \u001b[39m\"\"\"\u001b[39;00m  \u001b[39m# noqa:E501\u001b[39;00m\n\u001b[1;32m   2949\u001b[0m \u001b[39mfrom\u001b[39;00m \u001b[39mpandas\u001b[39;00m\u001b[39m.\u001b[39;00m\u001b[39mio\u001b[39;00m \u001b[39mimport\u001b[39;00m sql\n\u001b[0;32m-> 2951\u001b[0m \u001b[39mreturn\u001b[39;00m sql\u001b[39m.\u001b[39;49mto_sql(\n\u001b[1;32m   2952\u001b[0m     \u001b[39mself\u001b[39;49m,\n\u001b[1;32m   2953\u001b[0m     name,\n\u001b[1;32m   2954\u001b[0m     con,\n\u001b[1;32m   2955\u001b[0m     schema\u001b[39m=\u001b[39;49mschema,\n\u001b[1;32m   2956\u001b[0m     if_exists\u001b[39m=\u001b[39;49mif_exists,\n\u001b[1;32m   2957\u001b[0m     index\u001b[39m=\u001b[39;49mindex,\n\u001b[1;32m   2958\u001b[0m     index_label\u001b[39m=\u001b[39;49mindex_label,\n\u001b[1;32m   2959\u001b[0m     chunksize\u001b[39m=\u001b[39;49mchunksize,\n\u001b[1;32m   2960\u001b[0m     dtype\u001b[39m=\u001b[39;49mdtype,\n\u001b[1;32m   2961\u001b[0m     method\u001b[39m=\u001b[39;49mmethod,\n\u001b[1;32m   2962\u001b[0m )\n",
      "File \u001b[0;32m~/opt/anaconda3/lib/python3.9/site-packages/pandas/io/sql.py:697\u001b[0m, in \u001b[0;36mto_sql\u001b[0;34m(frame, name, con, schema, if_exists, index, index_label, chunksize, dtype, method, engine, **engine_kwargs)\u001b[0m\n\u001b[1;32m    692\u001b[0m \u001b[39melif\u001b[39;00m \u001b[39mnot\u001b[39;00m \u001b[39misinstance\u001b[39m(frame, DataFrame):\n\u001b[1;32m    693\u001b[0m     \u001b[39mraise\u001b[39;00m \u001b[39mNotImplementedError\u001b[39;00m(\n\u001b[1;32m    694\u001b[0m         \u001b[39m\"\u001b[39m\u001b[39m'\u001b[39m\u001b[39mframe\u001b[39m\u001b[39m'\u001b[39m\u001b[39m argument should be either a Series or a DataFrame\u001b[39m\u001b[39m\"\u001b[39m\n\u001b[1;32m    695\u001b[0m     )\n\u001b[0;32m--> 697\u001b[0m \u001b[39mreturn\u001b[39;00m pandas_sql\u001b[39m.\u001b[39;49mto_sql(\n\u001b[1;32m    698\u001b[0m     frame,\n\u001b[1;32m    699\u001b[0m     name,\n\u001b[1;32m    700\u001b[0m     if_exists\u001b[39m=\u001b[39;49mif_exists,\n\u001b[1;32m    701\u001b[0m     index\u001b[39m=\u001b[39;49mindex,\n\u001b[1;32m    702\u001b[0m     index_label\u001b[39m=\u001b[39;49mindex_label,\n\u001b[1;32m    703\u001b[0m     schema\u001b[39m=\u001b[39;49mschema,\n\u001b[1;32m    704\u001b[0m     chunksize\u001b[39m=\u001b[39;49mchunksize,\n\u001b[1;32m    705\u001b[0m     dtype\u001b[39m=\u001b[39;49mdtype,\n\u001b[1;32m    706\u001b[0m     method\u001b[39m=\u001b[39;49mmethod,\n\u001b[1;32m    707\u001b[0m     engine\u001b[39m=\u001b[39;49mengine,\n\u001b[1;32m    708\u001b[0m     \u001b[39m*\u001b[39;49m\u001b[39m*\u001b[39;49mengine_kwargs,\n\u001b[1;32m    709\u001b[0m )\n",
      "File \u001b[0;32m~/opt/anaconda3/lib/python3.9/site-packages/pandas/io/sql.py:1739\u001b[0m, in \u001b[0;36mSQLDatabase.to_sql\u001b[0;34m(self, frame, name, if_exists, index, index_label, schema, chunksize, dtype, method, engine, **engine_kwargs)\u001b[0m\n\u001b[1;32m   1727\u001b[0m sql_engine \u001b[39m=\u001b[39m get_engine(engine)\n\u001b[1;32m   1729\u001b[0m table \u001b[39m=\u001b[39m \u001b[39mself\u001b[39m\u001b[39m.\u001b[39mprep_table(\n\u001b[1;32m   1730\u001b[0m     frame\u001b[39m=\u001b[39mframe,\n\u001b[1;32m   1731\u001b[0m     name\u001b[39m=\u001b[39mname,\n\u001b[0;32m   (...)\u001b[0m\n\u001b[1;32m   1736\u001b[0m     dtype\u001b[39m=\u001b[39mdtype,\n\u001b[1;32m   1737\u001b[0m )\n\u001b[0;32m-> 1739\u001b[0m total_inserted \u001b[39m=\u001b[39m sql_engine\u001b[39m.\u001b[39;49minsert_records(\n\u001b[1;32m   1740\u001b[0m     table\u001b[39m=\u001b[39;49mtable,\n\u001b[1;32m   1741\u001b[0m     con\u001b[39m=\u001b[39;49m\u001b[39mself\u001b[39;49m\u001b[39m.\u001b[39;49mconnectable,\n\u001b[1;32m   1742\u001b[0m     frame\u001b[39m=\u001b[39;49mframe,\n\u001b[1;32m   1743\u001b[0m     name\u001b[39m=\u001b[39;49mname,\n\u001b[1;32m   1744\u001b[0m     index\u001b[39m=\u001b[39;49mindex,\n\u001b[1;32m   1745\u001b[0m     schema\u001b[39m=\u001b[39;49mschema,\n\u001b[1;32m   1746\u001b[0m     chunksize\u001b[39m=\u001b[39;49mchunksize,\n\u001b[1;32m   1747\u001b[0m     method\u001b[39m=\u001b[39;49mmethod,\n\u001b[1;32m   1748\u001b[0m     \u001b[39m*\u001b[39;49m\u001b[39m*\u001b[39;49mengine_kwargs,\n\u001b[1;32m   1749\u001b[0m )\n\u001b[1;32m   1751\u001b[0m \u001b[39mself\u001b[39m\u001b[39m.\u001b[39mcheck_case_sensitive(name\u001b[39m=\u001b[39mname, schema\u001b[39m=\u001b[39mschema)\n\u001b[1;32m   1752\u001b[0m \u001b[39mreturn\u001b[39;00m total_inserted\n",
      "File \u001b[0;32m~/opt/anaconda3/lib/python3.9/site-packages/pandas/io/sql.py:1322\u001b[0m, in \u001b[0;36mSQLAlchemyEngine.insert_records\u001b[0;34m(self, table, con, frame, name, index, schema, chunksize, method, **engine_kwargs)\u001b[0m\n\u001b[1;32m   1319\u001b[0m \u001b[39mfrom\u001b[39;00m \u001b[39msqlalchemy\u001b[39;00m \u001b[39mimport\u001b[39;00m exc\n\u001b[1;32m   1321\u001b[0m \u001b[39mtry\u001b[39;00m:\n\u001b[0;32m-> 1322\u001b[0m     \u001b[39mreturn\u001b[39;00m table\u001b[39m.\u001b[39;49minsert(chunksize\u001b[39m=\u001b[39;49mchunksize, method\u001b[39m=\u001b[39;49mmethod)\n\u001b[1;32m   1323\u001b[0m \u001b[39mexcept\u001b[39;00m exc\u001b[39m.\u001b[39mSQLAlchemyError \u001b[39mas\u001b[39;00m err:\n\u001b[1;32m   1324\u001b[0m     \u001b[39m# GH34431\u001b[39;00m\n\u001b[1;32m   1325\u001b[0m     \u001b[39m# https://stackoverflow.com/a/67358288/6067848\u001b[39;00m\n\u001b[1;32m   1326\u001b[0m     msg \u001b[39m=\u001b[39m \u001b[39mr\u001b[39m\u001b[39m\"\"\"\u001b[39m\u001b[39m(\u001b[39m\u001b[39m\\\u001b[39m\u001b[39m(1054, \u001b[39m\u001b[39m\"\u001b[39m\u001b[39mUnknown column \u001b[39m\u001b[39m'\u001b[39m\u001b[39minf(e0)?\u001b[39m\u001b[39m'\u001b[39m\u001b[39m in \u001b[39m\u001b[39m'\u001b[39m\u001b[39mfield list\u001b[39m\u001b[39m'\u001b[39m\u001b[39m\"\u001b[39m\u001b[39m\\\u001b[39m\u001b[39m))(?#\u001b[39m\n\u001b[1;32m   1327\u001b[0m \u001b[39m    )|inf can not be used with MySQL\u001b[39m\u001b[39m\"\"\"\u001b[39m\n",
      "File \u001b[0;32m~/opt/anaconda3/lib/python3.9/site-packages/pandas/io/sql.py:950\u001b[0m, in \u001b[0;36mSQLTable.insert\u001b[0;34m(self, chunksize, method)\u001b[0m\n\u001b[1;32m    947\u001b[0m     \u001b[39mbreak\u001b[39;00m\n\u001b[1;32m    949\u001b[0m chunk_iter \u001b[39m=\u001b[39m \u001b[39mzip\u001b[39m(\u001b[39m*\u001b[39m(arr[start_i:end_i] \u001b[39mfor\u001b[39;00m arr \u001b[39min\u001b[39;00m data_list))\n\u001b[0;32m--> 950\u001b[0m num_inserted \u001b[39m=\u001b[39m exec_insert(conn, keys, chunk_iter)\n\u001b[1;32m    951\u001b[0m \u001b[39mif\u001b[39;00m num_inserted \u001b[39mis\u001b[39;00m \u001b[39mNone\u001b[39;00m:\n\u001b[1;32m    952\u001b[0m     total_inserted \u001b[39m=\u001b[39m \u001b[39mNone\u001b[39;00m\n",
      "File \u001b[0;32m~/opt/anaconda3/lib/python3.9/site-packages/pandas/io/sql.py:857\u001b[0m, in \u001b[0;36mSQLTable._execute_insert\u001b[0;34m(self, conn, keys, data_iter)\u001b[0m\n\u001b[1;32m    845\u001b[0m \u001b[39m\"\"\"\u001b[39;00m\n\u001b[1;32m    846\u001b[0m \u001b[39mExecute SQL statement inserting data\u001b[39;00m\n\u001b[1;32m    847\u001b[0m \n\u001b[0;32m   (...)\u001b[0m\n\u001b[1;32m    854\u001b[0m \u001b[39m   Each item contains a list of values to be inserted\u001b[39;00m\n\u001b[1;32m    855\u001b[0m \u001b[39m\"\"\"\u001b[39;00m\n\u001b[1;32m    856\u001b[0m data \u001b[39m=\u001b[39m [\u001b[39mdict\u001b[39m(\u001b[39mzip\u001b[39m(keys, row)) \u001b[39mfor\u001b[39;00m row \u001b[39min\u001b[39;00m data_iter]\n\u001b[0;32m--> 857\u001b[0m result \u001b[39m=\u001b[39m conn\u001b[39m.\u001b[39;49mexecute(\u001b[39mself\u001b[39;49m\u001b[39m.\u001b[39;49mtable\u001b[39m.\u001b[39;49minsert(), data)\n\u001b[1;32m    858\u001b[0m \u001b[39mreturn\u001b[39;00m result\u001b[39m.\u001b[39mrowcount\n",
      "File \u001b[0;32m~/opt/anaconda3/lib/python3.9/site-packages/sqlalchemy/engine/base.py:1295\u001b[0m, in \u001b[0;36mConnection.execute\u001b[0;34m(self, statement, *multiparams, **params)\u001b[0m\n\u001b[1;32m   1291\u001b[0m     util\u001b[39m.\u001b[39mraise_(\n\u001b[1;32m   1292\u001b[0m         exc\u001b[39m.\u001b[39mObjectNotExecutableError(statement), replace_context\u001b[39m=\u001b[39merr\n\u001b[1;32m   1293\u001b[0m     )\n\u001b[1;32m   1294\u001b[0m \u001b[39melse\u001b[39;00m:\n\u001b[0;32m-> 1295\u001b[0m     \u001b[39mreturn\u001b[39;00m meth(\u001b[39mself\u001b[39;49m, multiparams, params, _EMPTY_EXECUTION_OPTS)\n",
      "File \u001b[0;32m~/opt/anaconda3/lib/python3.9/site-packages/sqlalchemy/sql/elements.py:325\u001b[0m, in \u001b[0;36mClauseElement._execute_on_connection\u001b[0;34m(self, connection, multiparams, params, execution_options, _force)\u001b[0m\n\u001b[1;32m    321\u001b[0m \u001b[39mdef\u001b[39;00m \u001b[39m_execute_on_connection\u001b[39m(\n\u001b[1;32m    322\u001b[0m     \u001b[39mself\u001b[39m, connection, multiparams, params, execution_options, _force\u001b[39m=\u001b[39m\u001b[39mFalse\u001b[39;00m\n\u001b[1;32m    323\u001b[0m ):\n\u001b[1;32m    324\u001b[0m     \u001b[39mif\u001b[39;00m _force \u001b[39mor\u001b[39;00m \u001b[39mself\u001b[39m\u001b[39m.\u001b[39msupports_execution:\n\u001b[0;32m--> 325\u001b[0m         \u001b[39mreturn\u001b[39;00m connection\u001b[39m.\u001b[39;49m_execute_clauseelement(\n\u001b[1;32m    326\u001b[0m             \u001b[39mself\u001b[39;49m, multiparams, params, execution_options\n\u001b[1;32m    327\u001b[0m         )\n\u001b[1;32m    328\u001b[0m     \u001b[39melse\u001b[39;00m:\n\u001b[1;32m    329\u001b[0m         \u001b[39mraise\u001b[39;00m exc\u001b[39m.\u001b[39mObjectNotExecutableError(\u001b[39mself\u001b[39m)\n",
      "File \u001b[0;32m~/opt/anaconda3/lib/python3.9/site-packages/sqlalchemy/engine/base.py:1487\u001b[0m, in \u001b[0;36mConnection._execute_clauseelement\u001b[0;34m(self, elem, multiparams, params, execution_options)\u001b[0m\n\u001b[1;32m   1475\u001b[0m compiled_cache \u001b[39m=\u001b[39m execution_options\u001b[39m.\u001b[39mget(\n\u001b[1;32m   1476\u001b[0m     \u001b[39m\"\u001b[39m\u001b[39mcompiled_cache\u001b[39m\u001b[39m\"\u001b[39m, \u001b[39mself\u001b[39m\u001b[39m.\u001b[39mengine\u001b[39m.\u001b[39m_compiled_cache\n\u001b[1;32m   1477\u001b[0m )\n\u001b[1;32m   1479\u001b[0m compiled_sql, extracted_params, cache_hit \u001b[39m=\u001b[39m elem\u001b[39m.\u001b[39m_compile_w_cache(\n\u001b[1;32m   1480\u001b[0m     dialect\u001b[39m=\u001b[39mdialect,\n\u001b[1;32m   1481\u001b[0m     compiled_cache\u001b[39m=\u001b[39mcompiled_cache,\n\u001b[0;32m   (...)\u001b[0m\n\u001b[1;32m   1485\u001b[0m     linting\u001b[39m=\u001b[39m\u001b[39mself\u001b[39m\u001b[39m.\u001b[39mdialect\u001b[39m.\u001b[39mcompiler_linting \u001b[39m|\u001b[39m compiler\u001b[39m.\u001b[39mWARN_LINTING,\n\u001b[1;32m   1486\u001b[0m )\n\u001b[0;32m-> 1487\u001b[0m ret \u001b[39m=\u001b[39m \u001b[39mself\u001b[39;49m\u001b[39m.\u001b[39;49m_execute_context(\n\u001b[1;32m   1488\u001b[0m     dialect,\n\u001b[1;32m   1489\u001b[0m     dialect\u001b[39m.\u001b[39;49mexecution_ctx_cls\u001b[39m.\u001b[39;49m_init_compiled,\n\u001b[1;32m   1490\u001b[0m     compiled_sql,\n\u001b[1;32m   1491\u001b[0m     distilled_params,\n\u001b[1;32m   1492\u001b[0m     execution_options,\n\u001b[1;32m   1493\u001b[0m     compiled_sql,\n\u001b[1;32m   1494\u001b[0m     distilled_params,\n\u001b[1;32m   1495\u001b[0m     elem,\n\u001b[1;32m   1496\u001b[0m     extracted_params,\n\u001b[1;32m   1497\u001b[0m     cache_hit\u001b[39m=\u001b[39;49mcache_hit,\n\u001b[1;32m   1498\u001b[0m )\n\u001b[1;32m   1499\u001b[0m \u001b[39mif\u001b[39;00m has_events:\n\u001b[1;32m   1500\u001b[0m     \u001b[39mself\u001b[39m\u001b[39m.\u001b[39mdispatch\u001b[39m.\u001b[39mafter_execute(\n\u001b[1;32m   1501\u001b[0m         \u001b[39mself\u001b[39m,\n\u001b[1;32m   1502\u001b[0m         elem,\n\u001b[0;32m   (...)\u001b[0m\n\u001b[1;32m   1506\u001b[0m         ret,\n\u001b[1;32m   1507\u001b[0m     )\n",
      "File \u001b[0;32m~/opt/anaconda3/lib/python3.9/site-packages/sqlalchemy/engine/base.py:1714\u001b[0m, in \u001b[0;36mConnection._execute_context\u001b[0;34m(self, dialect, constructor, statement, parameters, execution_options, *args, **kw)\u001b[0m\n\u001b[1;32m   1712\u001b[0m     \u001b[39mraise\u001b[39;00m\n\u001b[1;32m   1713\u001b[0m \u001b[39mexcept\u001b[39;00m \u001b[39mBaseException\u001b[39;00m \u001b[39mas\u001b[39;00m e:\n\u001b[0;32m-> 1714\u001b[0m     \u001b[39mself\u001b[39;49m\u001b[39m.\u001b[39;49m_handle_dbapi_exception(\n\u001b[1;32m   1715\u001b[0m         e, util\u001b[39m.\u001b[39;49mtext_type(statement), parameters, \u001b[39mNone\u001b[39;49;00m, \u001b[39mNone\u001b[39;49;00m\n\u001b[1;32m   1716\u001b[0m     )\n\u001b[1;32m   1718\u001b[0m \u001b[39mif\u001b[39;00m (\n\u001b[1;32m   1719\u001b[0m     \u001b[39mself\u001b[39m\u001b[39m.\u001b[39m_transaction\n\u001b[1;32m   1720\u001b[0m     \u001b[39mand\u001b[39;00m \u001b[39mnot\u001b[39;00m \u001b[39mself\u001b[39m\u001b[39m.\u001b[39m_transaction\u001b[39m.\u001b[39mis_active\n\u001b[0;32m   (...)\u001b[0m\n\u001b[1;32m   1724\u001b[0m     )\n\u001b[1;32m   1725\u001b[0m ):\n\u001b[1;32m   1726\u001b[0m     \u001b[39mself\u001b[39m\u001b[39m.\u001b[39m_invalid_transaction()\n",
      "File \u001b[0;32m~/opt/anaconda3/lib/python3.9/site-packages/sqlalchemy/engine/base.py:2036\u001b[0m, in \u001b[0;36mConnection._handle_dbapi_exception\u001b[0;34m(self, e, statement, parameters, cursor, context)\u001b[0m\n\u001b[1;32m   2032\u001b[0m         util\u001b[39m.\u001b[39mraise_(\n\u001b[1;32m   2033\u001b[0m             sqlalchemy_exception, with_traceback\u001b[39m=\u001b[39mexc_info[\u001b[39m2\u001b[39m], from_\u001b[39m=\u001b[39me\n\u001b[1;32m   2034\u001b[0m         )\n\u001b[1;32m   2035\u001b[0m     \u001b[39melse\u001b[39;00m:\n\u001b[0;32m-> 2036\u001b[0m         util\u001b[39m.\u001b[39;49mraise_(exc_info[\u001b[39m1\u001b[39;49m], with_traceback\u001b[39m=\u001b[39;49mexc_info[\u001b[39m2\u001b[39;49m])\n\u001b[1;32m   2038\u001b[0m \u001b[39mfinally\u001b[39;00m:\n\u001b[1;32m   2039\u001b[0m     \u001b[39mdel\u001b[39;00m \u001b[39mself\u001b[39m\u001b[39m.\u001b[39m_reentrant_error\n",
      "File \u001b[0;32m~/opt/anaconda3/lib/python3.9/site-packages/sqlalchemy/util/compat.py:207\u001b[0m, in \u001b[0;36mraise_\u001b[0;34m(***failed resolving arguments***)\u001b[0m\n\u001b[1;32m    204\u001b[0m     exception\u001b[39m.\u001b[39m__cause__ \u001b[39m=\u001b[39m replace_context\n\u001b[1;32m    206\u001b[0m \u001b[39mtry\u001b[39;00m:\n\u001b[0;32m--> 207\u001b[0m     \u001b[39mraise\u001b[39;00m exception\n\u001b[1;32m    208\u001b[0m \u001b[39mfinally\u001b[39;00m:\n\u001b[1;32m    209\u001b[0m     \u001b[39m# credit to\u001b[39;00m\n\u001b[1;32m    210\u001b[0m     \u001b[39m# https://cosmicpercolator.com/2016/01/13/exception-leaks-in-python-2-and-3/\u001b[39;00m\n\u001b[1;32m    211\u001b[0m     \u001b[39m# as the __traceback__ object creates a cycle\u001b[39;00m\n\u001b[1;32m    212\u001b[0m     \u001b[39mdel\u001b[39;00m exception, replace_context, from_, with_traceback\n",
      "File \u001b[0;32m~/opt/anaconda3/lib/python3.9/site-packages/sqlalchemy/engine/base.py:1708\u001b[0m, in \u001b[0;36mConnection._execute_context\u001b[0;34m(self, dialect, constructor, statement, parameters, execution_options, *args, **kw)\u001b[0m\n\u001b[1;32m   1705\u001b[0m     \u001b[39mif\u001b[39;00m conn \u001b[39mis\u001b[39;00m \u001b[39mNone\u001b[39;00m:\n\u001b[1;32m   1706\u001b[0m         conn \u001b[39m=\u001b[39m \u001b[39mself\u001b[39m\u001b[39m.\u001b[39m_revalidate_connection()\n\u001b[0;32m-> 1708\u001b[0m     context \u001b[39m=\u001b[39m constructor(\n\u001b[1;32m   1709\u001b[0m         dialect, \u001b[39mself\u001b[39;49m, conn, execution_options, \u001b[39m*\u001b[39;49margs, \u001b[39m*\u001b[39;49m\u001b[39m*\u001b[39;49mkw\n\u001b[1;32m   1710\u001b[0m     )\n\u001b[1;32m   1711\u001b[0m \u001b[39mexcept\u001b[39;00m (exc\u001b[39m.\u001b[39mPendingRollbackError, exc\u001b[39m.\u001b[39mResourceClosedError):\n\u001b[1;32m   1712\u001b[0m     \u001b[39mraise\u001b[39;00m\n",
      "File \u001b[0;32m~/opt/anaconda3/lib/python3.9/site-packages/sqlalchemy/engine/default.py:1070\u001b[0m, in \u001b[0;36mDefaultExecutionContext._init_compiled\u001b[0;34m(cls, dialect, connection, dbapi_connection, execution_options, compiled, parameters, invoked_statement, extracted_parameters, cache_hit)\u001b[0m\n\u001b[1;32m   1068\u001b[0m \u001b[39mif\u001b[39;00m compiled\u001b[39m.\u001b[39mpositional:\n\u001b[1;32m   1069\u001b[0m     \u001b[39mfor\u001b[39;00m compiled_params \u001b[39min\u001b[39;00m \u001b[39mself\u001b[39m\u001b[39m.\u001b[39mcompiled_parameters:\n\u001b[0;32m-> 1070\u001b[0m         param \u001b[39m=\u001b[39m [\n\u001b[1;32m   1071\u001b[0m             processors[key](compiled_params[key])\n\u001b[1;32m   1072\u001b[0m             \u001b[39mif\u001b[39;00m key \u001b[39min\u001b[39;00m processors\n\u001b[1;32m   1073\u001b[0m             \u001b[39melse\u001b[39;00m compiled_params[key]\n\u001b[1;32m   1074\u001b[0m             \u001b[39mfor\u001b[39;00m key \u001b[39min\u001b[39;00m positiontup\n\u001b[1;32m   1075\u001b[0m         ]\n\u001b[1;32m   1076\u001b[0m         parameters\u001b[39m.\u001b[39mappend(dialect\u001b[39m.\u001b[39mexecute_sequence_format(param))\n\u001b[1;32m   1077\u001b[0m \u001b[39melse\u001b[39;00m:\n",
      "File \u001b[0;32m~/opt/anaconda3/lib/python3.9/site-packages/sqlalchemy/engine/default.py:1071\u001b[0m, in \u001b[0;36m<listcomp>\u001b[0;34m(.0)\u001b[0m\n\u001b[1;32m   1068\u001b[0m \u001b[39mif\u001b[39;00m compiled\u001b[39m.\u001b[39mpositional:\n\u001b[1;32m   1069\u001b[0m     \u001b[39mfor\u001b[39;00m compiled_params \u001b[39min\u001b[39;00m \u001b[39mself\u001b[39m\u001b[39m.\u001b[39mcompiled_parameters:\n\u001b[1;32m   1070\u001b[0m         param \u001b[39m=\u001b[39m [\n\u001b[0;32m-> 1071\u001b[0m             processors[key](compiled_params[key])\n\u001b[1;32m   1072\u001b[0m             \u001b[39mif\u001b[39;00m key \u001b[39min\u001b[39;00m processors\n\u001b[1;32m   1073\u001b[0m             \u001b[39melse\u001b[39;00m compiled_params[key]\n\u001b[1;32m   1074\u001b[0m             \u001b[39mfor\u001b[39;00m key \u001b[39min\u001b[39;00m positiontup\n\u001b[1;32m   1075\u001b[0m         ]\n\u001b[1;32m   1076\u001b[0m         parameters\u001b[39m.\u001b[39mappend(dialect\u001b[39m.\u001b[39mexecute_sequence_format(param))\n\u001b[1;32m   1077\u001b[0m \u001b[39melse\u001b[39;00m:\n",
      "File \u001b[0;32m~/opt/anaconda3/lib/python3.9/site-packages/sqlalchemy/dialects/sqlite/base.py:982\u001b[0m, in \u001b[0;36mDATETIME.bind_processor.<locals>.process\u001b[0;34m(value)\u001b[0m\n\u001b[1;32m    980\u001b[0m \u001b[39mif\u001b[39;00m value \u001b[39mis\u001b[39;00m \u001b[39mNone\u001b[39;00m:\n\u001b[1;32m    981\u001b[0m     \u001b[39mreturn\u001b[39;00m \u001b[39mNone\u001b[39;00m\n\u001b[0;32m--> 982\u001b[0m \u001b[39melif\u001b[39;00m \u001b[39misinstance\u001b[39;49m(value, datetime_datetime):\n\u001b[1;32m    983\u001b[0m     \u001b[39mreturn\u001b[39;00m format_ \u001b[39m%\u001b[39m {\n\u001b[1;32m    984\u001b[0m         \u001b[39m\"\u001b[39m\u001b[39myear\u001b[39m\u001b[39m\"\u001b[39m: value\u001b[39m.\u001b[39myear,\n\u001b[1;32m    985\u001b[0m         \u001b[39m\"\u001b[39m\u001b[39mmonth\u001b[39m\u001b[39m\"\u001b[39m: value\u001b[39m.\u001b[39mmonth,\n\u001b[0;32m   (...)\u001b[0m\n\u001b[1;32m    990\u001b[0m         \u001b[39m\"\u001b[39m\u001b[39mmicrosecond\u001b[39m\u001b[39m\"\u001b[39m: value\u001b[39m.\u001b[39mmicrosecond,\n\u001b[1;32m    991\u001b[0m     }\n\u001b[1;32m    992\u001b[0m \u001b[39melif\u001b[39;00m \u001b[39misinstance\u001b[39m(value, datetime_date):\n",
      "\u001b[0;31mKeyboardInterrupt\u001b[0m: "
     ]
    }
   ],
   "source": [
    "write_dataframes_to_table(map_table_name_to_dataframe)"
   ]
  },
  {
   "cell_type": "markdown",
   "id": "8cb6e33e",
   "metadata": {},
   "source": [
    "## Part 3: Understanding the Data"
   ]
  },
  {
   "cell_type": "markdown",
   "id": "b4753fcd",
   "metadata": {},
   "source": [
    "_A checklist of requirements to keep you on track. Remove this whole cell before submitting the project. The order of these tasks aren't necessarily the order in which they need to be done. It's okay to do them in an order that makes sense to you._\n",
    "\n",
    "* [x] For 01-2009 through 06-2015, what hour of the day was the most popular to take a yellow taxi? The result should have 24 bins.\n",
    "* [x] For the same time frame, what day of the week was the most popular to take an uber? The result should have 7 bins.\n",
    "* [ ] What is the 95% percentile of distance traveled for all hired trips during July 2013?\n",
    "* [ ] What were the top 10 days with the highest number of hired rides for 2009, and what was the average distance for each day?\n",
    "* [ ] Which 10 days in 2014 were the windiest, and how many hired trips were made on those days?\n",
    "* [ ] During Hurricane Sandy in NYC (Oct 29-30, 2012) and the week leading up to it, how many trips were taken each hour, and for each hour, how much precipitation did NYC receive and what was the sustained wind speed?"
   ]
  },
  {
   "cell_type": "code",
   "execution_count": null,
   "id": "6a849e92",
   "metadata": {},
   "outputs": [
    {
     "ename": "",
     "evalue": "",
     "output_type": "error",
     "traceback": [
      "\u001b[1;31mnotebook controller is DISPOSED. \n",
      "\u001b[1;31mView Jupyter <a href='command:jupyter.viewOutput'>log</a> for further details."
     ]
    },
    {
     "ename": "",
     "evalue": "",
     "output_type": "error",
     "traceback": [
      "\u001b[1;31mnotebook controller is DISPOSED. \n",
      "\u001b[1;31mView Jupyter <a href='command:jupyter.viewOutput'>log</a> for further details."
     ]
    }
   ],
   "source": [
    "def write_query_to_file(query, outfile):\n",
    "    connection = sqlite3.connect(outfile)\n",
    "    with connection:\n",
    "        result = connection.execute(query)\n",
    "\n",
    "    for row in result:\n",
    "        print(row)\n",
    "    "
   ]
  },
  {
   "cell_type": "markdown",
   "id": "c576ef10",
   "metadata": {},
   "source": [
    "### Most Popular Day for Uber Query,\n",
    "\n",
    "_**TODO:** Write some prose that tells the reader what you're about to do here.\n"
   ]
  },
  {
   "cell_type": "code",
   "execution_count": null,
   "id": "e142954a",
   "metadata": {},
   "outputs": [
    {
     "ename": "",
     "evalue": "",
     "output_type": "error",
     "traceback": [
      "\u001b[1;31mnotebook controller is DISPOSED. \n",
      "\u001b[1;31mView Jupyter <a href='command:jupyter.viewOutput'>log</a> for further details."
     ]
    },
    {
     "ename": "",
     "evalue": "",
     "output_type": "error",
     "traceback": [
      "\u001b[1;31mnotebook controller is DISPOSED. \n",
      "\u001b[1;31mView Jupyter <a href='command:jupyter.viewOutput'>log</a> for further details."
     ]
    }
   ],
   "source": [
    "# def uber_popular_day_of_week(df = uber_data):\n",
    "     \n",
    "#      day_of_week_group = df.groupby('day_of_week').size().sort_values(ascending=False)\n",
    "#      return day_of_week_group\n",
    "\n",
    "# uber_popular_day_of_week()\n",
    "Uber_day_most_pop = \"\"\"\n",
    "    SELECT day_of_week from uber_trips ORDER BY COUNT(day_of_week)\n",
    "\"\"\""
   ]
  },
  {
   "cell_type": "code",
   "execution_count": null,
   "id": "51fb9fe6",
   "metadata": {},
   "outputs": [
    {
     "ename": "",
     "evalue": "",
     "output_type": "error",
     "traceback": [
      "\u001b[1;31mnotebook controller is DISPOSED. \n",
      "\u001b[1;31mView Jupyter <a href='command:jupyter.viewOutput'>log</a> for further details."
     ]
    },
    {
     "ename": "",
     "evalue": "",
     "output_type": "error",
     "traceback": [
      "\u001b[1;31mnotebook controller is DISPOSED. \n",
      "\u001b[1;31mView Jupyter <a href='command:jupyter.viewOutput'>log</a> for further details."
     ]
    }
   ],
   "source": [
    "engine.execute(Uber_day_most_pop).fetchall()"
   ]
  },
  {
   "cell_type": "code",
   "execution_count": null,
   "id": "2436db02",
   "metadata": {},
   "outputs": [
    {
     "ename": "",
     "evalue": "",
     "output_type": "error",
     "traceback": [
      "\u001b[1;31mnotebook controller is DISPOSED. \n",
      "\u001b[1;31mView Jupyter <a href='command:jupyter.viewOutput'>log</a> for further details."
     ]
    },
    {
     "ename": "",
     "evalue": "",
     "output_type": "error",
     "traceback": [
      "\u001b[1;31mnotebook controller is DISPOSED. \n",
      "\u001b[1;31mView Jupyter <a href='command:jupyter.viewOutput'>log</a> for further details."
     ]
    }
   ],
   "source": [
    "write_query_to_file(Uber_day_most_pop, \"Uber_most_pop_day.sql\")"
   ]
  },
  {
   "cell_type": "markdown",
   "id": "795b5b91",
   "metadata": {},
   "source": [
    "### Most Popular Hour Taxis Query\n",
    "\n",
    "_**TODO:** Write some prose that tells the reader what you're about to do here."
   ]
  },
  {
   "cell_type": "code",
   "execution_count": null,
   "id": "228ef488",
   "metadata": {},
   "outputs": [
    {
     "ename": "",
     "evalue": "",
     "output_type": "error",
     "traceback": [
      "\u001b[1;31mnotebook controller is DISPOSED. \n",
      "\u001b[1;31mView Jupyter <a href='command:jupyter.viewOutput'>log</a> for further details."
     ]
    },
    {
     "ename": "",
     "evalue": "",
     "output_type": "error",
     "traceback": [
      "\u001b[1;31mnotebook controller is DISPOSED. \n",
      "\u001b[1;31mView Jupyter <a href='command:jupyter.viewOutput'>log</a> for further details."
     ]
    }
   ],
   "source": [
    "taxi_hour_most_pop = \"\"\"\n",
    "    SELECT pickup_hour from taxi_trips ORDER BY COUNT(pickup_hour)\n",
    "    \"\"\"\n",
    "\n",
    "#     def taxi_most_pickup_hour(df = taxi_data):\n",
    "#     df[\"tpep_dropoff_datetime\"]  = df[\"tpep_dropoff_datetime\"].apply(lambda x:datetime.datetime.strptime(x,'%Y-%m-%d %H:%M:%S'))\n",
    "#     df[\"tpep_pickup_datetime\"]  = df[\"tpep_pickup_datetime\"].apply(lambda x:datetime.datetime.strptime(x,'%Y-%m-%d %H:%M:%S'))\n",
    "\n",
    "#     df['pickup_hour'] = df['tpep_pickup_datetime'].apply(lambda x:x.hour)\n",
    "\n",
    "#     pickup_hour_group = df.groupby(['pickup_hour']).size().sort_values(ascending=False)\n",
    "\n",
    "#     return pickup_hour_group\n",
    "\n",
    "\n",
    "# taxi_most_pickup_hour()"
   ]
  },
  {
   "cell_type": "code",
   "execution_count": null,
   "id": "6652192d",
   "metadata": {},
   "outputs": [
    {
     "ename": "",
     "evalue": "",
     "output_type": "error",
     "traceback": [
      "\u001b[1;31mnotebook controller is DISPOSED. \n",
      "\u001b[1;31mView Jupyter <a href='command:jupyter.viewOutput'>log</a> for further details."
     ]
    },
    {
     "ename": "",
     "evalue": "",
     "output_type": "error",
     "traceback": [
      "\u001b[1;31mnotebook controller is DISPOSED. \n",
      "\u001b[1;31mView Jupyter <a href='command:jupyter.viewOutput'>log</a> for further details."
     ]
    }
   ],
   "source": [
    "engine.execute(taxi_hour_most_pop).fetchall()"
   ]
  },
  {
   "cell_type": "code",
   "execution_count": null,
   "id": "7670ba43",
   "metadata": {},
   "outputs": [
    {
     "ename": "",
     "evalue": "",
     "output_type": "error",
     "traceback": [
      "\u001b[1;31mnotebook controller is DISPOSED. \n",
      "\u001b[1;31mView Jupyter <a href='command:jupyter.viewOutput'>log</a> for further details."
     ]
    },
    {
     "ename": "",
     "evalue": "",
     "output_type": "error",
     "traceback": [
      "\u001b[1;31mnotebook controller is DISPOSED. \n",
      "\u001b[1;31mView Jupyter <a href='command:jupyter.viewOutput'>log</a> for further details."
     ]
    }
   ],
   "source": [
    "write_query_to_file(taxi_hour_most_pop, \"Taxi_hour_most_pop.sql\")"
   ]
  },
  {
   "cell_type": "markdown",
   "id": "77fe4210",
   "metadata": {},
   "source": [
    "### What were the top 10 days with the highest number of hired rides for 2009, and what was the average distance for each day?\n",
    "_**TODO:** Write some prose that tells the reader what you're about to do here."
   ]
  },
  {
   "cell_type": "code",
   "execution_count": null,
   "id": "ad64e5d3",
   "metadata": {},
   "outputs": [
    {
     "ename": "",
     "evalue": "",
     "output_type": "error",
     "traceback": [
      "\u001b[1;31mnotebook controller is DISPOSED. \n",
      "\u001b[1;31mView Jupyter <a href='command:jupyter.viewOutput'>log</a> for further details."
     ]
    },
    {
     "ename": "",
     "evalue": "",
     "output_type": "error",
     "traceback": [
      "\u001b[1;31mnotebook controller is DISPOSED. \n",
      "\u001b[1;31mView Jupyter <a href='command:jupyter.viewOutput'>log</a> for further details."
     ]
    }
   ],
   "source": [
    "top_10_days_2009 = \"\"\"\n",
    "SELECT tpep_pickup_datetime\n",
    "pickup_datetime\n",
    "AVG(tpep_pickup_datetime)\n",
    "\"\"\""
   ]
  },
  {
   "cell_type": "code",
   "execution_count": null,
   "id": "0047991a",
   "metadata": {},
   "outputs": [
    {
     "ename": "",
     "evalue": "",
     "output_type": "error",
     "traceback": [
      "\u001b[1;31mnotebook controller is DISPOSED. \n",
      "\u001b[1;31mView Jupyter <a href='command:jupyter.viewOutput'>log</a> for further details."
     ]
    },
    {
     "ename": "",
     "evalue": "",
     "output_type": "error",
     "traceback": [
      "\u001b[1;31mnotebook controller is DISPOSED. \n",
      "\u001b[1;31mView Jupyter <a href='command:jupyter.viewOutput'>log</a> for further details."
     ]
    }
   ],
   "source": [
    "engine.execute(top_10_days_2009).fetchall()"
   ]
  },
  {
   "cell_type": "code",
   "execution_count": null,
   "id": "9ec07b6e",
   "metadata": {},
   "outputs": [
    {
     "ename": "",
     "evalue": "",
     "output_type": "error",
     "traceback": [
      "\u001b[1;31mnotebook controller is DISPOSED. \n",
      "\u001b[1;31mView Jupyter <a href='command:jupyter.viewOutput'>log</a> for further details."
     ]
    },
    {
     "ename": "",
     "evalue": "",
     "output_type": "error",
     "traceback": [
      "\u001b[1;31mnotebook controller is DISPOSED. \n",
      "\u001b[1;31mView Jupyter <a href='command:jupyter.viewOutput'>log</a> for further details."
     ]
    }
   ],
   "source": [
    "write_query_to_file(top_10_days_2009, \"top_10_days_2009.sql\")"
   ]
  },
  {
   "cell_type": "markdown",
   "id": "62d2ff1d",
   "metadata": {},
   "source": [
    "### Which 10 days in 2014 were the windiest, and how many hired trips were made on those days?\n",
    "_**TODO:** Write some prose that tells the reader what you're about to do here.\n"
   ]
  },
  {
   "cell_type": "code",
   "execution_count": null,
   "id": "39cd612a",
   "metadata": {},
   "outputs": [
    {
     "ename": "",
     "evalue": "",
     "output_type": "error",
     "traceback": [
      "\u001b[1;31mnotebook controller is DISPOSED. \n",
      "\u001b[1;31mView Jupyter <a href='command:jupyter.viewOutput'>log</a> for further details."
     ]
    },
    {
     "ename": "",
     "evalue": "",
     "output_type": "error",
     "traceback": [
      "\u001b[1;31mnotebook controller is DISPOSED. \n",
      "\u001b[1;31mView Jupyter <a href='command:jupyter.viewOutput'>log</a> for further details."
     ]
    }
   ],
   "source": [
    "windiest_days= \"\"\"\n",
    "From daily_wheather WHERE Year(Date) LIKE 2014 ORDER BY wind LIMIT 10\n",
    "\"\"\""
   ]
  },
  {
   "cell_type": "code",
   "execution_count": null,
   "id": "ba588b07",
   "metadata": {},
   "outputs": [
    {
     "ename": "",
     "evalue": "",
     "output_type": "error",
     "traceback": [
      "\u001b[1;31mnotebook controller is DISPOSED. \n",
      "\u001b[1;31mView Jupyter <a href='command:jupyter.viewOutput'>log</a> for further details."
     ]
    },
    {
     "ename": "",
     "evalue": "",
     "output_type": "error",
     "traceback": [
      "\u001b[1;31mnotebook controller is DISPOSED. \n",
      "\u001b[1;31mView Jupyter <a href='command:jupyter.viewOutput'>log</a> for further details."
     ]
    }
   ],
   "source": [
    "engine.execute(windiest_days).fetchall()"
   ]
  },
  {
   "cell_type": "code",
   "execution_count": null,
   "id": "810602a6",
   "metadata": {},
   "outputs": [
    {
     "ename": "",
     "evalue": "",
     "output_type": "error",
     "traceback": [
      "\u001b[1;31mnotebook controller is DISPOSED. \n",
      "\u001b[1;31mView Jupyter <a href='command:jupyter.viewOutput'>log</a> for further details."
     ]
    },
    {
     "ename": "",
     "evalue": "",
     "output_type": "error",
     "traceback": [
      "\u001b[1;31mnotebook controller is DISPOSED. \n",
      "\u001b[1;31mView Jupyter <a href='command:jupyter.viewOutput'>log</a> for further details."
     ]
    }
   ],
   "source": [
    "write_query_to_file(windiest_days, \"windiest_days.sql\")"
   ]
  },
  {
   "cell_type": "markdown",
   "id": "233493b9",
   "metadata": {},
   "source": [
    "### What is the 95% percentile of distance traveled for all hired trips during July 2013?\n",
    "_**TODO:** Write some prose that tells the reader what you're about to do here._\n"
   ]
  },
  {
   "cell_type": "code",
   "execution_count": null,
   "id": "f5c8f7c3",
   "metadata": {},
   "outputs": [
    {
     "ename": "",
     "evalue": "",
     "output_type": "error",
     "traceback": [
      "\u001b[1;31mnotebook controller is DISPOSED. \n",
      "\u001b[1;31mView Jupyter <a href='command:jupyter.viewOutput'>log</a> for further details."
     ]
    },
    {
     "ename": "",
     "evalue": "",
     "output_type": "error",
     "traceback": [
      "\u001b[1;31mnotebook controller is DISPOSED. \n",
      "\u001b[1;31mView Jupyter <a href='command:jupyter.viewOutput'>log</a> for further details."
     ]
    }
   ],
   "source": [
    "distance_95th_2013 =\"\"\"\n",
    "\"\"\""
   ]
  },
  {
   "cell_type": "code",
   "execution_count": null,
   "id": "dabe0542",
   "metadata": {},
   "outputs": [
    {
     "ename": "",
     "evalue": "",
     "output_type": "error",
     "traceback": [
      "\u001b[1;31mnotebook controller is DISPOSED. \n",
      "\u001b[1;31mView Jupyter <a href='command:jupyter.viewOutput'>log</a> for further details."
     ]
    },
    {
     "ename": "",
     "evalue": "",
     "output_type": "error",
     "traceback": [
      "\u001b[1;31mnotebook controller is DISPOSED. \n",
      "\u001b[1;31mView Jupyter <a href='command:jupyter.viewOutput'>log</a> for further details."
     ]
    }
   ],
   "source": [
    "engine.execute(distance_95th_2013).fetchall()"
   ]
  },
  {
   "cell_type": "code",
   "execution_count": null,
   "id": "875e09b4",
   "metadata": {},
   "outputs": [
    {
     "ename": "",
     "evalue": "",
     "output_type": "error",
     "traceback": [
      "\u001b[1;31mnotebook controller is DISPOSED. \n",
      "\u001b[1;31mView Jupyter <a href='command:jupyter.viewOutput'>log</a> for further details."
     ]
    },
    {
     "ename": "",
     "evalue": "",
     "output_type": "error",
     "traceback": [
      "\u001b[1;31mnotebook controller is DISPOSED. \n",
      "\u001b[1;31mView Jupyter <a href='command:jupyter.viewOutput'>log</a> for further details."
     ]
    }
   ],
   "source": [
    "write_query_to_file(distance_95th_2013, \"95th_distance_2013.sql\")"
   ]
  },
  {
   "cell_type": "markdown",
   "id": "a0963a0f",
   "metadata": {},
   "source": [
    "### During Hurricane Sandy in NYC (Oct 29-30, 2012) and the week leading up to it, how many trips were taken each hour, and for each hour, how much precipitation did NYC receive and what was the sustained wind speed?\n",
    "\n",
    "_**TODO:** Write some prose that tells the reader what you're about to do here._\n"
   ]
  },
  {
   "cell_type": "code",
   "execution_count": null,
   "id": "607aece2",
   "metadata": {},
   "outputs": [
    {
     "ename": "",
     "evalue": "",
     "output_type": "error",
     "traceback": [
      "\u001b[1;31mnotebook controller is DISPOSED. \n",
      "\u001b[1;31mView Jupyter <a href='command:jupyter.viewOutput'>log</a> for further details."
     ]
    },
    {
     "ename": "",
     "evalue": "",
     "output_type": "error",
     "traceback": [
      "\u001b[1;31mnotebook controller is DISPOSED. \n",
      "\u001b[1;31mView Jupyter <a href='command:jupyter.viewOutput'>log</a> for further details."
     ]
    }
   ],
   "source": [
    "sandy = \"\"\" \n",
    "\"\"\""
   ]
  },
  {
   "cell_type": "code",
   "execution_count": null,
   "id": "bb918b01",
   "metadata": {},
   "outputs": [
    {
     "ename": "",
     "evalue": "",
     "output_type": "error",
     "traceback": [
      "\u001b[1;31mnotebook controller is DISPOSED. \n",
      "\u001b[1;31mView Jupyter <a href='command:jupyter.viewOutput'>log</a> for further details."
     ]
    },
    {
     "ename": "",
     "evalue": "",
     "output_type": "error",
     "traceback": [
      "\u001b[1;31mnotebook controller is DISPOSED. \n",
      "\u001b[1;31mView Jupyter <a href='command:jupyter.viewOutput'>log</a> for further details."
     ]
    }
   ],
   "source": [
    "engine.execute(sandy).fetchall()"
   ]
  },
  {
   "cell_type": "code",
   "execution_count": null,
   "id": "d97d083c",
   "metadata": {},
   "outputs": [
    {
     "ename": "",
     "evalue": "",
     "output_type": "error",
     "traceback": [
      "\u001b[1;31mnotebook controller is DISPOSED. \n",
      "\u001b[1;31mView Jupyter <a href='command:jupyter.viewOutput'>log</a> for further details."
     ]
    },
    {
     "ename": "",
     "evalue": "",
     "output_type": "error",
     "traceback": [
      "\u001b[1;31mnotebook controller is DISPOSED. \n",
      "\u001b[1;31mView Jupyter <a href='command:jupyter.viewOutput'>log</a> for further details."
     ]
    }
   ],
   "source": [
    "write_query_to_file(sandy, \"Sandy.sql\")"
   ]
  },
  {
   "cell_type": "markdown",
   "id": "a13ced42",
   "metadata": {},
   "source": [
    "## Part 4: Visualizing the Data\n",
    "\n",
    "_A checklist of requirements to keep you on track. Remove this whole cell before submitting the project. The order of these tasks aren't necessarily the order in which they need to be done. It's okay to do them in an order that makes sense to you._\n",
    "\n",
    "* [ ] Create an appropriate visualization for the first query/question in part 3\n",
    "* [ ] Create a visualization that shows the average distance traveled per month (regardless of year - so group by each month). Include the 90% confidence interval around the mean in the visualization\n",
    "* [ ] Define three lat/long coordinate boxes around the three major New York airports: LGA, JFK, and EWR (you can use bboxfinder to help). Create a visualization that compares what day of the week was most popular for drop offs for each airport.\n",
    "* [ ] Create a heatmap of all hired trips over a map of the area. Consider using KeplerGL or another library that helps generate geospatial visualizations.\n",
    "* [ ] Create a scatter plot that compares tip amount versus distance.\n",
    "* [ ] Create another scatter plot that compares tip amount versus precipitation amount.\n",
    "\n",
    "_Be sure these cells are executed so that the visualizations are rendered when the notebook is submitted._"
   ]
  },
  {
   "cell_type": "markdown",
   "id": "51149848",
   "metadata": {},
   "source": [
    "### Visualization: For 01-2009 through 06-2015, what hour of the day was the most popular to take a yellow taxi? \n",
    "_**TODO:** Write some prose that tells the reader what you're about to do here._\n"
   ]
  },
  {
   "cell_type": "code",
   "execution_count": null,
   "id": "016671a7",
   "metadata": {},
   "outputs": [
    {
     "ename": "",
     "evalue": "",
     "output_type": "error",
     "traceback": [
      "\u001b[1;31mnotebook controller is DISPOSED. \n",
      "\u001b[1;31mView Jupyter <a href='command:jupyter.viewOutput'>log</a> for further details."
     ]
    },
    {
     "ename": "",
     "evalue": "",
     "output_type": "error",
     "traceback": [
      "\u001b[1;31mnotebook controller is DISPOSED. \n",
      "\u001b[1;31mView Jupyter <a href='command:jupyter.viewOutput'>log</a> for further details."
     ]
    }
   ],
   "source": [
    "def plot_visual_hour_of_day(dataframe):\n",
    "    figure, axes = plt.subplots(figsize=(20, 10))\n",
    "    \n",
    "    values = \"...\"  # use the dataframe to pull out values needed to plot\n",
    "    \n",
    "    # you may want to use matplotlib to plot your visualizations;\n",
    "    # there are also many other plot types (other \n",
    "    # than axes.plot) you can use\n",
    "    axes.plot(values, \"...\")\n",
    "    # there are other methods to use to label your axes, to style \n",
    "    # and set up axes labels, etc\n",
    "    axes.set_title(\"Some Descriptive Title\")\n",
    "    \n",
    "    plt.show()"
   ]
  },
  {
   "cell_type": "code",
   "execution_count": null,
   "id": "77a1eda0",
   "metadata": {},
   "outputs": [
    {
     "ename": "",
     "evalue": "",
     "output_type": "error",
     "traceback": [
      "\u001b[1;31mnotebook controller is DISPOSED. \n",
      "\u001b[1;31mView Jupyter <a href='command:jupyter.viewOutput'>log</a> for further details."
     ]
    },
    {
     "ename": "",
     "evalue": "",
     "output_type": "error",
     "traceback": [
      "\u001b[1;31mnotebook controller is DISPOSED. \n",
      "\u001b[1;31mView Jupyter <a href='command:jupyter.viewOutput'>log</a> for further details."
     ]
    }
   ],
   "source": [
    "some_dataframe = get_data_for_visual_n()\n",
    "plot_visual_n(some_dataframe)"
   ]
  },
  {
   "cell_type": "markdown",
   "id": "dcc9877d",
   "metadata": {},
   "source": [
    "### Visualization: Define three lat/long coordinate boxes around the three major New York airports: LGA, JFK, and EWR. Compares what day of the week was most popular for drop offs for each airport.\n",
    "_**TODO:** Write some prose that tells the reader what you're about to do here._\n",
    "\n",
    "\n",
    "EWR (Newark): -74.195995,40.664103,-74.148445,40.713045\n",
    "\n",
    "JFK: -73.832496,40.618362,-73.744262,40.669421\n",
    "\n",
    "LGA (LaGuardia): -73.892010,40.764638,-73.852357,40.787711"
   ]
  },
  {
   "cell_type": "code",
   "execution_count": null,
   "id": "2318a6ef",
   "metadata": {},
   "outputs": [
    {
     "ename": "",
     "evalue": "",
     "output_type": "error",
     "traceback": [
      "\u001b[1;31mnotebook controller is DISPOSED. \n",
      "\u001b[1;31mView Jupyter <a href='command:jupyter.viewOutput'>log</a> for further details."
     ]
    },
    {
     "ename": "",
     "evalue": "",
     "output_type": "error",
     "traceback": [
      "\u001b[1;31mnotebook controller is DISPOSED. \n",
      "\u001b[1;31mView Jupyter <a href='command:jupyter.viewOutput'>log</a> for further details."
     ]
    }
   ],
   "source": [
    "# needs to be fixed up for our purposes\n",
    "# Just looking at uber data?????\n",
    "def get_zone(lon,lat,airport_boxes):\n",
    "    \n",
    "    #MY CODE STARTS HERE\n",
    "    # long is x lat is y \n",
    "    \n",
    "    for item in airport_boxes:\n",
    "        #print(item)\n",
    "        if (item[1][0][0] <= lon <= item[1][1][0]) & (item[1][0][1] <= lat <= item[1][2][1]):\n",
    "            zone = item[0]\n",
    "            # want to return airport name \n",
    "        else:\n",
    "            # want to return na if no airport name\n",
    "            break\n",
    "\n",
    "df['dropoff_zone'] = df.apply(lambda x: get_zone(x[\"dropoff_longitude\"], x[\"dropoff_latitude\"], zone_table),axis =1)\n",
    "        "
   ]
  },
  {
   "cell_type": "code",
   "execution_count": null,
   "id": "2e92c3a0",
   "metadata": {},
   "outputs": [
    {
     "ename": "",
     "evalue": "",
     "output_type": "error",
     "traceback": [
      "\u001b[1;31mnotebook controller is DISPOSED. \n",
      "\u001b[1;31mView Jupyter <a href='command:jupyter.viewOutput'>log</a> for further details."
     ]
    },
    {
     "ename": "",
     "evalue": "",
     "output_type": "error",
     "traceback": [
      "\u001b[1;31mnotebook controller is DISPOSED. \n",
      "\u001b[1;31mView Jupyter <a href='command:jupyter.viewOutput'>log</a> for further details."
     ]
    }
   ],
   "source": [
    "def plot_visual_hour_of_day(dataframe):\n",
    "    figure, axes = plt.subplots(figsize=(20, 10))\n",
    "    \n",
    "    values = \"...\"  # use the dataframe to pull out values needed to plot\n",
    "    \n",
    "    # you may want to use matplotlib to plot your visualizations;\n",
    "    # there are also many other plot types (other \n",
    "    # than axes.plot) you can use\n",
    "    axes.plot(values, \"...\")\n",
    "    # there are other methods to use to label your axes, to style \n",
    "    # and set up axes labels, etc\n",
    "    axes.set_title(\"Some Descriptive Title\")\n",
    "    \n",
    "    plt.show()"
   ]
  },
  {
   "cell_type": "code",
   "execution_count": null,
   "id": "fcd695dc",
   "metadata": {},
   "outputs": [
    {
     "ename": "",
     "evalue": "",
     "output_type": "error",
     "traceback": [
      "\u001b[1;31mnotebook controller is DISPOSED. \n",
      "\u001b[1;31mView Jupyter <a href='command:jupyter.viewOutput'>log</a> for further details."
     ]
    },
    {
     "ename": "",
     "evalue": "",
     "output_type": "error",
     "traceback": [
      "\u001b[1;31mnotebook controller is DISPOSED. \n",
      "\u001b[1;31mView Jupyter <a href='command:jupyter.viewOutput'>log</a> for further details."
     ]
    }
   ],
   "source": [
    "some_dataframe = get_data_for_visual_n()\n",
    "plot_visual_n(some_dataframe)"
   ]
  },
  {
   "cell_type": "markdown",
   "id": "7595367c",
   "metadata": {},
   "source": [
    "### Visualization:  A heatmap of all hired trips over a map of the area\n",
    "\n",
    "_**TODO:** Write some prose that tells the reader what you're about to do here._"
   ]
  },
  {
   "cell_type": "code",
   "execution_count": null,
   "id": "daf53e21",
   "metadata": {},
   "outputs": [
    {
     "ename": "",
     "evalue": "",
     "output_type": "error",
     "traceback": [
      "\u001b[1;31mnotebook controller is DISPOSED. \n",
      "\u001b[1;31mView Jupyter <a href='command:jupyter.viewOutput'>log</a> for further details."
     ]
    },
    {
     "ename": "",
     "evalue": "",
     "output_type": "error",
     "traceback": [
      "\u001b[1;31mnotebook controller is DISPOSED. \n",
      "\u001b[1;31mView Jupyter <a href='command:jupyter.viewOutput'>log</a> for further details."
     ]
    }
   ],
   "source": [
    "def plot_visual_hour_of_day(dataframe):\n",
    "    figure, axes = plt.subplots(figsize=(20, 10))\n",
    "    \n",
    "    values = \"...\"  # use the dataframe to pull out values needed to plot\n",
    "    \n",
    "    # you may want to use matplotlib to plot your visualizations;\n",
    "    # there are also many other plot types (other \n",
    "    # than axes.plot) you can use\n",
    "    axes.plot(values, \"...\")\n",
    "    # there are other methods to use to label your axes, to style \n",
    "    # and set up axes labels, etc\n",
    "    axes.set_title(\"Some Descriptive Title\")\n",
    "    \n",
    "    plt.show()"
   ]
  },
  {
   "cell_type": "code",
   "execution_count": null,
   "id": "dc57b426",
   "metadata": {},
   "outputs": [
    {
     "ename": "",
     "evalue": "",
     "output_type": "error",
     "traceback": [
      "\u001b[1;31mnotebook controller is DISPOSED. \n",
      "\u001b[1;31mView Jupyter <a href='command:jupyter.viewOutput'>log</a> for further details."
     ]
    },
    {
     "ename": "",
     "evalue": "",
     "output_type": "error",
     "traceback": [
      "\u001b[1;31mnotebook controller is DISPOSED. \n",
      "\u001b[1;31mView Jupyter <a href='command:jupyter.viewOutput'>log</a> for further details."
     ]
    }
   ],
   "source": [
    "some_dataframe = get_data_for_visual_n()\n",
    "plot_visual_n(some_dataframe)"
   ]
  },
  {
   "cell_type": "markdown",
   "id": "2b19657f",
   "metadata": {},
   "source": [
    "### Visualization: The average distance traveled per month (regardless of year - so group by each month). Include the 90% confidence interval around the mean in the visualization\n",
    "\n",
    "_**TODO:** Write some prose that tells the reader what you're about to do here._\n",
    "\n",
    "_Repeat for each visualization._\n",
    "\n",
    "_The example below makes use of the `matplotlib` library. There are other libraries, including `pandas` built-in plotting library, kepler for geospatial data representation, `seaborn`, and others._"
   ]
  },
  {
   "cell_type": "markdown",
   "id": "528da4c7",
   "metadata": {},
   "source": [
    "### Visualization: A scatter plot that compares tip amount versus distance\n",
    "_**TODO:** Write some prose that tells the reader what you're about to do here._"
   ]
  },
  {
   "cell_type": "code",
   "execution_count": null,
   "id": "3012e6cc",
   "metadata": {},
   "outputs": [
    {
     "ename": "",
     "evalue": "",
     "output_type": "error",
     "traceback": [
      "\u001b[1;31mnotebook controller is DISPOSED. \n",
      "\u001b[1;31mView Jupyter <a href='command:jupyter.viewOutput'>log</a> for further details."
     ]
    },
    {
     "ename": "",
     "evalue": "",
     "output_type": "error",
     "traceback": [
      "\u001b[1;31mnotebook controller is DISPOSED. \n",
      "\u001b[1;31mView Jupyter <a href='command:jupyter.viewOutput'>log</a> for further details."
     ]
    }
   ],
   "source": [
    "def plot_visual_hour_of_day(dataframe):\n",
    "    figure, axes = plt.subplots(figsize=(20, 10))\n",
    "    \n",
    "    values = \"...\"  # use the dataframe to pull out values needed to plot\n",
    "    \n",
    "    # you may want to use matplotlib to plot your visualizations;\n",
    "    # there are also many other plot types (other \n",
    "    # than axes.plot) you can use\n",
    "    axes.plot(values, \"...\")\n",
    "    # there are other methods to use to label your axes, to style \n",
    "    # and set up axes labels, etc\n",
    "    axes.set_title(\"Some Descriptive Title\")\n",
    "    \n",
    "    plt.show()"
   ]
  },
  {
   "cell_type": "code",
   "execution_count": null,
   "id": "9055e3c6",
   "metadata": {},
   "outputs": [
    {
     "ename": "",
     "evalue": "",
     "output_type": "error",
     "traceback": [
      "\u001b[1;31mnotebook controller is DISPOSED. \n",
      "\u001b[1;31mView Jupyter <a href='command:jupyter.viewOutput'>log</a> for further details."
     ]
    },
    {
     "ename": "",
     "evalue": "",
     "output_type": "error",
     "traceback": [
      "\u001b[1;31mnotebook controller is DISPOSED. \n",
      "\u001b[1;31mView Jupyter <a href='command:jupyter.viewOutput'>log</a> for further details."
     ]
    }
   ],
   "source": [
    "some_dataframe = get_data_for_visual_n()\n",
    "plot_visual_n(some_dataframe)"
   ]
  },
  {
   "cell_type": "markdown",
   "id": "5f240076",
   "metadata": {},
   "source": [
    "### Visualization: A scatter plot that compares tip amount versus precipitation amount\n",
    "_**TODO:** Write some prose that tells the reader what you're about to do here._"
   ]
  },
  {
   "cell_type": "code",
   "execution_count": null,
   "id": "1c011ea1",
   "metadata": {},
   "outputs": [
    {
     "ename": "",
     "evalue": "",
     "output_type": "error",
     "traceback": [
      "\u001b[1;31mnotebook controller is DISPOSED. \n",
      "\u001b[1;31mView Jupyter <a href='command:jupyter.viewOutput'>log</a> for further details."
     ]
    },
    {
     "ename": "",
     "evalue": "",
     "output_type": "error",
     "traceback": [
      "\u001b[1;31mnotebook controller is DISPOSED. \n",
      "\u001b[1;31mView Jupyter <a href='command:jupyter.viewOutput'>log</a> for further details."
     ]
    }
   ],
   "source": [
    "def plot_visual_hour_of_day(dataframe):\n",
    "    figure, axes = plt.subplots(figsize=(20, 10))\n",
    "    \n",
    "    values = \"...\"  # use the dataframe to pull out values needed to plot\n",
    "    \n",
    "    # you may want to use matplotlib to plot your visualizations;\n",
    "    # there are also many other plot types (other \n",
    "    # than axes.plot) you can use\n",
    "    axes.plot(values, \"...\")\n",
    "    # there are other methods to use to label your axes, to style \n",
    "    # and set up axes labels, etc\n",
    "    axes.set_title(\"Some Descriptive Title\")\n",
    "    \n",
    "    plt.show()"
   ]
  },
  {
   "cell_type": "code",
   "execution_count": null,
   "id": "103741b0",
   "metadata": {},
   "outputs": [
    {
     "ename": "",
     "evalue": "",
     "output_type": "error",
     "traceback": [
      "\u001b[1;31mnotebook controller is DISPOSED. \n",
      "\u001b[1;31mView Jupyter <a href='command:jupyter.viewOutput'>log</a> for further details."
     ]
    },
    {
     "ename": "",
     "evalue": "",
     "output_type": "error",
     "traceback": [
      "\u001b[1;31mnotebook controller is DISPOSED. \n",
      "\u001b[1;31mView Jupyter <a href='command:jupyter.viewOutput'>log</a> for further details."
     ]
    }
   ],
   "source": [
    "some_dataframe = get_data_for_visual_n()\n",
    "plot_visual_n(some_dataframe)"
   ]
  },
  {
   "cell_type": "markdown",
   "id": "6d9eef42",
   "metadata": {},
   "source": [
    "### Visualization N\n",
    "\n",
    "_**TODO:** Write some prose that tells the reader what you're about to do here._\n",
    "\n",
    "_Repeat for each visualization._\n",
    "\n",
    "_The example below makes use of the `matplotlib` library. There are other libraries, including `pandas` built-in plotting library, kepler for geospatial data representation, `seaborn`, and others._"
   ]
  },
  {
   "cell_type": "code",
   "execution_count": null,
   "id": "0de8394c",
   "metadata": {},
   "outputs": [
    {
     "ename": "",
     "evalue": "",
     "output_type": "error",
     "traceback": [
      "\u001b[1;31mnotebook controller is DISPOSED. \n",
      "\u001b[1;31mView Jupyter <a href='command:jupyter.viewOutput'>log</a> for further details."
     ]
    },
    {
     "ename": "",
     "evalue": "",
     "output_type": "error",
     "traceback": [
      "\u001b[1;31mnotebook controller is DISPOSED. \n",
      "\u001b[1;31mView Jupyter <a href='command:jupyter.viewOutput'>log</a> for further details."
     ]
    }
   ],
   "source": [
    "# use a more descriptive name for your function\n",
    "def plot_visual_n(dataframe):\n",
    "    figure, axes = plt.subplots(figsize=(20, 10))\n",
    "    \n",
    "    values = \"...\"  # use the dataframe to pull out values needed to plot\n",
    "    \n",
    "    # you may want to use matplotlib to plot your visualizations;\n",
    "    # there are also many other plot types (other \n",
    "    # than axes.plot) you can use\n",
    "    axes.plot(values, \"...\")\n",
    "    # there are other methods to use to label your axes, to style \n",
    "    # and set up axes labels, etc\n",
    "    axes.set_title(\"Some Descriptive Title\")\n",
    "    \n",
    "    plt.show()"
   ]
  },
  {
   "cell_type": "code",
   "execution_count": null,
   "id": "847ced2f",
   "metadata": {},
   "outputs": [
    {
     "ename": "",
     "evalue": "",
     "output_type": "error",
     "traceback": [
      "\u001b[1;31mnotebook controller is DISPOSED. \n",
      "\u001b[1;31mView Jupyter <a href='command:jupyter.viewOutput'>log</a> for further details."
     ]
    },
    {
     "ename": "",
     "evalue": "",
     "output_type": "error",
     "traceback": [
      "\u001b[1;31mnotebook controller is DISPOSED. \n",
      "\u001b[1;31mView Jupyter <a href='command:jupyter.viewOutput'>log</a> for further details."
     ]
    }
   ],
   "source": [
    "def get_data_for_visual_n():\n",
    "    # Query SQL database for the data needed.\n",
    "    # You can put the data queried into a pandas dataframe, if you wish\n",
    "    raise NotImplemented()"
   ]
  },
  {
   "cell_type": "code",
   "execution_count": null,
   "id": "3c63e845",
   "metadata": {},
   "outputs": [
    {
     "ename": "",
     "evalue": "",
     "output_type": "error",
     "traceback": [
      "\u001b[1;31mnotebook controller is DISPOSED. \n",
      "\u001b[1;31mView Jupyter <a href='command:jupyter.viewOutput'>log</a> for further details."
     ]
    },
    {
     "ename": "",
     "evalue": "",
     "output_type": "error",
     "traceback": [
      "\u001b[1;31mnotebook controller is DISPOSED. \n",
      "\u001b[1;31mView Jupyter <a href='command:jupyter.viewOutput'>log</a> for further details."
     ]
    }
   ],
   "source": [
    "some_dataframe = get_data_for_visual_n()\n",
    "plot_visual_n(some_dataframe)"
   ]
  }
 ],
 "metadata": {
  "kernelspec": {
   "display_name": "Python 3.9.12 ('base')",
   "language": "python",
   "name": "python3"
  },
  "language_info": {
   "codemirror_mode": {
    "name": "ipython",
    "version": 3
   },
   "file_extension": ".py",
   "mimetype": "text/x-python",
   "name": "python",
   "nbconvert_exporter": "python",
   "pygments_lexer": "ipython3",
   "version": "3.9.12"
  },
  "vscode": {
   "interpreter": {
    "hash": "6fa68bb73451efc61706d715b46efd745ccab7b86462809ef43c0a1824a5bb9d"
   }
  }
 },
 "nbformat": 4,
 "nbformat_minor": 5
}
